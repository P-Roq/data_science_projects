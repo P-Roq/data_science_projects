{
 "cells": [
  {
   "cell_type": "markdown",
   "metadata": {},
   "source": [
    "# Project 1 - Data Science -  Predicting Car Prices Using K-nearest Neighbors Regressions"
   ]
  },
  {
   "cell_type": "code",
   "execution_count": 1,
   "metadata": {
    "init_cell": true
   },
   "outputs": [],
   "source": [
    "import numpy as np\n",
    "import pandas as pd\n",
    "import re\n",
    "import matplotlib.pyplot as plt\n",
    "import seaborn as sns\n",
    "\n",
    "%matplotlib inline"
   ]
  },
  {
   "cell_type": "markdown",
   "metadata": {},
   "source": [
    "## Slide 1\n",
    "---\n",
    "In this course, we explored the fundamentals of machine learning using the k-nearest neighbors algorithm. In this guided project, you'll practice the machine learning workflow you've learned so far to predict a car's market price using its attributes. The data set we will be working with contains information on various cars. For each car we have information about the technical aspects of the vehicle such as the motor's displacement, the weight of the car, the miles per gallon, how fast the car accelerates, and more. You can read more about the data set [here](https://archive.ics.uci.edu/ml/datasets/automobile). \n",
    "\n",
    "You can find the solutions for this guided project [here](https://github.com/dataquestio/solutions/blob/master/Mission155Solutions.ipynb).\n",
    "\n",
    "\n",
    "#### Instructions\n",
    "---\n",
    "- Read `imports-85.data` into a dataframe named `cars`. If you read in the file using `pandas.read_csv()` without specifying any additional parameter values, you'll notice that the column names don't match the ones in the dataset's documentation (see variable descriptions below). Why do you think this is and how can you fix this?\n",
    "   \n",
    "   \n",
    "- Determine which columns are numeric and can be used as features and which column is the target column.\n",
    "   \n",
    "   \n",
    "- Display the first few rows of the dataframe and make sure it looks like the data set preview."
   ]
  },
  {
   "cell_type": "markdown",
   "metadata": {},
   "source": [
    "From the source:\n",
    "\n",
    "### Data Set Information:\n",
    "\n",
    "This data set consists of three types of entities: (a) the specification of an auto in terms of various characteristics, (b) its assigned insurance risk rating, (c) its normalized losses in use as compared to other cars. The second rating corresponds to the degree to which the auto is more risky than its price indicates. Cars are initially assigned a risk factor symbol associated with its price. Then, if it is more risky (or less), this symbol is adjusted by moving it up (or down) the scale. Actuarians call this process \"symboling\". A value of +3 indicates that the auto is risky, -3 that it is probably pretty safe.\n",
    "\n",
    "The third factor is the relative average loss payment per insured vehicle year. This value is normalized for all autos within a particular size classification (two-door small, station wagons, sports/speciality, etc...), and represents the average loss per car per year.\n",
    "\n",
    "Note: Several of the attributes in the database could be used as a \"class\" attribute.\n",
    "\n",
    "\n",
    "### Attribute Information:\n",
    "\n",
    "#### Attribute: Attribute Range\n",
    "\n",
    "1. `symboling`: -3, -2, -1, 0, 1, 2, 3.\n",
    "2. `normalized-losses`: continuous from 65 to 256.\n",
    "3. `make`:\n",
    "alfa-romero, audi, bmw, chevrolet, dodge, honda,\n",
    "isuzu, jaguar, mazda, mercedes-benz, mercury,\n",
    "mitsubishi, nissan, peugot, plymouth, porsche,\n",
    "renault, saab, subaru, toyota, volkswagen, volvo\n",
    "\n",
    "4. `fuel-type`: diesel, gas.\n",
    "5. `aspiration`: std, turbo.\n",
    "6. `num-of-doors`: four, two.\n",
    "7. `body-style`: hardtop, wagon, sedan, hatchback, convertible.\n",
    "8. `drive-wheels`: 4wd, fwd, rwd.\n",
    "9. `engine-location`: front, rear.\n",
    "10. `wheel-base`: continuous from 86.6 120.9.\n",
    "11. `length`: continuous from 141.1 to 208.1.\n",
    "12. `width`: continuous from 60.3 to 72.3.\n",
    "13. `height`: continuous from 47.8 to 59.8.\n",
    "14. `curb-weight`: continuous from 1488 to 4066.\n",
    "15. `engine-type`: dohc, dohcv, l, ohc, ohcf, ohcv, rotor.\n",
    "16. `num-of-cylinders`: eight, five, four, six, three, twelve, two.\n",
    "17. `engine-size`: continuous from 61 to 326.\n",
    "18. `fuel-system`: 1bbl, 2bbl, 4bbl, idi, mfi, mpfi, spdi, spfi.\n",
    "19. `bore`: continuous from 2.54 to 3.94.\n",
    "20. `stroke`: continuous from 2.07 to 4.17.\n",
    "21. `compression-ratio`: continuous from 7 to 23.\n",
    "22. `horsepower`: continuous from 48 to 288.\n",
    "23. `peak-rpm`: continuous from 4150 to 6600.\n",
    "24. `city-mpg`: continuous from 13 to 49.\n",
    "25. `highway-mpg`: continuous from 16 to 54.\n",
    "26. `price`: continuous from 5118 to 45400."
   ]
  },
  {
   "cell_type": "markdown",
   "metadata": {},
   "source": [
    "The data set and its index are not in the same file, so we read the index first and plug it into the main DataFrame while reading it. "
   ]
  },
  {
   "cell_type": "code",
   "execution_count": 130,
   "metadata": {},
   "outputs": [],
   "source": [
    "cars_index = pd.read_csv('imports-85_column_index.csv', header=None, names=['cols'])\n",
    "\n",
    "cars = pd.read_csv('imports-85.data', header=None, names=cars_index['cols'])"
   ]
  },
  {
   "cell_type": "code",
   "execution_count": 131,
   "metadata": {},
   "outputs": [
    {
     "data": {
      "text/html": [
       "<div>\n",
       "<style scoped>\n",
       "    .dataframe tbody tr th:only-of-type {\n",
       "        vertical-align: middle;\n",
       "    }\n",
       "\n",
       "    .dataframe tbody tr th {\n",
       "        vertical-align: top;\n",
       "    }\n",
       "\n",
       "    .dataframe thead th {\n",
       "        text-align: right;\n",
       "    }\n",
       "</style>\n",
       "<table border=\"1\" class=\"dataframe\">\n",
       "  <thead>\n",
       "    <tr style=\"text-align: right;\">\n",
       "      <th></th>\n",
       "      <th>symboling</th>\n",
       "      <th>normalized-losses</th>\n",
       "      <th>make</th>\n",
       "      <th>fuel-type</th>\n",
       "      <th>aspiration</th>\n",
       "      <th>num-of-doors</th>\n",
       "      <th>body-style</th>\n",
       "      <th>drive-wheels</th>\n",
       "      <th>engine-location</th>\n",
       "      <th>wheel-base</th>\n",
       "      <th>...</th>\n",
       "      <th>engine-size</th>\n",
       "      <th>fuel-system</th>\n",
       "      <th>bore</th>\n",
       "      <th>stroke</th>\n",
       "      <th>compression-ratio</th>\n",
       "      <th>horsepower</th>\n",
       "      <th>peak-rpm</th>\n",
       "      <th>city-mpg</th>\n",
       "      <th>highway-mpg</th>\n",
       "      <th>price</th>\n",
       "    </tr>\n",
       "  </thead>\n",
       "  <tbody>\n",
       "    <tr>\n",
       "      <th>0</th>\n",
       "      <td>3</td>\n",
       "      <td>?</td>\n",
       "      <td>alfa-romero</td>\n",
       "      <td>gas</td>\n",
       "      <td>std</td>\n",
       "      <td>two</td>\n",
       "      <td>convertible</td>\n",
       "      <td>rwd</td>\n",
       "      <td>front</td>\n",
       "      <td>88.6</td>\n",
       "      <td>...</td>\n",
       "      <td>130</td>\n",
       "      <td>mpfi</td>\n",
       "      <td>3.47</td>\n",
       "      <td>2.68</td>\n",
       "      <td>9.0</td>\n",
       "      <td>111</td>\n",
       "      <td>5000</td>\n",
       "      <td>21</td>\n",
       "      <td>27</td>\n",
       "      <td>13495</td>\n",
       "    </tr>\n",
       "    <tr>\n",
       "      <th>1</th>\n",
       "      <td>3</td>\n",
       "      <td>?</td>\n",
       "      <td>alfa-romero</td>\n",
       "      <td>gas</td>\n",
       "      <td>std</td>\n",
       "      <td>two</td>\n",
       "      <td>convertible</td>\n",
       "      <td>rwd</td>\n",
       "      <td>front</td>\n",
       "      <td>88.6</td>\n",
       "      <td>...</td>\n",
       "      <td>130</td>\n",
       "      <td>mpfi</td>\n",
       "      <td>3.47</td>\n",
       "      <td>2.68</td>\n",
       "      <td>9.0</td>\n",
       "      <td>111</td>\n",
       "      <td>5000</td>\n",
       "      <td>21</td>\n",
       "      <td>27</td>\n",
       "      <td>16500</td>\n",
       "    </tr>\n",
       "    <tr>\n",
       "      <th>2</th>\n",
       "      <td>1</td>\n",
       "      <td>?</td>\n",
       "      <td>alfa-romero</td>\n",
       "      <td>gas</td>\n",
       "      <td>std</td>\n",
       "      <td>two</td>\n",
       "      <td>hatchback</td>\n",
       "      <td>rwd</td>\n",
       "      <td>front</td>\n",
       "      <td>94.5</td>\n",
       "      <td>...</td>\n",
       "      <td>152</td>\n",
       "      <td>mpfi</td>\n",
       "      <td>2.68</td>\n",
       "      <td>3.47</td>\n",
       "      <td>9.0</td>\n",
       "      <td>154</td>\n",
       "      <td>5000</td>\n",
       "      <td>19</td>\n",
       "      <td>26</td>\n",
       "      <td>16500</td>\n",
       "    </tr>\n",
       "    <tr>\n",
       "      <th>3</th>\n",
       "      <td>2</td>\n",
       "      <td>164</td>\n",
       "      <td>audi</td>\n",
       "      <td>gas</td>\n",
       "      <td>std</td>\n",
       "      <td>four</td>\n",
       "      <td>sedan</td>\n",
       "      <td>fwd</td>\n",
       "      <td>front</td>\n",
       "      <td>99.8</td>\n",
       "      <td>...</td>\n",
       "      <td>109</td>\n",
       "      <td>mpfi</td>\n",
       "      <td>3.19</td>\n",
       "      <td>3.40</td>\n",
       "      <td>10.0</td>\n",
       "      <td>102</td>\n",
       "      <td>5500</td>\n",
       "      <td>24</td>\n",
       "      <td>30</td>\n",
       "      <td>13950</td>\n",
       "    </tr>\n",
       "    <tr>\n",
       "      <th>4</th>\n",
       "      <td>2</td>\n",
       "      <td>164</td>\n",
       "      <td>audi</td>\n",
       "      <td>gas</td>\n",
       "      <td>std</td>\n",
       "      <td>four</td>\n",
       "      <td>sedan</td>\n",
       "      <td>4wd</td>\n",
       "      <td>front</td>\n",
       "      <td>99.4</td>\n",
       "      <td>...</td>\n",
       "      <td>136</td>\n",
       "      <td>mpfi</td>\n",
       "      <td>3.19</td>\n",
       "      <td>3.40</td>\n",
       "      <td>8.0</td>\n",
       "      <td>115</td>\n",
       "      <td>5500</td>\n",
       "      <td>18</td>\n",
       "      <td>22</td>\n",
       "      <td>17450</td>\n",
       "    </tr>\n",
       "  </tbody>\n",
       "</table>\n",
       "<p>5 rows × 26 columns</p>\n",
       "</div>"
      ],
      "text/plain": [
       "   symboling normalized-losses         make fuel-type aspiration num-of-doors  \\\n",
       "0          3                 ?  alfa-romero       gas        std          two   \n",
       "1          3                 ?  alfa-romero       gas        std          two   \n",
       "2          1                 ?  alfa-romero       gas        std          two   \n",
       "3          2               164         audi       gas        std         four   \n",
       "4          2               164         audi       gas        std         four   \n",
       "\n",
       "    body-style drive-wheels engine-location  wheel-base  ...  engine-size  \\\n",
       "0  convertible          rwd           front        88.6  ...          130   \n",
       "1  convertible          rwd           front        88.6  ...          130   \n",
       "2    hatchback          rwd           front        94.5  ...          152   \n",
       "3        sedan          fwd           front        99.8  ...          109   \n",
       "4        sedan          4wd           front        99.4  ...          136   \n",
       "\n",
       "   fuel-system  bore  stroke compression-ratio horsepower  peak-rpm city-mpg  \\\n",
       "0         mpfi  3.47    2.68               9.0        111      5000       21   \n",
       "1         mpfi  3.47    2.68               9.0        111      5000       21   \n",
       "2         mpfi  2.68    3.47               9.0        154      5000       19   \n",
       "3         mpfi  3.19    3.40              10.0        102      5500       24   \n",
       "4         mpfi  3.19    3.40               8.0        115      5500       18   \n",
       "\n",
       "  highway-mpg  price  \n",
       "0          27  13495  \n",
       "1          27  16500  \n",
       "2          26  16500  \n",
       "3          30  13950  \n",
       "4          22  17450  \n",
       "\n",
       "[5 rows x 26 columns]"
      ]
     },
     "execution_count": 131,
     "metadata": {},
     "output_type": "execute_result"
    }
   ],
   "source": [
    "cars.head()"
   ]
  },
  {
   "cell_type": "code",
   "execution_count": 132,
   "metadata": {},
   "outputs": [
    {
     "name": "stdout",
     "output_type": "stream",
     "text": [
      "<class 'pandas.core.frame.DataFrame'>\n",
      "RangeIndex: 205 entries, 0 to 204\n",
      "Data columns (total 26 columns):\n",
      " #   Column             Non-Null Count  Dtype  \n",
      "---  ------             --------------  -----  \n",
      " 0   symboling          205 non-null    int64  \n",
      " 1   normalized-losses  205 non-null    object \n",
      " 2   make               205 non-null    object \n",
      " 3   fuel-type          205 non-null    object \n",
      " 4   aspiration         205 non-null    object \n",
      " 5   num-of-doors       205 non-null    object \n",
      " 6   body-style         205 non-null    object \n",
      " 7   drive-wheels       205 non-null    object \n",
      " 8   engine-location    205 non-null    object \n",
      " 9   wheel-base         205 non-null    float64\n",
      " 10  length             205 non-null    float64\n",
      " 11  width              205 non-null    float64\n",
      " 12  height             205 non-null    float64\n",
      " 13  curb-weight        205 non-null    int64  \n",
      " 14  engine-type        205 non-null    object \n",
      " 15  num-of-cylinder    205 non-null    object \n",
      " 16  engine-size        205 non-null    int64  \n",
      " 17  fuel-system        205 non-null    object \n",
      " 18  bore               205 non-null    object \n",
      " 19  stroke             205 non-null    object \n",
      " 20  compression-ratio  205 non-null    float64\n",
      " 21  horsepower         205 non-null    object \n",
      " 22  peak-rpm           205 non-null    object \n",
      " 23  city-mpg           205 non-null    int64  \n",
      " 24  highway-mpg        205 non-null    int64  \n",
      " 25  price              205 non-null    object \n",
      "dtypes: float64(5), int64(5), object(16)\n",
      "memory usage: 28.9+ KB\n"
     ]
    }
   ],
   "source": [
    "cars.info()"
   ]
  },
  {
   "cell_type": "markdown",
   "metadata": {},
   "source": [
    "These following columns are currently numeric:"
   ]
  },
  {
   "cell_type": "code",
   "execution_count": 133,
   "metadata": {},
   "outputs": [
    {
     "name": "stdout",
     "output_type": "stream",
     "text": [
      "symboling: <class 'numpy.int64'>\n",
      "wheel-base: <class 'numpy.float64'>\n",
      "length: <class 'numpy.float64'>\n",
      "width: <class 'numpy.float64'>\n",
      "height: <class 'numpy.float64'>\n",
      "curb-weight: <class 'numpy.int64'>\n",
      "engine-size: <class 'numpy.int64'>\n",
      "compression-ratio: <class 'numpy.float64'>\n",
      "city-mpg: <class 'numpy.int64'>\n",
      "highway-mpg: <class 'numpy.int64'>\n"
     ]
    }
   ],
   "source": [
    "for index, value in enumerate(cars.iloc[0, :]):\n",
    "    if (type(value) == np.float64) | (type(value) == np.int64):\n",
    "        print(f'{cars.columns[index]}: {type(value)}')"
   ]
  },
  {
   "cell_type": "markdown",
   "metadata": {},
   "source": [
    "Other important columns that are numeric in nature, and important when it comes to determine car prices, is for example the car horsepower, which we can see it hasn't been converted yet to a numeric type."
   ]
  },
  {
   "cell_type": "code",
   "execution_count": 134,
   "metadata": {},
   "outputs": [
    {
     "data": {
      "text/plain": [
       "str"
      ]
     },
     "execution_count": 134,
     "metadata": {},
     "output_type": "execute_result"
    }
   ],
   "source": [
    "type(cars.loc[0, 'horsepower'])"
   ]
  },
  {
   "cell_type": "markdown",
   "metadata": {},
   "source": [
    "If we are only considering for now quantitative variables, there some more important than others, notwithstanding a first filtration of variables to use in the prediction follows:\n",
    "\n",
    "\n",
    "- `symboling`\n",
    "- `normalized-losses`\n",
    "- `num-of-doors`\n",
    "- `length`\n",
    "- `width`\n",
    "- `height`\n",
    "- `curb-weight`\n",
    "- `num-of-cylinder`\n",
    "- `engine-size`\n",
    "- `bore`\n",
    "- `stroke`\n",
    "- `compression-ratio`\n",
    "- `horsepower`\n",
    "- `peak-rpm`\n",
    "- `city-mpg`\n",
    "- `highway-mp`\n",
    "   \n",
    "    \n",
    "Let us not forget that we are skipping, for the moment, important categorical data such as the car brand and the fuel type etc, which might be important in predicting car prices."
   ]
  },
  {
   "cell_type": "markdown",
   "metadata": {},
   "source": [
    "## Slide 2\n",
    "---\n",
    "As we learned in this course, we usually can't have any missing values if we want to use them for predictive modeling. Based on the data set preview from the last step, we can tell that the `normalized-losses` column contains missing values represented using `\"?\"`. Let's replace these values and look for the presence of missing values in other numeric columns. Let's also [rescale](https://en.wikipedia.org/wiki/Feature_scaling#Rescaling) the values in the numeric columns so they all range from `0` to `1`.\n",
    "\n",
    "\n",
    "\n",
    "#### Instructions\n",
    "---\n",
    "- Use the `DataFrame.replace()` method to replace all of the ? values with the numpy.nan missing value.\n",
    "   \n",
    "   \n",
    "- Because `?` is a string value, columns containing this value were cast to the pandas `object` data type (instead of a numeric type like `int` or `float`). After replacing the `?` values, determine which columns need to be converted to numeric types. You can use either the `DataFrame.astype()` or the `Series.astype()` methods to convert column types.\n",
    "   \n",
    "   \n",
    "- Return the number of rows that have a missing value for the `normalized-losses` column. Determine how you should handle this column. You could:\n",
    "    - Replace the missing values using the average values from that column.\n",
    "    - Drop the rows entirely (especially if other columns in those rows have missing values).\n",
    "    - Drop the column entirely.\n",
    "   \n",
    "   \n",
    "- Explore the missing value counts for the other numeric columns and handle any missing values.\n",
    "   \n",
    "   \n",
    "- Of the columns you decided to keep, normalize the numeric ones so all values range from `0` to `1`."
   ]
  },
  {
   "cell_type": "markdown",
   "metadata": {},
   "source": [
    "Replacing `?` values for `np.nan`."
   ]
  },
  {
   "cell_type": "code",
   "execution_count": 135,
   "metadata": {},
   "outputs": [],
   "source": [
    "cars = cars.replace('\\?', np.nan, regex=True)"
   ]
  },
  {
   "cell_type": "markdown",
   "metadata": {},
   "source": [
    "Replacing string type columns for float type base on the information provided by `cars.info()`\n",
    "\n",
    "The list below converts the relevant attributes/variables and the target variable - `price`, as well:"
   ]
  },
  {
   "cell_type": "markdown",
   "metadata": {},
   "source": [
    "We replace manually the values of the `num-of-doors` column:"
   ]
  },
  {
   "cell_type": "code",
   "execution_count": 136,
   "metadata": {},
   "outputs": [
    {
     "data": {
      "text/plain": [
       "array(['two', 'four', nan], dtype=object)"
      ]
     },
     "execution_count": 136,
     "metadata": {},
     "output_type": "execute_result"
    }
   ],
   "source": [
    "cars['num-of-doors'].unique()"
   ]
  },
  {
   "cell_type": "code",
   "execution_count": 137,
   "metadata": {},
   "outputs": [],
   "source": [
    "cars['num-of-doors'] = cars['num-of-doors'].replace('two', 2)\n",
    "cars['num-of-doors'] = cars['num-of-doors'].replace('four', 4)"
   ]
  },
  {
   "cell_type": "markdown",
   "metadata": {},
   "source": [
    "Same of for `num-of-cylinder`:"
   ]
  },
  {
   "cell_type": "code",
   "execution_count": 138,
   "metadata": {},
   "outputs": [
    {
     "data": {
      "text/plain": [
       "array(['four', 'six', 'five', 'three', 'twelve', 'two', 'eight'],\n",
       "      dtype=object)"
      ]
     },
     "execution_count": 138,
     "metadata": {},
     "output_type": "execute_result"
    }
   ],
   "source": [
    "unique_cyls = cars['num-of-cylinder'].unique()\n",
    "\n",
    "unique_cyls"
   ]
  },
  {
   "cell_type": "code",
   "execution_count": 139,
   "metadata": {},
   "outputs": [
    {
     "data": {
      "text/plain": [
       "{'four': 4,\n",
       " 'six': 6,\n",
       " 'five': 5,\n",
       " 'three': 3,\n",
       " 'twelve': 12,\n",
       " 'two': 2,\n",
       " 'eight': 8}"
      ]
     },
     "execution_count": 139,
     "metadata": {},
     "output_type": "execute_result"
    }
   ],
   "source": [
    "conv_list = [4, 6, 5, 3, 12, 2, 8]\n",
    "\n",
    "cylinders_conv_dict = {unique_cyls[index]: val for index, val in enumerate(conv_list)}\n",
    "\n",
    "cylinders_conv_dict"
   ]
  },
  {
   "cell_type": "code",
   "execution_count": 140,
   "metadata": {},
   "outputs": [],
   "source": [
    "cars['num-of-cylinder'] = cars['num-of-cylinder'].replace(cylinders_conv_dict)"
   ]
  },
  {
   "cell_type": "markdown",
   "metadata": {},
   "source": [
    "We replace for the bulk of the string columns to float."
   ]
  },
  {
   "cell_type": "code",
   "execution_count": 141,
   "metadata": {},
   "outputs": [],
   "source": [
    "sel_conv_type = [\n",
    "                'normalized-losses',\n",
    "                'num-of-cylinder',\n",
    "                'bore',\n",
    "                'stroke',\n",
    "                'horsepower',\n",
    "                'peak-rpm',\n",
    "                'price'\n",
    "                ] "
   ]
  },
  {
   "cell_type": "code",
   "execution_count": 142,
   "metadata": {},
   "outputs": [
    {
     "data": {
      "text/html": [
       "<div>\n",
       "<style scoped>\n",
       "    .dataframe tbody tr th:only-of-type {\n",
       "        vertical-align: middle;\n",
       "    }\n",
       "\n",
       "    .dataframe tbody tr th {\n",
       "        vertical-align: top;\n",
       "    }\n",
       "\n",
       "    .dataframe thead th {\n",
       "        text-align: right;\n",
       "    }\n",
       "</style>\n",
       "<table border=\"1\" class=\"dataframe\">\n",
       "  <thead>\n",
       "    <tr style=\"text-align: right;\">\n",
       "      <th></th>\n",
       "      <th>normalized-losses</th>\n",
       "      <th>num-of-cylinder</th>\n",
       "      <th>bore</th>\n",
       "      <th>stroke</th>\n",
       "      <th>horsepower</th>\n",
       "      <th>peak-rpm</th>\n",
       "      <th>price</th>\n",
       "    </tr>\n",
       "  </thead>\n",
       "  <tbody>\n",
       "    <tr>\n",
       "      <th>0</th>\n",
       "      <td>NaN</td>\n",
       "      <td>4</td>\n",
       "      <td>3.47</td>\n",
       "      <td>2.68</td>\n",
       "      <td>111</td>\n",
       "      <td>5000</td>\n",
       "      <td>13495</td>\n",
       "    </tr>\n",
       "    <tr>\n",
       "      <th>1</th>\n",
       "      <td>NaN</td>\n",
       "      <td>4</td>\n",
       "      <td>3.47</td>\n",
       "      <td>2.68</td>\n",
       "      <td>111</td>\n",
       "      <td>5000</td>\n",
       "      <td>16500</td>\n",
       "    </tr>\n",
       "    <tr>\n",
       "      <th>2</th>\n",
       "      <td>NaN</td>\n",
       "      <td>6</td>\n",
       "      <td>2.68</td>\n",
       "      <td>3.47</td>\n",
       "      <td>154</td>\n",
       "      <td>5000</td>\n",
       "      <td>16500</td>\n",
       "    </tr>\n",
       "    <tr>\n",
       "      <th>3</th>\n",
       "      <td>164</td>\n",
       "      <td>4</td>\n",
       "      <td>3.19</td>\n",
       "      <td>3.40</td>\n",
       "      <td>102</td>\n",
       "      <td>5500</td>\n",
       "      <td>13950</td>\n",
       "    </tr>\n",
       "    <tr>\n",
       "      <th>4</th>\n",
       "      <td>164</td>\n",
       "      <td>5</td>\n",
       "      <td>3.19</td>\n",
       "      <td>3.40</td>\n",
       "      <td>115</td>\n",
       "      <td>5500</td>\n",
       "      <td>17450</td>\n",
       "    </tr>\n",
       "  </tbody>\n",
       "</table>\n",
       "</div>"
      ],
      "text/plain": [
       "  normalized-losses  num-of-cylinder  bore stroke horsepower peak-rpm  price\n",
       "0               NaN                4  3.47   2.68        111     5000  13495\n",
       "1               NaN                4  3.47   2.68        111     5000  16500\n",
       "2               NaN                6  2.68   3.47        154     5000  16500\n",
       "3               164                4  3.19   3.40        102     5500  13950\n",
       "4               164                5  3.19   3.40        115     5500  17450"
      ]
     },
     "execution_count": 142,
     "metadata": {},
     "output_type": "execute_result"
    }
   ],
   "source": [
    "cars[sel_conv_type].head()"
   ]
  },
  {
   "cell_type": "code",
   "execution_count": 143,
   "metadata": {},
   "outputs": [
    {
     "data": {
      "text/plain": [
       "{'normalized-losses': float,\n",
       " 'num-of-cylinder': float,\n",
       " 'bore': float,\n",
       " 'stroke': float,\n",
       " 'horsepower': float,\n",
       " 'peak-rpm': float,\n",
       " 'price': float}"
      ]
     },
     "execution_count": 143,
     "metadata": {},
     "output_type": "execute_result"
    }
   ],
   "source": [
    "conv_type_dict = {col: float for col in sel_conv_type}\n",
    "\n",
    "conv_type_dict"
   ]
  },
  {
   "cell_type": "code",
   "execution_count": 144,
   "metadata": {},
   "outputs": [],
   "source": [
    "cars = cars.astype(conv_type_dict)"
   ]
  },
  {
   "cell_type": "markdown",
   "metadata": {},
   "source": [
    "## Choosing the attributes/columns:\n",
    "---\n",
    "First off, we choose a smaller selection of only relevant numeric attributes, instead of all numerical attributes. Then we deal with the missing values, case-by-case.\n"
   ]
  },
  {
   "cell_type": "code",
   "execution_count": 145,
   "metadata": {},
   "outputs": [],
   "source": [
    "# Looping through columns.\n",
    "to_keep = []\n",
    "\n",
    "for i in range(0, cars.shape[1]):\n",
    "    if (cars.iloc[:, i].dtype == 'float64') | (cars.iloc[:, i].dtype == 'int64'):\n",
    "        to_keep.append(cars.columns[i])"
   ]
  },
  {
   "cell_type": "code",
   "execution_count": 146,
   "metadata": {},
   "outputs": [
    {
     "data": {
      "text/html": [
       "<div>\n",
       "<style scoped>\n",
       "    .dataframe tbody tr th:only-of-type {\n",
       "        vertical-align: middle;\n",
       "    }\n",
       "\n",
       "    .dataframe tbody tr th {\n",
       "        vertical-align: top;\n",
       "    }\n",
       "\n",
       "    .dataframe thead th {\n",
       "        text-align: right;\n",
       "    }\n",
       "</style>\n",
       "<table border=\"1\" class=\"dataframe\">\n",
       "  <thead>\n",
       "    <tr style=\"text-align: right;\">\n",
       "      <th></th>\n",
       "      <th>symboling</th>\n",
       "      <th>normalized-losses</th>\n",
       "      <th>num-of-doors</th>\n",
       "      <th>wheel-base</th>\n",
       "      <th>length</th>\n",
       "      <th>width</th>\n",
       "      <th>height</th>\n",
       "      <th>curb-weight</th>\n",
       "      <th>num-of-cylinder</th>\n",
       "      <th>engine-size</th>\n",
       "      <th>bore</th>\n",
       "      <th>stroke</th>\n",
       "      <th>compression-ratio</th>\n",
       "      <th>horsepower</th>\n",
       "      <th>peak-rpm</th>\n",
       "      <th>city-mpg</th>\n",
       "      <th>highway-mpg</th>\n",
       "      <th>price</th>\n",
       "    </tr>\n",
       "  </thead>\n",
       "  <tbody>\n",
       "    <tr>\n",
       "      <th>0</th>\n",
       "      <td>3</td>\n",
       "      <td>NaN</td>\n",
       "      <td>2.0</td>\n",
       "      <td>88.6</td>\n",
       "      <td>168.8</td>\n",
       "      <td>64.1</td>\n",
       "      <td>48.8</td>\n",
       "      <td>2548</td>\n",
       "      <td>4.0</td>\n",
       "      <td>130</td>\n",
       "      <td>3.47</td>\n",
       "      <td>2.68</td>\n",
       "      <td>9.0</td>\n",
       "      <td>111.0</td>\n",
       "      <td>5000.0</td>\n",
       "      <td>21</td>\n",
       "      <td>27</td>\n",
       "      <td>13495.0</td>\n",
       "    </tr>\n",
       "    <tr>\n",
       "      <th>1</th>\n",
       "      <td>3</td>\n",
       "      <td>NaN</td>\n",
       "      <td>2.0</td>\n",
       "      <td>88.6</td>\n",
       "      <td>168.8</td>\n",
       "      <td>64.1</td>\n",
       "      <td>48.8</td>\n",
       "      <td>2548</td>\n",
       "      <td>4.0</td>\n",
       "      <td>130</td>\n",
       "      <td>3.47</td>\n",
       "      <td>2.68</td>\n",
       "      <td>9.0</td>\n",
       "      <td>111.0</td>\n",
       "      <td>5000.0</td>\n",
       "      <td>21</td>\n",
       "      <td>27</td>\n",
       "      <td>16500.0</td>\n",
       "    </tr>\n",
       "    <tr>\n",
       "      <th>2</th>\n",
       "      <td>1</td>\n",
       "      <td>NaN</td>\n",
       "      <td>2.0</td>\n",
       "      <td>94.5</td>\n",
       "      <td>171.2</td>\n",
       "      <td>65.5</td>\n",
       "      <td>52.4</td>\n",
       "      <td>2823</td>\n",
       "      <td>6.0</td>\n",
       "      <td>152</td>\n",
       "      <td>2.68</td>\n",
       "      <td>3.47</td>\n",
       "      <td>9.0</td>\n",
       "      <td>154.0</td>\n",
       "      <td>5000.0</td>\n",
       "      <td>19</td>\n",
       "      <td>26</td>\n",
       "      <td>16500.0</td>\n",
       "    </tr>\n",
       "    <tr>\n",
       "      <th>3</th>\n",
       "      <td>2</td>\n",
       "      <td>164.0</td>\n",
       "      <td>4.0</td>\n",
       "      <td>99.8</td>\n",
       "      <td>176.6</td>\n",
       "      <td>66.2</td>\n",
       "      <td>54.3</td>\n",
       "      <td>2337</td>\n",
       "      <td>4.0</td>\n",
       "      <td>109</td>\n",
       "      <td>3.19</td>\n",
       "      <td>3.40</td>\n",
       "      <td>10.0</td>\n",
       "      <td>102.0</td>\n",
       "      <td>5500.0</td>\n",
       "      <td>24</td>\n",
       "      <td>30</td>\n",
       "      <td>13950.0</td>\n",
       "    </tr>\n",
       "    <tr>\n",
       "      <th>4</th>\n",
       "      <td>2</td>\n",
       "      <td>164.0</td>\n",
       "      <td>4.0</td>\n",
       "      <td>99.4</td>\n",
       "      <td>176.6</td>\n",
       "      <td>66.4</td>\n",
       "      <td>54.3</td>\n",
       "      <td>2824</td>\n",
       "      <td>5.0</td>\n",
       "      <td>136</td>\n",
       "      <td>3.19</td>\n",
       "      <td>3.40</td>\n",
       "      <td>8.0</td>\n",
       "      <td>115.0</td>\n",
       "      <td>5500.0</td>\n",
       "      <td>18</td>\n",
       "      <td>22</td>\n",
       "      <td>17450.0</td>\n",
       "    </tr>\n",
       "  </tbody>\n",
       "</table>\n",
       "</div>"
      ],
      "text/plain": [
       "   symboling  normalized-losses  num-of-doors  wheel-base  length  width  \\\n",
       "0          3                NaN           2.0        88.6   168.8   64.1   \n",
       "1          3                NaN           2.0        88.6   168.8   64.1   \n",
       "2          1                NaN           2.0        94.5   171.2   65.5   \n",
       "3          2              164.0           4.0        99.8   176.6   66.2   \n",
       "4          2              164.0           4.0        99.4   176.6   66.4   \n",
       "\n",
       "   height  curb-weight  num-of-cylinder  engine-size  bore  stroke  \\\n",
       "0    48.8         2548              4.0          130  3.47    2.68   \n",
       "1    48.8         2548              4.0          130  3.47    2.68   \n",
       "2    52.4         2823              6.0          152  2.68    3.47   \n",
       "3    54.3         2337              4.0          109  3.19    3.40   \n",
       "4    54.3         2824              5.0          136  3.19    3.40   \n",
       "\n",
       "   compression-ratio  horsepower  peak-rpm  city-mpg  highway-mpg    price  \n",
       "0                9.0       111.0    5000.0        21           27  13495.0  \n",
       "1                9.0       111.0    5000.0        21           27  16500.0  \n",
       "2                9.0       154.0    5000.0        19           26  16500.0  \n",
       "3               10.0       102.0    5500.0        24           30  13950.0  \n",
       "4                8.0       115.0    5500.0        18           22  17450.0  "
      ]
     },
     "execution_count": 146,
     "metadata": {},
     "output_type": "execute_result"
    }
   ],
   "source": [
    "cars_2 = cars[to_keep]\n",
    "\n",
    "cars_2.head()"
   ]
  },
  {
   "cell_type": "markdown",
   "metadata": {},
   "source": [
    "Checking missing values by column:"
   ]
  },
  {
   "cell_type": "code",
   "execution_count": 147,
   "metadata": {},
   "outputs": [
    {
     "data": {
      "text/plain": [
       "symboling             0\n",
       "normalized-losses    41\n",
       "num-of-doors          2\n",
       "wheel-base            0\n",
       "length                0\n",
       "width                 0\n",
       "height                0\n",
       "curb-weight           0\n",
       "num-of-cylinder       0\n",
       "engine-size           0\n",
       "bore                  4\n",
       "stroke                4\n",
       "compression-ratio     0\n",
       "horsepower            2\n",
       "peak-rpm              2\n",
       "city-mpg              0\n",
       "highway-mpg           0\n",
       "price                 4\n",
       "dtype: int64"
      ]
     },
     "execution_count": 147,
     "metadata": {},
     "output_type": "execute_result"
    }
   ],
   "source": [
    "cars_2.isna().sum()"
   ]
  },
  {
   "cell_type": "markdown",
   "metadata": {},
   "source": [
    "#### Here is how each attribute will be dealt with, regarding the missing values:\n",
    "\n",
    "\n",
    "\n",
    "1. We drop `normalized-losses` since 20% of its values are missing, which can be considered a portion of the data set to large to average out.\n",
    "   \n",
    "   \n",
    "2. Replacing the missing values in `num-of-doors` by the most common value found for the type of 'body-style' of those particular listings.\n",
    "   \n",
    "   \n",
    "3. Dropping the `wheel-base` based on the assumption that other specifications, such as the size or the weight of the car, can be much more effective in establishing a relation between an indirect measure of input cost - a bigger or heavier car is expected to have more material spent on its materialization, and the sale price.\n",
    "   \n",
    "   \n",
    "4. Replacing (dropping) `lenght`, `width` and `height` by the volume of the car (a new column named `size`) which is the multiplication of these columns.  \n",
    "   \n",
    "   \n",
    "5. We drop for now some engine related aspects, `bore`, `stroke`, `compression-ratio` and keep the `num-of-cylinder`, `horsepower` and `peak-rpm`. We replace the missing values in these last columns by sampling the listings that have the same engine attributes that heve been dropped out -`bore`, `stroke`, etc, and take out the average resorting to a series of steps described below in more detail. (We proceed this way since the data set does not specify the model, only the car brand.)\n",
    "   \n",
    "   \n",
    "6. To fill out the missing values in `price`, we choose the attribute with the highest correlation to the sale price and perform a task similar to point 5: \n",
    "    - find the listings with price missing values.\n",
    "    - make them the reference in terms of attribute values. \n",
    "    - search for similar listings where the chosen attribute values may vary up to 15%;\n",
    "    - finally take the average price of that sample, to fill in the missing values. \n",
    "    "
   ]
  },
  {
   "cell_type": "markdown",
   "metadata": {},
   "source": [
    "1. Dropping `normalized-losses`."
   ]
  },
  {
   "cell_type": "code",
   "execution_count": 148,
   "metadata": {},
   "outputs": [],
   "source": [
    "cars_2 = cars_2.drop(columns=['normalized-losses'])"
   ]
  },
  {
   "cell_type": "markdown",
   "metadata": {},
   "source": [
    "2. Replacing the missing values in `num-of-doors`.\n",
    "\n",
    "The listings with missing values in `num-of-doors`:"
   ]
  },
  {
   "cell_type": "code",
   "execution_count": 149,
   "metadata": {},
   "outputs": [
    {
     "data": {
      "text/html": [
       "<div>\n",
       "<style scoped>\n",
       "    .dataframe tbody tr th:only-of-type {\n",
       "        vertical-align: middle;\n",
       "    }\n",
       "\n",
       "    .dataframe tbody tr th {\n",
       "        vertical-align: top;\n",
       "    }\n",
       "\n",
       "    .dataframe thead th {\n",
       "        text-align: right;\n",
       "    }\n",
       "</style>\n",
       "<table border=\"1\" class=\"dataframe\">\n",
       "  <thead>\n",
       "    <tr style=\"text-align: right;\">\n",
       "      <th></th>\n",
       "      <th>make</th>\n",
       "      <th>num-of-doors</th>\n",
       "      <th>body-style</th>\n",
       "    </tr>\n",
       "  </thead>\n",
       "  <tbody>\n",
       "    <tr>\n",
       "      <th>27</th>\n",
       "      <td>dodge</td>\n",
       "      <td>NaN</td>\n",
       "      <td>sedan</td>\n",
       "    </tr>\n",
       "    <tr>\n",
       "      <th>63</th>\n",
       "      <td>mazda</td>\n",
       "      <td>NaN</td>\n",
       "      <td>sedan</td>\n",
       "    </tr>\n",
       "  </tbody>\n",
       "</table>\n",
       "</div>"
      ],
      "text/plain": [
       "     make  num-of-doors body-style\n",
       "27  dodge           NaN      sedan\n",
       "63  mazda           NaN      sedan"
      ]
     },
     "execution_count": 149,
     "metadata": {},
     "output_type": "execute_result"
    }
   ],
   "source": [
    "no_num_doors = cars[cars.loc[:, 'num-of-doors'].isna()]\n",
    "\n",
    "no_num_doors.loc[:, ['make', 'num-of-doors', 'body-style']]"
   ]
  },
  {
   "cell_type": "markdown",
   "metadata": {},
   "source": [
    "Let's check what is the most common number of doors for sedans and replace the missing values with it."
   ]
  },
  {
   "cell_type": "code",
   "execution_count": 150,
   "metadata": {},
   "outputs": [
    {
     "data": {
      "text/plain": [
       "4.0    79\n",
       "2.0    15\n",
       "Name: num-of-doors, dtype: int64"
      ]
     },
     "execution_count": 150,
     "metadata": {},
     "output_type": "execute_result"
    }
   ],
   "source": [
    "sedans = cars[cars.loc[:, 'body-style'].isin(['sedan'])]\n",
    "\n",
    "sedans['num-of-doors'].value_counts()"
   ]
  },
  {
   "cell_type": "markdown",
   "metadata": {},
   "source": [
    "Probability of a random sedan car having 4 doors:"
   ]
  },
  {
   "cell_type": "code",
   "execution_count": 151,
   "metadata": {},
   "outputs": [
    {
     "data": {
      "text/plain": [
       "'84.04%'"
      ]
     },
     "execution_count": 151,
     "metadata": {},
     "output_type": "execute_result"
    }
   ],
   "source": [
    "f'{round((79*100)/(79+15), 2)}%'"
   ]
  },
  {
   "cell_type": "markdown",
   "metadata": {},
   "source": [
    "Replacing the missing values by 4 (doors)."
   ]
  },
  {
   "cell_type": "code",
   "execution_count": 152,
   "metadata": {},
   "outputs": [],
   "source": [
    "cars_2.loc[[27, 63], 'num-of-doors'] = 4.0"
   ]
  },
  {
   "cell_type": "markdown",
   "metadata": {},
   "source": [
    "3. Dropping `wheel-base.`"
   ]
  },
  {
   "cell_type": "code",
   "execution_count": 153,
   "metadata": {},
   "outputs": [],
   "source": [
    "cars_2 = cars_2.drop(columns=['wheel-base'])"
   ]
  },
  {
   "cell_type": "markdown",
   "metadata": {},
   "source": [
    "4. Produce new `size` column and drop `length`, `width` and `height`."
   ]
  },
  {
   "cell_type": "code",
   "execution_count": 154,
   "metadata": {},
   "outputs": [],
   "source": [
    "size = cars_2['length'] * cars_2['width'] * cars_2['height']\n",
    "\n",
    "cars_2.insert(loc=2, column='size', value=size) "
   ]
  },
  {
   "cell_type": "code",
   "execution_count": 155,
   "metadata": {},
   "outputs": [],
   "source": [
    "cars_2 = cars_2.drop(columns=['length', 'width', 'height'])"
   ]
  },
  {
   "cell_type": "markdown",
   "metadata": {},
   "source": [
    "5. Dropping `bore`, `stroke`, `compression-ratio`. and resorting to them to replace missing values in `horsepower` and `peak_rpm` "
   ]
  },
  {
   "cell_type": "code",
   "execution_count": 156,
   "metadata": {},
   "outputs": [],
   "source": [
    "cars_2 = cars_2.drop(columns=['bore', 'stroke', 'compression-ratio'])"
   ]
  },
  {
   "cell_type": "markdown",
   "metadata": {},
   "source": [
    "We can see below that the rows for which there are no `horsepower` and `peak-rpm` values are the same."
   ]
  },
  {
   "cell_type": "code",
   "execution_count": 157,
   "metadata": {},
   "outputs": [
    {
     "data": {
      "text/html": [
       "<div>\n",
       "<style scoped>\n",
       "    .dataframe tbody tr th:only-of-type {\n",
       "        vertical-align: middle;\n",
       "    }\n",
       "\n",
       "    .dataframe tbody tr th {\n",
       "        vertical-align: top;\n",
       "    }\n",
       "\n",
       "    .dataframe thead th {\n",
       "        text-align: right;\n",
       "    }\n",
       "</style>\n",
       "<table border=\"1\" class=\"dataframe\">\n",
       "  <thead>\n",
       "    <tr style=\"text-align: right;\">\n",
       "      <th></th>\n",
       "      <th>make</th>\n",
       "      <th>engine-size</th>\n",
       "      <th>fuel-system</th>\n",
       "      <th>bore</th>\n",
       "      <th>stroke</th>\n",
       "      <th>compression-ratio</th>\n",
       "      <th>horsepower</th>\n",
       "      <th>peak-rpm</th>\n",
       "      <th>city-mpg</th>\n",
       "      <th>highway-mpg</th>\n",
       "    </tr>\n",
       "  </thead>\n",
       "  <tbody>\n",
       "    <tr>\n",
       "      <th>130</th>\n",
       "      <td>renault</td>\n",
       "      <td>132</td>\n",
       "      <td>mpfi</td>\n",
       "      <td>3.46</td>\n",
       "      <td>3.9</td>\n",
       "      <td>8.7</td>\n",
       "      <td>NaN</td>\n",
       "      <td>NaN</td>\n",
       "      <td>23</td>\n",
       "      <td>31</td>\n",
       "    </tr>\n",
       "    <tr>\n",
       "      <th>131</th>\n",
       "      <td>renault</td>\n",
       "      <td>132</td>\n",
       "      <td>mpfi</td>\n",
       "      <td>3.46</td>\n",
       "      <td>3.9</td>\n",
       "      <td>8.7</td>\n",
       "      <td>NaN</td>\n",
       "      <td>NaN</td>\n",
       "      <td>23</td>\n",
       "      <td>31</td>\n",
       "    </tr>\n",
       "  </tbody>\n",
       "</table>\n",
       "</div>"
      ],
      "text/plain": [
       "        make  engine-size fuel-system  bore  stroke  compression-ratio  \\\n",
       "130  renault          132        mpfi  3.46     3.9                8.7   \n",
       "131  renault          132        mpfi  3.46     3.9                8.7   \n",
       "\n",
       "     horsepower  peak-rpm  city-mpg  highway-mpg  \n",
       "130         NaN       NaN        23           31  \n",
       "131         NaN       NaN        23           31  "
      ]
     },
     "execution_count": 157,
     "metadata": {},
     "output_type": "execute_result"
    }
   ],
   "source": [
    "no_hp_no_rpm = cars[cars_2.loc[:, 'horsepower'].isna()]\n",
    "\n",
    "no_hp_no_rpm.iloc[:, np.r_[2, -10:-1]]"
   ]
  },
  {
   "cell_type": "markdown",
   "metadata": {},
   "source": [
    "The next set of procedures used to produce an average value for the missing values in `horsepower` and `peak-rpm` are as follows:\n",
    "- collect the attributes (columns) that are likely to influence `horsepower` and `peak-rpm`. These are inserted in the list `cols`.\n",
    "   \n",
    "   \n",
    "- Because we are trying to fill up values concerning engine performance we can fill out the same values for both rows - 130 and 131, if we have a strong motive to believe that we are in fact referring to two distinct cars that have the same engine. From the table above we can see that both are cars by Renault. In the table above we can see that the engine specs considered are identical for both cars.\n",
    "   \n",
    "   \n",
    "- Then we look at the rows/listings that are similar to the pattern exhibited by the engine spec values in row 130 (stored as `ref`). Engines usually have very specific specs, so if we search for the exact same specs in other cars, we may be out of luck in finding similar listings. To circumvent this caveat, we fix the values of 'fuel-type', 'fuel-system', 'num-of-cylinder', while we'll look for values in  engine size, bore, stroke, and compression-ratio that can vary up or down 15% from the reference (values in rows 130-131).\n",
    "   \n",
    "\n",
    "- After collecting similar listings we can average out the value for horse power and peak-rpm and place them where they are missing. "
   ]
  },
  {
   "cell_type": "code",
   "execution_count": 158,
   "metadata": {},
   "outputs": [],
   "source": [
    "cols = ['fuel-type',\n",
    "        'fuel-system',\n",
    "        'num-of-cylinder',\n",
    "        'engine-size',\n",
    "        'bore',\n",
    "        'stroke',\n",
    "        'compression-ratio'\n",
    "       ]\n",
    "\n",
    "\n",
    "cars_short = cars[cols]"
   ]
  },
  {
   "cell_type": "markdown",
   "metadata": {},
   "source": [
    "Are engine specs identical in row 130 and 131?"
   ]
  },
  {
   "cell_type": "code",
   "execution_count": 159,
   "metadata": {},
   "outputs": [
    {
     "data": {
      "text/plain": [
       "fuel-type            True\n",
       "fuel-system          True\n",
       "num-of-cylinder      True\n",
       "engine-size          True\n",
       "bore                 True\n",
       "stroke               True\n",
       "compression-ratio    True\n",
       "dtype: bool"
      ]
     },
     "execution_count": 159,
     "metadata": {},
     "output_type": "execute_result"
    }
   ],
   "source": [
    "cars.loc[130, cols] == cars.loc[131, cols]"
   ]
  },
  {
   "cell_type": "code",
   "execution_count": 160,
   "metadata": {},
   "outputs": [
    {
     "data": {
      "text/plain": [
       "fuel-type             gas\n",
       "fuel-system          mpfi\n",
       "num-of-cylinder         4\n",
       "engine-size           132\n",
       "bore                 3.46\n",
       "stroke                3.9\n",
       "compression-ratio     8.7\n",
       "Name: 130, dtype: object"
      ]
     },
     "execution_count": 160,
     "metadata": {},
     "output_type": "execute_result"
    }
   ],
   "source": [
    "ref = cars.loc[130, cols]\n",
    "\n",
    "ref"
   ]
  },
  {
   "cell_type": "markdown",
   "metadata": {},
   "source": [
    "First we filter the listings that have the same values for `fuel-type`, `fuel-system`, `num-of-cylinder.` "
   ]
  },
  {
   "cell_type": "code",
   "execution_count": 161,
   "metadata": {},
   "outputs": [],
   "source": [
    "cars_short = cars_short[cars_short['fuel-type']=='gas']\n",
    "cars_short = cars_short[cars_short['fuel-system']=='mpfi']\n",
    "cars_short = cars_short[cars_short['num-of-cylinder']==4]"
   ]
  },
  {
   "cell_type": "markdown",
   "metadata": {},
   "source": [
    "Now we filter the remaining version of `cars_short` by the attributes that we allow to vary by 15% from the reference values."
   ]
  },
  {
   "cell_type": "code",
   "execution_count": 162,
   "metadata": {},
   "outputs": [],
   "source": [
    "for i in range(3, 6+1):\n",
    "    lower_bound = ref[i] - (ref[i]*0.15)\n",
    "    high_bound = ref[i] + (ref[i]*0.15)\n",
    "    \n",
    "    col_name = ref.index[i]\n",
    "    \n",
    "    cars_short = cars_short[(lower_bound <= cars_short[col_name])]\n",
    "    cars_short = cars_short[(cars_short[col_name] <= high_bound)]"
   ]
  },
  {
   "cell_type": "markdown",
   "metadata": {},
   "source": [
    "As we can see below, the final version of `cars_short` has 12 rows: 2 are our reference rows (130 and 131) and the rest are those listing with similar engine specs. \n"
   ]
  },
  {
   "cell_type": "code",
   "execution_count": 163,
   "metadata": {},
   "outputs": [
    {
     "name": "stdout",
     "output_type": "stream",
     "text": [
      "<class 'pandas.core.frame.DataFrame'>\n",
      "Int64Index: 12 entries, 130 to 177\n",
      "Data columns (total 7 columns):\n",
      " #   Column             Non-Null Count  Dtype  \n",
      "---  ------             --------------  -----  \n",
      " 0   fuel-type          12 non-null     object \n",
      " 1   fuel-system        12 non-null     object \n",
      " 2   num-of-cylinder    12 non-null     float64\n",
      " 3   engine-size        12 non-null     int64  \n",
      " 4   bore               12 non-null     float64\n",
      " 5   stroke             12 non-null     float64\n",
      " 6   compression-ratio  12 non-null     float64\n",
      "dtypes: float64(4), int64(1), object(2)\n",
      "memory usage: 672.0+ bytes\n"
     ]
    }
   ],
   "source": [
    "cars_short.info()"
   ]
  },
  {
   "cell_type": "code",
   "execution_count": 164,
   "metadata": {},
   "outputs": [
    {
     "data": {
      "text/plain": [
       "horsepower     106.0\n",
       "peak-rpm      4560.0\n",
       "dtype: float64"
      ]
     },
     "execution_count": 164,
     "metadata": {},
     "output_type": "execute_result"
    }
   ],
   "source": [
    "cars.loc[cars_short.index, ['horsepower', 'peak-rpm']].mean().round(0)"
   ]
  },
  {
   "cell_type": "markdown",
   "metadata": {},
   "source": [
    "Replacing values."
   ]
  },
  {
   "cell_type": "code",
   "execution_count": 165,
   "metadata": {},
   "outputs": [],
   "source": [
    "cars_2.loc[[130, 131], 'horsepower'] = 106\n",
    "cars_2.loc[[130, 131], 'peak-rpm'] = 4560"
   ]
  },
  {
   "cell_type": "markdown",
   "metadata": {},
   "source": [
    "Finally, we fill out the missing values of the 'price' column.\n",
    "\n",
    "First of, we look at the correlations of each attribute vs the price."
   ]
  },
  {
   "cell_type": "code",
   "execution_count": 166,
   "metadata": {},
   "outputs": [
    {
     "data": {
      "text/html": [
       "<div>\n",
       "<style scoped>\n",
       "    .dataframe tbody tr th:only-of-type {\n",
       "        vertical-align: middle;\n",
       "    }\n",
       "\n",
       "    .dataframe tbody tr th {\n",
       "        vertical-align: top;\n",
       "    }\n",
       "\n",
       "    .dataframe thead th {\n",
       "        text-align: right;\n",
       "    }\n",
       "</style>\n",
       "<table border=\"1\" class=\"dataframe\">\n",
       "  <thead>\n",
       "    <tr style=\"text-align: right;\">\n",
       "      <th></th>\n",
       "      <th>price</th>\n",
       "    </tr>\n",
       "  </thead>\n",
       "  <tbody>\n",
       "    <tr>\n",
       "      <th>symboling</th>\n",
       "      <td>-0.082391</td>\n",
       "    </tr>\n",
       "    <tr>\n",
       "      <th>num-of-doors</th>\n",
       "      <td>0.042435</td>\n",
       "    </tr>\n",
       "    <tr>\n",
       "      <th>size</th>\n",
       "      <td>0.628701</td>\n",
       "    </tr>\n",
       "    <tr>\n",
       "      <th>curb-weight</th>\n",
       "      <td>0.834415</td>\n",
       "    </tr>\n",
       "    <tr>\n",
       "      <th>num-of-cylinder</th>\n",
       "      <td>0.708645</td>\n",
       "    </tr>\n",
       "    <tr>\n",
       "      <th>engine-size</th>\n",
       "      <td>0.872335</td>\n",
       "    </tr>\n",
       "    <tr>\n",
       "      <th>horsepower</th>\n",
       "      <td>0.809345</td>\n",
       "    </tr>\n",
       "    <tr>\n",
       "      <th>peak-rpm</th>\n",
       "      <td>-0.095600</td>\n",
       "    </tr>\n",
       "    <tr>\n",
       "      <th>city-mpg</th>\n",
       "      <td>-0.686571</td>\n",
       "    </tr>\n",
       "    <tr>\n",
       "      <th>highway-mpg</th>\n",
       "      <td>-0.704692</td>\n",
       "    </tr>\n",
       "    <tr>\n",
       "      <th>price</th>\n",
       "      <td>1.000000</td>\n",
       "    </tr>\n",
       "  </tbody>\n",
       "</table>\n",
       "</div>"
      ],
      "text/plain": [
       "                    price\n",
       "symboling       -0.082391\n",
       "num-of-doors     0.042435\n",
       "size             0.628701\n",
       "curb-weight      0.834415\n",
       "num-of-cylinder  0.708645\n",
       "engine-size      0.872335\n",
       "horsepower       0.809345\n",
       "peak-rpm        -0.095600\n",
       "city-mpg        -0.686571\n",
       "highway-mpg     -0.704692\n",
       "price            1.000000"
      ]
     },
     "execution_count": 166,
     "metadata": {},
     "output_type": "execute_result"
    }
   ],
   "source": [
    "correlations = cars_2.corr()\n",
    "\n",
    "correlations = correlations.drop(columns=[i for i in cars_2.columns if i != 'price'])\n",
    "\n",
    "correlations"
   ]
  },
  {
   "cell_type": "markdown",
   "metadata": {},
   "source": [
    "As expected, the `engine-size` seems to be a determinant attribute when it comes to the price of a car. Now, we can proceed as explained earlier, by performing a task similar to the previous one, regarding horsepower and peak rpm."
   ]
  },
  {
   "cell_type": "markdown",
   "metadata": {},
   "source": [
    "The rows with missing values"
   ]
  },
  {
   "cell_type": "code",
   "execution_count": 167,
   "metadata": {},
   "outputs": [
    {
     "data": {
      "text/html": [
       "<div>\n",
       "<style scoped>\n",
       "    .dataframe tbody tr th:only-of-type {\n",
       "        vertical-align: middle;\n",
       "    }\n",
       "\n",
       "    .dataframe tbody tr th {\n",
       "        vertical-align: top;\n",
       "    }\n",
       "\n",
       "    .dataframe thead th {\n",
       "        text-align: right;\n",
       "    }\n",
       "</style>\n",
       "<table border=\"1\" class=\"dataframe\">\n",
       "  <thead>\n",
       "    <tr style=\"text-align: right;\">\n",
       "      <th></th>\n",
       "      <th>make</th>\n",
       "      <th>engine-size</th>\n",
       "      <th>price</th>\n",
       "    </tr>\n",
       "  </thead>\n",
       "  <tbody>\n",
       "    <tr>\n",
       "      <th>9</th>\n",
       "      <td>audi</td>\n",
       "      <td>131</td>\n",
       "      <td>NaN</td>\n",
       "    </tr>\n",
       "    <tr>\n",
       "      <th>44</th>\n",
       "      <td>isuzu</td>\n",
       "      <td>90</td>\n",
       "      <td>NaN</td>\n",
       "    </tr>\n",
       "    <tr>\n",
       "      <th>45</th>\n",
       "      <td>isuzu</td>\n",
       "      <td>90</td>\n",
       "      <td>NaN</td>\n",
       "    </tr>\n",
       "    <tr>\n",
       "      <th>129</th>\n",
       "      <td>porsche</td>\n",
       "      <td>203</td>\n",
       "      <td>NaN</td>\n",
       "    </tr>\n",
       "  </tbody>\n",
       "</table>\n",
       "</div>"
      ],
      "text/plain": [
       "        make  engine-size  price\n",
       "9       audi          131    NaN\n",
       "44     isuzu           90    NaN\n",
       "45     isuzu           90    NaN\n",
       "129  porsche          203    NaN"
      ]
     },
     "execution_count": 167,
     "metadata": {},
     "output_type": "execute_result"
    }
   ],
   "source": [
    "price_missing = cars[cars_2.loc[:, 'price'].isna()]\n",
    "\n",
    "price_missing[['make', 'engine-size', 'price']]"
   ]
  },
  {
   "cell_type": "markdown",
   "metadata": {},
   "source": [
    "Since we have to produce more 3 different average prices, 90, 131 and 203 (Note: the description does not specify but it is probably referring to cubic inches - the data is taken from a US source), it is better to encapsulate all the steps into a function that returns the average price based on the listings that vary up to 15% from the former engine sizes (the table above is our reference). \n",
    "\n"
   ]
  },
  {
   "cell_type": "code",
   "execution_count": 168,
   "metadata": {},
   "outputs": [],
   "source": [
    "def avg_price(engine_size):\n",
    "    lower_bound = engine_size - (engine_size*0.15)\n",
    "    high_bound = engine_size + (engine_size*0.15)\n",
    "    \n",
    "    interval = pd.Interval(lower_bound, high_bound, closed='both')\n",
    "    \n",
    "    cond = cars['engine-size'].apply(lambda x: x in interval)\n",
    "    \n",
    "    sample = cars[cond].copy()\n",
    "    \n",
    "    avg_price = sample['price'].mean()\n",
    "    \n",
    "    return avg_price"
   ]
  },
  {
   "cell_type": "markdown",
   "metadata": {},
   "source": [
    "The average prices for each unique engine size."
   ]
  },
  {
   "cell_type": "code",
   "execution_count": 169,
   "metadata": {},
   "outputs": [
    {
     "data": {
      "text/plain": [
       "{131: 13722.0, 90: 7370.0, 203: 26135.0}"
      ]
     },
     "execution_count": 169,
     "metadata": {},
     "output_type": "execute_result"
    }
   ],
   "source": [
    "{value: round(avg_price(value), 0) for index, value in enumerate(price_missing['engine-size'])}"
   ]
  },
  {
   "cell_type": "markdown",
   "metadata": {},
   "source": [
    "Filling out the missing price values."
   ]
  },
  {
   "cell_type": "code",
   "execution_count": 170,
   "metadata": {},
   "outputs": [],
   "source": [
    "cars_2.loc[9, 'price'] = 13722.0\n",
    "cars_2.loc[[44, 45], 'price'] = 7370.0\n",
    "cars_2.loc[129, 'price'] = 26135.0"
   ]
  },
  {
   "cell_type": "markdown",
   "metadata": {},
   "source": [
    "### Normalizing all the columns in `cars_2`\n",
    "---\n",
    "Since each attribute has its own order of magnitude it is sensible to normalize all the attributes across the data set (to the exception of the target feature - `price`)\n",
    "\n"
   ]
  },
  {
   "cell_type": "code",
   "execution_count": 171,
   "metadata": {},
   "outputs": [],
   "source": [
    "cols_to_norm = [i for i in cars_2.columns if i != 'price']\n",
    "\n",
    "norm = cars_2.copy()\n",
    "\n",
    "norm[cols_to_norm] = (cars_2[cols_to_norm] - cars_2[cols_to_norm].min()) / (cars_2[cols_to_norm].max() - cars_2[cols_to_norm].min())"
   ]
  },
  {
   "cell_type": "markdown",
   "metadata": {},
   "source": [
    "## Slide 3\n",
    "---\n",
    "Let's start with some univariate k-nearest neighbors models. Starting with simple models before moving to more complex models helps us structure your code workflow and understand the features better.\n",
    "\n",
    "\n",
    "\n",
    "#### Instructions\n",
    "---\n",
    "- Create a function, named `knn_train_test()` that encapsulates the training and simple validation process. This function should have 3 parameters -- training column name, target column name, and the dataframe object.\n",
    "    - This function should split the data set into a training and test set.\n",
    "    - Then, it should instantiate the KNeighborsRegressor class, fit the model on the training set, and make predictions on the test set.\n",
    "    - Finally, it should calculate the RMSE and return that value.\n",
    "   \n",
    "   \n",
    "- Use this function to train and test univariate models using the different numeric columns in the data set. Which column performed the best using the default `k` value?\n",
    "   \n",
    "   \n",
    "- Modify the `knn_train_test()` function you wrote to accept a parameter for the k value.\n",
    "    - Update the function logic to use this parameter.\n",
    "    - For each numeric column, create, train, and test a univariate model using the following `k` values (`1`, `3`, `5`, `7`, and `9`). Visualize the results using a scatter plot or a line plot.\n",
    "     \n",
    "     \n",
    "    "
   ]
  },
  {
   "cell_type": "markdown",
   "metadata": {},
   "source": [
    "## Producing and Analyzing Different Univariate K-Neighbors Models\n",
    "---\n",
    "First of, the current task is to build a function that allows us to fit/train a univariate K-Neighbor Regression model in order to predict car prices, using the test set to that end, returning an error metric value that allows us to evaluate the models predicting accuracy. \n",
    "\n",
    "\n",
    "Inputs:\n",
    " - name of the attribute/column as the model's feature.\n",
    " - the target attribute, in our case the `price` column.\n",
    " - the DataFrame which from which to withdraw the data of choice.\n",
    " \n",
    "Returns:\n",
    " - mean squared error (RMSE) between the actual `price` values in the test set and the predicted ones.\n",
    "\n",
    "\n",
    "Preliminary notes:\n",
    "- The training set should have 75% of the values in `cars_2`.\n",
    "- The remaining 25% serve as the test set.\n",
    "- The randomizing of `cars_2` will be done once, and outside the function, so that we can store and load again the resulting DataFrame.\n"
   ]
  },
  {
   "cell_type": "markdown",
   "metadata": {},
   "source": [
    "    np.random.seed(1)\n",
    "\n",
    "    cars_rand = norm.loc[np.random.permutation(len(norm))]\n",
    "\n",
    "    cars_rand = cars_rand.reset_index(drop=True)\n",
    "\n",
    "    cars_rand.to_csv('cars_rand.csv', index=False)"
   ]
  },
  {
   "cell_type": "code",
   "execution_count": 172,
   "metadata": {},
   "outputs": [],
   "source": [
    "cars_rand = pd.read_csv('cars_rand.csv')"
   ]
  },
  {
   "cell_type": "code",
   "execution_count": 173,
   "metadata": {},
   "outputs": [
    {
     "name": "stdout",
     "output_type": "stream",
     "text": [
      "<class 'pandas.core.frame.DataFrame'>\n",
      "RangeIndex: 205 entries, 0 to 204\n",
      "Data columns (total 11 columns):\n",
      " #   Column           Non-Null Count  Dtype  \n",
      "---  ------           --------------  -----  \n",
      " 0   symboling        205 non-null    float64\n",
      " 1   num-of-doors     205 non-null    float64\n",
      " 2   size             205 non-null    float64\n",
      " 3   curb-weight      205 non-null    float64\n",
      " 4   num-of-cylinder  205 non-null    float64\n",
      " 5   engine-size      205 non-null    float64\n",
      " 6   horsepower       205 non-null    float64\n",
      " 7   peak-rpm         205 non-null    float64\n",
      " 8   city-mpg         205 non-null    float64\n",
      " 9   highway-mpg      205 non-null    float64\n",
      " 10  price            205 non-null    float64\n",
      "dtypes: float64(11)\n",
      "memory usage: 17.7 KB\n"
     ]
    }
   ],
   "source": [
    "cars_rand.info()"
   ]
  },
  {
   "cell_type": "code",
   "execution_count": 174,
   "metadata": {},
   "outputs": [],
   "source": [
    "def knn_train_test(train_col, target_col, df):\n",
    "    \"\"\"It takes a dataframe from which a single attribute/column is selected and a \n",
    "    target column in order to perform a Univariate K-nearest Neighbors prediction. \n",
    "    It returns the Root Mean Square Error between the target and the prediction.\n",
    "    \"\"\"\n",
    "    \n",
    "    from sklearn.neighbors import KNeighborsRegressor\n",
    "    from sklearn.metrics import mean_squared_error\n",
    "\n",
    "    index_split = round(df.shape[0]*0.75, 0)\n",
    "    \n",
    "    train = df.loc[:index_split, [train_col, target_col]].copy()\n",
    "    \n",
    "    series_list = train[train_col].values.tolist()\n",
    "    \n",
    "    train_x = np.array(series_list).reshape(-1, 1)\n",
    "    \n",
    "    test = df.loc[index_split:, [train_col, target_col]].copy()\n",
    "\n",
    "    \n",
    "    # K-nearest Neighbors section.\n",
    "    \n",
    "    knn = KNeighborsRegressor(n_neighbors=5, algorithm='auto')\n",
    "\n",
    "    knn.fit(train_x, train[target_col])\n",
    "    \n",
    "    prediction = knn.predict(test[[train_col]])\n",
    "    \n",
    "    \n",
    "    # RMSE section.\n",
    "    \n",
    "    mse = mean_squared_error(test[target_col], prediction)\n",
    "    \n",
    "    rmse = round(np.sqrt(mse), 2)\n",
    "    \n",
    "    return rmse    "
   ]
  },
  {
   "cell_type": "code",
   "execution_count": 175,
   "metadata": {},
   "outputs": [
    {
     "data": {
      "text/plain": [
       "engine-size         3327.28\n",
       "curb-weight         3911.44\n",
       "city-mpg            4341.11\n",
       "highway-mpg         4476.80\n",
       "horsepower          4655.74\n",
       "num-of-cylinder     4897.96\n",
       "size                7386.96\n",
       "symboling           8904.67\n",
       "peak-rpm            9073.87\n",
       "num-of-doors       15104.30\n",
       "dtype: float64"
      ]
     },
     "execution_count": 175,
     "metadata": {},
     "output_type": "execute_result"
    }
   ],
   "source": [
    "cols_but_price = [i for i in cars_rand.columns if i != 'price']\n",
    "\n",
    "rmse_dict = {i: knn_train_test(i, 'price', cars_rand) for i in cols_but_price}\n",
    "\n",
    "rmse_s = pd.Series(rmse_dict)\n",
    "\n",
    "rmse_s = rmse_s.sort_values()\n",
    "\n",
    "rmse_s"
   ]
  },
  {
   "cell_type": "markdown",
   "metadata": {},
   "source": [
    "When observing the compiled RMSE's in the Series above, we can see that the top 6 attributes with the smallest errors, from `engine-size` to `horsepower` are diverse in nature. Engine specifications such as horsepower and number of cylinders are performance-related like, `peak-rpm`, but this last one seems less accurate in predicting car prices. Although the engine size is not _per se_ a performance specification, it may be highly correlated with it, hence the probable assumption that a big engine translates into an expensive car, where the inverse may also be true. Moreover, it appears that attributes which are somewhat related with engine performance but can be seen as a separate category - namely fuel efficiency (in miles per gallon) in city and highway context, are good predictors of car prices. Other physical car specs are scattered all over: the car's weight seem to be an important attribute, whereas size is lesser decisive as a predictor of price, and the number of doors even less. `symboling` appears at the lower middle of the scale, 8th place, which means that the risk associated with the price of the car is not the most precise factor compared with the ones already discussed. \n",
    "\n"
   ]
  },
  {
   "cell_type": "markdown",
   "metadata": {},
   "source": [
    "### Producing Univariate Models With Different Number Of Neighbors \n",
    "---\n",
    "Note: 'k' in this context is the number of values with the smallest euclidean distance which one takes into account, when calculating the average predicted value. In the previous task we left it at it's default value:\n",
    "\n",
    "    knn = KNeighborsRegressor(n_neighbors=5, algorithm='auto')\n",
    "\n",
    "In the line of code above 'k' is given by `n_neighbors=5`.\n",
    "\n",
    "\n",
    "In this part of the analysis we add a 'k' parameter to the function `knn_train_test()`, so that we can fit and compare the same univariate models' errors but with different k values.\n",
    "\n",
    "\n",
    "The new function is now called `knn_train_test_2`. \n",
    "\n",
    "The list of `k` value to try is: 1, 3, 5, 7, 9.\n",
    "\n"
   ]
  },
  {
   "cell_type": "code",
   "execution_count": 176,
   "metadata": {},
   "outputs": [],
   "source": [
    "def knn_train_test_2(k, train_col, target_col, df):\n",
    "    \"\"\"It takes a dataframe from which a single attribute/column is selected and a \n",
    "    target column in order to perform a Univariate K-nearest Neighbors prediction. \n",
    "    It returns the Root Mean Square Error between the target and the prediction.\n",
    "    \"\"\"\n",
    "    \n",
    "    from sklearn.neighbors import KNeighborsRegressor\n",
    "    from sklearn.metrics import mean_squared_error\n",
    "\n",
    "    index_split = round(df.shape[0]*0.75, 0)\n",
    "    \n",
    "    train = df.loc[:index_split, [train_col, target_col]].copy()\n",
    "    \n",
    "    series_list = train[train_col].values.tolist()\n",
    "    \n",
    "    train_x = np.array(series_list).reshape(-1, 1)\n",
    "    \n",
    "    test = df.loc[index_split:, [train_col, target_col]].copy()\n",
    "\n",
    "    \n",
    "    # K-nearest Neighbors section.\n",
    "    \n",
    "    knn = KNeighborsRegressor(n_neighbors=k, algorithm='auto')\n",
    "\n",
    "    knn.fit(train_x, train[target_col])\n",
    "    \n",
    "    prediction = knn.predict(test[[train_col]])\n",
    "    \n",
    "    \n",
    "    # RMSE section.\n",
    "    \n",
    "    mse = mean_squared_error(test[target_col], prediction)\n",
    "    \n",
    "    rmse = round(np.sqrt(mse), 2)\n",
    "    \n",
    "    return rmse    "
   ]
  },
  {
   "cell_type": "markdown",
   "metadata": {},
   "source": [
    "In the previous task we produced a Series where the column is the RMSE and the row index is the associated attribute. We now extend that procedure to a DataFrame where each row/RMSE is associated with an element in the `k_list` whereas each column is associated with an attribute (the DataFrame has been transposed). "
   ]
  },
  {
   "cell_type": "code",
   "execution_count": 177,
   "metadata": {},
   "outputs": [],
   "source": [
    "k_list = [1, 3, 5, 7, 9]"
   ]
  },
  {
   "cell_type": "code",
   "execution_count": 178,
   "metadata": {},
   "outputs": [],
   "source": [
    "def rmse_univar_change_k(k_list):\n",
    "    \n",
    "    cols_but_price = [i for i in cars_rand.columns if i != 'price']\n",
    "    \n",
    "    for index, val in enumerate(cols_but_price): \n",
    "\n",
    "        rmse_dict = {f'{k_i}': knn_train_test_2(k_i, val, 'price', cars_rand) for k_i in k_list}\n",
    "\n",
    "        rmse_s = pd.Series(rmse_dict)\n",
    "        \n",
    "        if index == 0:\n",
    "            rmse_df = pd.DataFrame({f'{val}': rmse_s})\n",
    "        else:\n",
    "            rmse_df.insert(rmse_df.shape[1],\n",
    "                           f'{val}',\n",
    "                           rmse_s,\n",
    "                           True) # allow dupl.\n",
    "\n",
    "    return rmse_df"
   ]
  },
  {
   "cell_type": "code",
   "execution_count": 179,
   "metadata": {},
   "outputs": [],
   "source": [
    "rmse_df = rmse_univar_change_k(k_list)"
   ]
  },
  {
   "cell_type": "code",
   "execution_count": 180,
   "metadata": {},
   "outputs": [
    {
     "data": {
      "text/html": [
       "<div>\n",
       "<style scoped>\n",
       "    .dataframe tbody tr th:only-of-type {\n",
       "        vertical-align: middle;\n",
       "    }\n",
       "\n",
       "    .dataframe tbody tr th {\n",
       "        vertical-align: top;\n",
       "    }\n",
       "\n",
       "    .dataframe thead th {\n",
       "        text-align: right;\n",
       "    }\n",
       "</style>\n",
       "<table border=\"1\" class=\"dataframe\">\n",
       "  <thead>\n",
       "    <tr style=\"text-align: right;\">\n",
       "      <th></th>\n",
       "      <th>symboling</th>\n",
       "      <th>num-of-doors</th>\n",
       "      <th>size</th>\n",
       "      <th>curb-weight</th>\n",
       "      <th>num-of-cylinder</th>\n",
       "      <th>engine-size</th>\n",
       "      <th>horsepower</th>\n",
       "      <th>peak-rpm</th>\n",
       "      <th>city-mpg</th>\n",
       "      <th>highway-mpg</th>\n",
       "    </tr>\n",
       "  </thead>\n",
       "  <tbody>\n",
       "    <tr>\n",
       "      <th>1</th>\n",
       "      <td>8008.18</td>\n",
       "      <td>20074.32</td>\n",
       "      <td>5362.20</td>\n",
       "      <td>4868.43</td>\n",
       "      <td>7730.51</td>\n",
       "      <td>4887.41</td>\n",
       "      <td>5583.18</td>\n",
       "      <td>9589.89</td>\n",
       "      <td>5856.78</td>\n",
       "      <td>5811.71</td>\n",
       "    </tr>\n",
       "    <tr>\n",
       "      <th>3</th>\n",
       "      <td>8006.30</td>\n",
       "      <td>14517.09</td>\n",
       "      <td>6437.93</td>\n",
       "      <td>4313.43</td>\n",
       "      <td>5776.54</td>\n",
       "      <td>3590.07</td>\n",
       "      <td>4893.07</td>\n",
       "      <td>8582.21</td>\n",
       "      <td>4986.96</td>\n",
       "      <td>4872.05</td>\n",
       "    </tr>\n",
       "    <tr>\n",
       "      <th>5</th>\n",
       "      <td>8904.67</td>\n",
       "      <td>15104.30</td>\n",
       "      <td>7386.96</td>\n",
       "      <td>3911.44</td>\n",
       "      <td>4897.96</td>\n",
       "      <td>3327.28</td>\n",
       "      <td>4655.74</td>\n",
       "      <td>9073.87</td>\n",
       "      <td>4341.11</td>\n",
       "      <td>4476.80</td>\n",
       "    </tr>\n",
       "    <tr>\n",
       "      <th>7</th>\n",
       "      <td>8600.07</td>\n",
       "      <td>12813.49</td>\n",
       "      <td>7292.26</td>\n",
       "      <td>3882.05</td>\n",
       "      <td>4725.94</td>\n",
       "      <td>3580.86</td>\n",
       "      <td>4663.07</td>\n",
       "      <td>9239.20</td>\n",
       "      <td>4378.13</td>\n",
       "      <td>4436.75</td>\n",
       "    </tr>\n",
       "    <tr>\n",
       "      <th>9</th>\n",
       "      <td>8483.35</td>\n",
       "      <td>12194.40</td>\n",
       "      <td>7226.23</td>\n",
       "      <td>3891.81</td>\n",
       "      <td>4859.86</td>\n",
       "      <td>3689.93</td>\n",
       "      <td>4632.89</td>\n",
       "      <td>9278.11</td>\n",
       "      <td>4681.05</td>\n",
       "      <td>4383.64</td>\n",
       "    </tr>\n",
       "  </tbody>\n",
       "</table>\n",
       "</div>"
      ],
      "text/plain": [
       "   symboling  num-of-doors     size  curb-weight  num-of-cylinder  \\\n",
       "1    8008.18      20074.32  5362.20      4868.43          7730.51   \n",
       "3    8006.30      14517.09  6437.93      4313.43          5776.54   \n",
       "5    8904.67      15104.30  7386.96      3911.44          4897.96   \n",
       "7    8600.07      12813.49  7292.26      3882.05          4725.94   \n",
       "9    8483.35      12194.40  7226.23      3891.81          4859.86   \n",
       "\n",
       "   engine-size  horsepower  peak-rpm  city-mpg  highway-mpg  \n",
       "1      4887.41     5583.18   9589.89   5856.78      5811.71  \n",
       "3      3590.07     4893.07   8582.21   4986.96      4872.05  \n",
       "5      3327.28     4655.74   9073.87   4341.11      4476.80  \n",
       "7      3580.86     4663.07   9239.20   4378.13      4436.75  \n",
       "9      3689.93     4632.89   9278.11   4681.05      4383.64  "
      ]
     },
     "execution_count": 180,
     "metadata": {},
     "output_type": "execute_result"
    }
   ],
   "source": [
    "rmse_df "
   ]
  },
  {
   "cell_type": "code",
   "execution_count": 181,
   "metadata": {},
   "outputs": [
    {
     "data": {
      "image/png": "[encoded data removed]",
      "text/plain": [
       "<Figure size 504x2880 with 10 Axes>"
      ]
     },
     "metadata": {
      "needs_background": "light"
     },
     "output_type": "display_data"
    }
   ],
   "source": [
    "fig = plt.figure(figsize=(7, 40))\n",
    "\n",
    "\n",
    "for index, value in enumerate(rmse_df.columns):\n",
    "    ax = fig.add_subplot(len(rmse_df.columns), 1, index+1)\n",
    "    ax.set_title(f'{value}')\n",
    "    ax.set_xlabel('k')\n",
    "    ax.set_ylabel('RMSE')\n",
    "    ax.grid()\n",
    "    # Main graph.\n",
    "    ax.plot(rmse_df.index,\n",
    "            rmse_df[value],\n",
    "            color='blue',\n",
    "            marker='o',\n",
    "            linestyle='dashed',\n",
    "            linewidth=2,\n",
    "            markersize=12)\n",
    "\n",
    "    # Minimum value marker coordinates.\n",
    "    ax.plot(rmse_df[value].idxmin(),\n",
    "            rmse_df[value].min(),\n",
    "            marker='o',\n",
    "            color='green',\n",
    "            markersize=12)\n",
    "\n",
    "plt.tight_layout()\n",
    "    \n",
    "plt.show()"
   ]
  },
  {
   "cell_type": "markdown",
   "metadata": {},
   "source": [
    "Quick take on the line graphs that put the RMSE of each attribute vs the number k neighbors (minimum error value marked by a green circle):\n",
    "\n",
    "\n",
    "- `symboling`: best until `k=3`, the error increases after that.\n",
    "- `num_of_doors`: steady decrease of the error as k increases; best at `k=9`.\n",
    "- `size`: smallest error at `k=1`.\n",
    "- `curb-weight` benefits from extending `k` at least until `k=7`.\n",
    "- `num_of_cylinder`: similar to the previous.\n",
    "- `engine-size`: best at `k=5`; decreasing or increasing k from there increases the error.\n",
    "\n",
    "- `horsepower`: smallest error stabilizing at `k=9` (decreasing trend).\n",
    "\n",
    "- `peak-rpm`: valley with smallest error at `k=3`.\n",
    "- `city-mpg`:best prediction at `k=5` (decreasing trend).\n",
    "- `highway-mpg`: best prediction at `k=9` (decreasing trend).\n",
    "\n",
    "What we can take is that, in general, the error decreases (i.e. the price prediction improves) when k is set between 5 and 9, although there are some exceptions.\n",
    "\n"
   ]
  },
  {
   "cell_type": "markdown",
   "metadata": {},
   "source": [
    "## Slide 4\n",
    "---\n",
    "Let's modify the `knn_train_test()` function we wrote in the last step to work with multiple columns.\n",
    "\n",
    "\n",
    "\n",
    "#### Instructions\n",
    "---\n",
    "- Modify the `knn_train_test()` function to accept a list of column names (instead of just a string). Modify the rest of the function logic to use this parameter:\n",
    "    - Instead of using just a single column for train and test, use all of the columns passed in.\n",
    "    - Use the default k value from scikit-learn for now (we'll tune the k value in the next step).\n",
    "   \n",
    "   \n",
    "- Use the best 2 features from the previous step to train and test a multivariate k-nearest neighbors model using the default `k` value.\n",
    "   \n",
    "   \n",
    "- Use the best 3 features from the previous step to train and test a multivariate k-nearest neighbors model using the default `k` value.\n",
    "   \n",
    "   \n",
    "- Use the best 4 features from the previous step to train and test a multivariate k-nearest neighbors model using the default `k` value.\n",
    "   \n",
    "   \n",
    "- Use the best 5 features from the previous step to train and test a multivariate k-nearest neighbors model using the default `k` value.\n",
    "   \n",
    "   \n",
    "- Display all of the RMSE values."
   ]
  },
  {
   "cell_type": "markdown",
   "metadata": {},
   "source": [
    "## Fitting Multivariate KNN models\n",
    "\n",
    "---\n",
    "In this part of the analysis we pick the the five attributes that best performed so far prediction wise (lowest RMSE) and assess whether fitting multi-variate models with those attributes helps to increase the models' accuracy. \n",
    "\n"
   ]
  },
  {
   "cell_type": "markdown",
   "metadata": {},
   "source": [
    "The top 5 RMSE for univariate k-neighbor models:"
   ]
  },
  {
   "cell_type": "code",
   "execution_count": 182,
   "metadata": {},
   "outputs": [
    {
     "data": {
      "text/plain": [
       "['engine-size', 'curb-weight', 'city-mpg', 'highway-mpg', 'horsepower']"
      ]
     },
     "execution_count": 182,
     "metadata": {},
     "output_type": "execute_result"
    }
   ],
   "source": [
    "top_5 = list(rmse_s.index[:5])\n",
    "\n",
    "top_5"
   ]
  },
  {
   "cell_type": "markdown",
   "metadata": {},
   "source": [
    "We are going to first, modify `knn_train_test_2()` so that it can take more than one attribute/column. The new function is called `knn_train_test_3()`. "
   ]
  },
  {
   "cell_type": "code",
   "execution_count": 183,
   "metadata": {},
   "outputs": [],
   "source": [
    "def knn_train_test_3(k, train_cols, target_col, df):\n",
    "    \"\"\"It takes a dataframe from which a list of attributes/columns is selected and a \n",
    "    target column, in order to perform a Multivariate K-nearest Neighbors prediction. \n",
    "    It returns the Root Mean Square Error between the target and the prediction.\n",
    "    \"\"\"\n",
    "    \n",
    "    from sklearn.neighbors import KNeighborsRegressor\n",
    "    from sklearn.metrics import mean_squared_error\n",
    "\n",
    "    index_split = round(df.shape[0]*0.75, 0)\n",
    "    \n",
    "    columns = train_cols + [target_col]\n",
    "    \n",
    "    train = df.loc[:index_split, columns].copy()\n",
    "    test = df.loc[index_split:, columns].copy()\n",
    "    \n",
    "    train_features = train[train_cols]\n",
    "    train_target = train[target_col]\n",
    "\n",
    "    \n",
    "    # K-nearest Neighbors section.\n",
    "    \n",
    "    knn = KNeighborsRegressor(n_neighbors=k, algorithm='auto')\n",
    "\n",
    "    knn.fit(train_features, train_target)\n",
    "    \n",
    "    prediction = knn.predict(test[train_cols])\n",
    "    \n",
    "    \n",
    "    # RMSE section.\n",
    "    \n",
    "    mse = mean_squared_error(test[target_col], prediction)\n",
    "    \n",
    "    rmse = round(np.sqrt(mse), 2)\n",
    "    \n",
    "    return rmse    "
   ]
  },
  {
   "cell_type": "markdown",
   "metadata": {},
   "source": [
    "The next function, `rmse_multivar_model()` is a tool that helps us to compile the RMSEs of several fitted models. The first corresponds to the univariate model with the lowest RMSE ('engine-size'), the next models are fit by adding the next attribute with the smallest univariate RMSE, and so on.\n",
    "\n",
    "\n",
    "We keep the default `n_neighbors=5` for all models.\n"
   ]
  },
  {
   "cell_type": "code",
   "execution_count": 184,
   "metadata": {},
   "outputs": [],
   "source": [
    "def rmse_multivar_model(list_cols):\n",
    "    \n",
    "    rmse_dict = {f'{list_cols[:ind+1]}': knn_train_test_3(5, list_cols[:ind+1], 'price', cars_rand) \\\n",
    "                 for ind, val in enumerate(list_cols)}\n",
    "\n",
    "    return rmse_dict"
   ]
  },
  {
   "cell_type": "code",
   "execution_count": 185,
   "metadata": {},
   "outputs": [
    {
     "data": {
      "text/plain": [
       "{\"['engine-size']\": 3327.28,\n",
       " \"['engine-size', 'curb-weight']\": 2846.17,\n",
       " \"['engine-size', 'curb-weight', 'city-mpg']\": 2832.63,\n",
       " \"['engine-size', 'curb-weight', 'city-mpg', 'highway-mpg']\": 2923.2,\n",
       " \"['engine-size', 'curb-weight', 'city-mpg', 'highway-mpg', 'horsepower']\": 2483.18}"
      ]
     },
     "execution_count": 185,
     "metadata": {},
     "output_type": "execute_result"
    }
   ],
   "source": [
    "multivar_rmse_dict = rmse_multivar_model(top_5)\n",
    "\n",
    "multivar_rmse_dict"
   ]
  },
  {
   "cell_type": "markdown",
   "metadata": {},
   "source": [
    "As we can see above, adding more training features to the initial univariate model results in a relevant decrease of the predicting error. The more accurate model (lowest RMSE) seems to be the one with all five the  explanatory variables. \n"
   ]
  },
  {
   "cell_type": "markdown",
   "metadata": {},
   "source": [
    "## Slide 5\n",
    "---\n",
    "Let's now optimize the model that performed the best in the previous step.\n",
    "\n",
    "\n",
    "\n",
    "#### Instructions\n",
    "---\n",
    "- For the top 3 models in the last step, vary the hyperparameter value from `1` to `25` and plot the resulting RMSE values.\n",
    "   \n",
    "   \n",
    "- Which `k` value is optimal for each model? How different are the `k` values and what do you think accounts for the differences?"
   ]
  },
  {
   "cell_type": "code",
   "execution_count": 186,
   "metadata": {},
   "outputs": [
    {
     "data": {
      "text/plain": [
       "['engine-size', 'curb-weight', 'city-mpg', 'highway-mpg', 'horsepower']    2483.18\n",
       "['engine-size', 'curb-weight', 'city-mpg']                                 2832.63\n",
       "['engine-size', 'curb-weight']                                             2846.17\n",
       "dtype: float64"
      ]
     },
     "execution_count": 186,
     "metadata": {},
     "output_type": "execute_result"
    }
   ],
   "source": [
    "best_three_models = pd.Series(multivar_rmse_dict).sort_values().iloc[:3]\n",
    "\n",
    "best_three_models"
   ]
  },
  {
   "cell_type": "markdown",
   "metadata": {},
   "source": [
    "Compiling the models' attributes into a list of lists.\n"
   ]
  },
  {
   "cell_type": "code",
   "execution_count": 187,
   "metadata": {},
   "outputs": [],
   "source": [
    "best_models = [['engine-size', 'curb-weight', 'city-mpg', 'highway-mpg', 'horsepower'],\n",
    "               ['engine-size', 'curb-weight', 'city-mpg'],\n",
    "               ['engine-size', 'curb-weight']]"
   ]
  },
  {
   "cell_type": "markdown",
   "metadata": {},
   "source": [
    "We produce a new function similar to `rmse_univar_change_k()` but this time, besides the list of _k_ values, it also accepts a list of attributes to build a multivariate k-neighbor model instead. "
   ]
  },
  {
   "cell_type": "code",
   "execution_count": 188,
   "metadata": {},
   "outputs": [],
   "source": [
    "def rmse_multivar(k_list, attribute_list):\n",
    "    \n",
    "    \n",
    "    for index, train_cols in enumerate(attribute_list):\n",
    "\n",
    "        rmse_dict = {f'{k_i}': knn_train_test_3(k_i, train_cols, 'price', cars_rand) for k_i in k_list}\n",
    "\n",
    "        rmse_s = pd.Series(rmse_dict)\n",
    "        \n",
    "        if index == 0:\n",
    "            rmse_df = pd.DataFrame({f'{train_cols}': rmse_s})\n",
    "        else:\n",
    "            rmse_df.insert(rmse_df.shape[1],\n",
    "                           f'{train_cols}',\n",
    "                           rmse_s,\n",
    "                           True) # allow dupl.\n",
    "\n",
    "    return rmse_df"
   ]
  },
  {
   "cell_type": "code",
   "execution_count": 189,
   "metadata": {},
   "outputs": [
    {
     "data": {
      "text/html": [
       "<div>\n",
       "<style scoped>\n",
       "    .dataframe tbody tr th:only-of-type {\n",
       "        vertical-align: middle;\n",
       "    }\n",
       "\n",
       "    .dataframe tbody tr th {\n",
       "        vertical-align: top;\n",
       "    }\n",
       "\n",
       "    .dataframe thead th {\n",
       "        text-align: right;\n",
       "    }\n",
       "</style>\n",
       "<table border=\"1\" class=\"dataframe\">\n",
       "  <thead>\n",
       "    <tr style=\"text-align: right;\">\n",
       "      <th></th>\n",
       "      <th>['engine-size', 'curb-weight', 'city-mpg', 'highway-mpg', 'horsepower']</th>\n",
       "      <th>['engine-size', 'curb-weight', 'city-mpg']</th>\n",
       "      <th>['engine-size', 'curb-weight']</th>\n",
       "    </tr>\n",
       "  </thead>\n",
       "  <tbody>\n",
       "    <tr>\n",
       "      <th>1</th>\n",
       "      <td>2603.96</td>\n",
       "      <td>3641.79</td>\n",
       "      <td>3544.16</td>\n",
       "    </tr>\n",
       "    <tr>\n",
       "      <th>2</th>\n",
       "      <td>2359.52</td>\n",
       "      <td>3184.58</td>\n",
       "      <td>3190.59</td>\n",
       "    </tr>\n",
       "    <tr>\n",
       "      <th>3</th>\n",
       "      <td>2315.42</td>\n",
       "      <td>3037.13</td>\n",
       "      <td>3164.21</td>\n",
       "    </tr>\n",
       "    <tr>\n",
       "      <th>4</th>\n",
       "      <td>2228.31</td>\n",
       "      <td>2743.41</td>\n",
       "      <td>2934.50</td>\n",
       "    </tr>\n",
       "    <tr>\n",
       "      <th>5</th>\n",
       "      <td>2483.18</td>\n",
       "      <td>2832.63</td>\n",
       "      <td>2846.17</td>\n",
       "    </tr>\n",
       "    <tr>\n",
       "      <th>6</th>\n",
       "      <td>2862.57</td>\n",
       "      <td>2978.81</td>\n",
       "      <td>2889.21</td>\n",
       "    </tr>\n",
       "    <tr>\n",
       "      <th>7</th>\n",
       "      <td>2822.87</td>\n",
       "      <td>2985.63</td>\n",
       "      <td>2870.73</td>\n",
       "    </tr>\n",
       "    <tr>\n",
       "      <th>8</th>\n",
       "      <td>2861.66</td>\n",
       "      <td>3106.21</td>\n",
       "      <td>2940.54</td>\n",
       "    </tr>\n",
       "    <tr>\n",
       "      <th>9</th>\n",
       "      <td>3031.51</td>\n",
       "      <td>3231.53</td>\n",
       "      <td>3013.85</td>\n",
       "    </tr>\n",
       "    <tr>\n",
       "      <th>10</th>\n",
       "      <td>2916.82</td>\n",
       "      <td>3336.03</td>\n",
       "      <td>3033.96</td>\n",
       "    </tr>\n",
       "    <tr>\n",
       "      <th>11</th>\n",
       "      <td>3058.17</td>\n",
       "      <td>3424.95</td>\n",
       "      <td>3182.73</td>\n",
       "    </tr>\n",
       "    <tr>\n",
       "      <th>12</th>\n",
       "      <td>3197.04</td>\n",
       "      <td>3416.99</td>\n",
       "      <td>3304.54</td>\n",
       "    </tr>\n",
       "    <tr>\n",
       "      <th>13</th>\n",
       "      <td>3377.08</td>\n",
       "      <td>3569.97</td>\n",
       "      <td>3404.32</td>\n",
       "    </tr>\n",
       "    <tr>\n",
       "      <th>14</th>\n",
       "      <td>3536.84</td>\n",
       "      <td>3697.16</td>\n",
       "      <td>3479.96</td>\n",
       "    </tr>\n",
       "    <tr>\n",
       "      <th>15</th>\n",
       "      <td>3697.97</td>\n",
       "      <td>3773.82</td>\n",
       "      <td>3634.36</td>\n",
       "    </tr>\n",
       "    <tr>\n",
       "      <th>16</th>\n",
       "      <td>3760.22</td>\n",
       "      <td>3814.62</td>\n",
       "      <td>3688.30</td>\n",
       "    </tr>\n",
       "    <tr>\n",
       "      <th>17</th>\n",
       "      <td>3836.73</td>\n",
       "      <td>3826.15</td>\n",
       "      <td>3776.57</td>\n",
       "    </tr>\n",
       "    <tr>\n",
       "      <th>18</th>\n",
       "      <td>3937.06</td>\n",
       "      <td>3899.71</td>\n",
       "      <td>3879.24</td>\n",
       "    </tr>\n",
       "    <tr>\n",
       "      <th>19</th>\n",
       "      <td>3948.28</td>\n",
       "      <td>3890.58</td>\n",
       "      <td>3894.40</td>\n",
       "    </tr>\n",
       "    <tr>\n",
       "      <th>20</th>\n",
       "      <td>3994.36</td>\n",
       "      <td>3938.56</td>\n",
       "      <td>4019.03</td>\n",
       "    </tr>\n",
       "    <tr>\n",
       "      <th>21</th>\n",
       "      <td>4069.89</td>\n",
       "      <td>3952.30</td>\n",
       "      <td>4085.18</td>\n",
       "    </tr>\n",
       "    <tr>\n",
       "      <th>22</th>\n",
       "      <td>4072.20</td>\n",
       "      <td>4012.25</td>\n",
       "      <td>4173.35</td>\n",
       "    </tr>\n",
       "    <tr>\n",
       "      <th>23</th>\n",
       "      <td>4184.03</td>\n",
       "      <td>4092.76</td>\n",
       "      <td>4205.73</td>\n",
       "    </tr>\n",
       "    <tr>\n",
       "      <th>24</th>\n",
       "      <td>4269.26</td>\n",
       "      <td>4170.03</td>\n",
       "      <td>4268.59</td>\n",
       "    </tr>\n",
       "    <tr>\n",
       "      <th>25</th>\n",
       "      <td>4317.69</td>\n",
       "      <td>4239.20</td>\n",
       "      <td>4292.12</td>\n",
       "    </tr>\n",
       "  </tbody>\n",
       "</table>\n",
       "</div>"
      ],
      "text/plain": [
       "    ['engine-size', 'curb-weight', 'city-mpg', 'highway-mpg', 'horsepower']  \\\n",
       "1                                             2603.96                         \n",
       "2                                             2359.52                         \n",
       "3                                             2315.42                         \n",
       "4                                             2228.31                         \n",
       "5                                             2483.18                         \n",
       "6                                             2862.57                         \n",
       "7                                             2822.87                         \n",
       "8                                             2861.66                         \n",
       "9                                             3031.51                         \n",
       "10                                            2916.82                         \n",
       "11                                            3058.17                         \n",
       "12                                            3197.04                         \n",
       "13                                            3377.08                         \n",
       "14                                            3536.84                         \n",
       "15                                            3697.97                         \n",
       "16                                            3760.22                         \n",
       "17                                            3836.73                         \n",
       "18                                            3937.06                         \n",
       "19                                            3948.28                         \n",
       "20                                            3994.36                         \n",
       "21                                            4069.89                         \n",
       "22                                            4072.20                         \n",
       "23                                            4184.03                         \n",
       "24                                            4269.26                         \n",
       "25                                            4317.69                         \n",
       "\n",
       "    ['engine-size', 'curb-weight', 'city-mpg']  ['engine-size', 'curb-weight']  \n",
       "1                                      3641.79                         3544.16  \n",
       "2                                      3184.58                         3190.59  \n",
       "3                                      3037.13                         3164.21  \n",
       "4                                      2743.41                         2934.50  \n",
       "5                                      2832.63                         2846.17  \n",
       "6                                      2978.81                         2889.21  \n",
       "7                                      2985.63                         2870.73  \n",
       "8                                      3106.21                         2940.54  \n",
       "9                                      3231.53                         3013.85  \n",
       "10                                     3336.03                         3033.96  \n",
       "11                                     3424.95                         3182.73  \n",
       "12                                     3416.99                         3304.54  \n",
       "13                                     3569.97                         3404.32  \n",
       "14                                     3697.16                         3479.96  \n",
       "15                                     3773.82                         3634.36  \n",
       "16                                     3814.62                         3688.30  \n",
       "17                                     3826.15                         3776.57  \n",
       "18                                     3899.71                         3879.24  \n",
       "19                                     3890.58                         3894.40  \n",
       "20                                     3938.56                         4019.03  \n",
       "21                                     3952.30                         4085.18  \n",
       "22                                     4012.25                         4173.35  \n",
       "23                                     4092.76                         4205.73  \n",
       "24                                     4170.03                         4268.59  \n",
       "25                                     4239.20                         4292.12  "
      ]
     },
     "execution_count": 189,
     "metadata": {},
     "output_type": "execute_result"
    }
   ],
   "source": [
    "k_25 = rmse_multivar(list(range(1, 25+1)), best_models)\n",
    "\n",
    "k_25"
   ]
  },
  {
   "cell_type": "markdown",
   "metadata": {},
   "source": [
    "The k values that provide the smallest error for the three best models:"
   ]
  },
  {
   "cell_type": "code",
   "execution_count": 190,
   "metadata": {},
   "outputs": [],
   "source": [
    "list_minimums = []\n",
    "\n",
    "for index, col in enumerate(k_25.columns):\n",
    "    min_ = k_25[col].min()\n",
    "    \n",
    "    col_name = ', '.join(re.findall(\"(\\w+-\\w+|horsepower)\", col))\n",
    "    \n",
    "    min_idx = k_25[col].idxmin()\n",
    "    \n",
    "    globals()[col_name] = {f'{col_name} - rmse = {min_}, k': min_idx}\n",
    "    \n",
    "    list_minimums.append(globals()[col_name])"
   ]
  },
  {
   "cell_type": "code",
   "execution_count": 191,
   "metadata": {},
   "outputs": [
    {
     "name": "stdout",
     "output_type": "stream",
     "text": [
      "{'engine-size, curb-weight, city-mpg, highway-mpg, horsepower - rmse = 2228.31, k': '4'}\n",
      "{'engine-size, curb-weight, city-mpg - rmse = 2743.41, k': '4'}\n",
      "{'engine-size, curb-weight - rmse = 2846.17, k': '5'}\n"
     ]
    }
   ],
   "source": [
    "for i in list_minimums:\n",
    "    print(i)"
   ]
  },
  {
   "cell_type": "code",
   "execution_count": 192,
   "metadata": {},
   "outputs": [
    {
     "data": {
      "image/png": "[encoded data removed]",
      "text/plain": [
       "<Figure size 576x576 with 1 Axes>"
      ]
     },
     "metadata": {
      "needs_background": "light"
     },
     "output_type": "display_data"
    }
   ],
   "source": [
    "fig, ax = plt.subplots(figsize=(8, 8))\n",
    "\n",
    "ax.set_title('Root Mean Square Error As Function Of \\n The K Mean Value.')\n",
    "\n",
    "for column in k_25.columns:\n",
    "    ax.plot(k_25.index,\n",
    "            k_25[column],\n",
    "            label=column)\n",
    "\n",
    "ax.set_xlabel('K Value')\n",
    "ax.set_ylabel('RMSE')\n",
    "    \n",
    "plt.legend(loc='upper left')\n",
    "\n",
    "plt.grid()\n",
    "\n",
    "plt.show()"
   ]
  },
  {
   "cell_type": "markdown",
   "metadata": {},
   "source": [
    "As we can observe in the graph above, the five and the 3 variable KNN models (blue and yellow respectively) have the smallest RMSE at $k=4$ whilst the two variable version has its minimum at $k=5$. Has we can see, it paid off to extend the number of variables up to five, since it substantially reduces the error ($RMSE=2228.31$) when compared with the other models, for a k value range from 1 up to 7.\n"
   ]
  },
  {
   "cell_type": "markdown",
   "metadata": {},
   "source": [
    "## Slide 6 (end of project)\n",
    "---\n",
    "That's it for the guided steps. Here are some ideas for next steps:\n",
    "\n",
    "- Modify the `knn_train_test()` function to use k-fold cross validation instead of test/train validation.\n",
    "   \n",
    "   \n",
    "- Modify the `knn_train_test()` function to perform the data cleaning as well.\n",
    "   \n",
    "   \n",
    "\n",
    "Curious to see what other students have done on this project? Head over to our Community to check them out. While you are there, please remember to show some love and give your own feedback!\n",
    "\n",
    "And of course, we welcome you to share your own project and show off your hard work. Head over to our Community to share your finished Guided Project!"
   ]
  },
  {
   "cell_type": "markdown",
   "metadata": {},
   "source": [
    "## Performing A K-fold Cross Validation For the Multivariate KNN Models\n",
    "---\n",
    "In order to get a better grasp on the models' prediction capabilities we can randomize our training and test sets several times over, assessing whether the average error is greater or smaller than the ones calculated earlier. To achieve this  we'll use the k-fold approach by setting the number of folds to 5.\n",
    "\n",
    "\n",
    "Instead of doing manually all pairing between 5 folders, in which each one of those folders (20% of the sample) will be set as the test set against the other 4 folders, which constitute the training set, we can use the scikit-learn `KFold` module. Since we are producing 5 different test and train sets' indexes, we need to transform the `knn_train_test_3` so that it takes those indexes as an input.\n",
    "\n",
    "We set `shuffle=True` and `random_state=1` so that the sample is shuffled again and to memorize it.\n",
    "\n",
    "The process to arrive at the RMSEs is:\n",
    "- set the scikit-learn `KFold` module to randomize and memorize 5 instances of the training and test sets.\n",
    "- create `knn_train_test_4()` so that this version allows the input DataFrame to be split through the index, according to the randomized train and test indexes provided by the `KFold` setting.\n",
    "- create a function, `knn_k_fold_crossval()`, that goes to the process of fitting-predicting-computing error 5 times for each model, and returning the average RMSE. This function allows an integer as input so that we can vary the k value used (number of neighbors used to fit the KNN model).\n",
    "\n"
   ]
  },
  {
   "cell_type": "code",
   "execution_count": 193,
   "metadata": {},
   "outputs": [],
   "source": [
    "from sklearn.model_selection import KFold\n",
    "\n",
    "kf = KFold(n_splits=5, shuffle=True, random_state=1)\n",
    "\n",
    "split = kf.split(cars_rand)"
   ]
  },
  {
   "cell_type": "code",
   "execution_count": 194,
   "metadata": {},
   "outputs": [],
   "source": [
    "def knn_train_test_4(k, train_index, test_index, train_cols, target_col, df):\n",
    "    \"\"\"It takes a dataframe, test and train indexes, list of attributes/columns and a \n",
    "    target column, in order to perform a Multivariate K-nearest Neighbors prediction. \n",
    "    It returns the Root Mean Square Error between the target and the prediction.\n",
    "    \"\"\"\n",
    "    \n",
    "    from sklearn.neighbors import KNeighborsRegressor\n",
    "    from sklearn.metrics import mean_squared_error\n",
    "\n",
    "    columns = train_cols + [target_col]\n",
    "    \n",
    "    train = df[columns].copy()\n",
    "    train = train.iloc[train_index, :].copy()\n",
    "    \n",
    "    \n",
    "    test = df[columns].copy()\n",
    "    test = test.iloc[test_index, :].copy()\n",
    "    \n",
    "    train_features = train[train_cols]\n",
    "    train_target = train[target_col]\n",
    "\n",
    "    \n",
    "    # K-nearest Neighbors section.\n",
    "    \n",
    "    knn = KNeighborsRegressor(n_neighbors=k, algorithm='auto')\n",
    "\n",
    "    knn.fit(train_features, train_target)\n",
    "    \n",
    "    prediction = knn.predict(test[train_cols])\n",
    "    \n",
    "    \n",
    "    # RMSE section.\n",
    "    \n",
    "    mse = mean_squared_error(test[target_col], prediction)\n",
    "    \n",
    "    rmse = round(np.sqrt(mse), 2)\n",
    "    \n",
    "    return rmse    "
   ]
  },
  {
   "cell_type": "code",
   "execution_count": 195,
   "metadata": {},
   "outputs": [],
   "source": [
    "def knn_k_fold_crossval(k):\n",
    "    \n",
    "    dictionary = {}\n",
    "    \n",
    "    for features in best_models:       \n",
    "           \n",
    "        rmse_list_kfold = []\n",
    "\n",
    "        for train_index, test_index in kf.split(cars_rand):\n",
    "            rmse = knn_train_test_4(k, train_index, test_index, features, 'price', cars_rand)\n",
    "            rmse_list_kfold.append(rmse)\n",
    "\n",
    "        mean_rmse = np.mean(rmse_list_kfold).round(2)\n",
    "\n",
    "        dictionary[str(features)] = mean_rmse\n",
    "        \n",
    "    return dictionary"
   ]
  },
  {
   "cell_type": "markdown",
   "metadata": {},
   "source": [
    "`knn_k_fold_crossval()` returns the mean RMSE for the models we have been exploring in the `best_models` list of best predicting features. The mean RMSE has been calculated from the 5 RMSEs produced by means of k-fold cross validation, by resorting to `knn_train_test_4()`. Since we have established that for these multivariate models the error is minimized when k is set between 4 and 5, we present the cross-validation RMSEs for each case. \n",
    "\n",
    "In general, the k-fold approach actually provides higher prediction errors compared with the initial fixed (single randomization) scenario. Moreover, the 5 variable model seemed reasonably the best model according to its lower RMSEs but we can see that that conclusion is weakened since, for example, the cross-validation RMSE for the two variable model, when k=4 (3113.24), is lower than the analogous five variable model RMSE (3155.23).  \n",
    "\n",
    "\n"
   ]
  },
  {
   "cell_type": "code",
   "execution_count": 196,
   "metadata": {},
   "outputs": [
    {
     "data": {
      "text/html": [
       "<div>\n",
       "<style scoped>\n",
       "    .dataframe tbody tr th:only-of-type {\n",
       "        vertical-align: middle;\n",
       "    }\n",
       "\n",
       "    .dataframe tbody tr th {\n",
       "        vertical-align: top;\n",
       "    }\n",
       "\n",
       "    .dataframe thead th {\n",
       "        text-align: right;\n",
       "    }\n",
       "</style>\n",
       "<table border=\"1\" class=\"dataframe\">\n",
       "  <thead>\n",
       "    <tr style=\"text-align: right;\">\n",
       "      <th></th>\n",
       "      <th>Fixed sets, k=4</th>\n",
       "      <th>Fixed sets, k=5</th>\n",
       "      <th>K-folds, k=4</th>\n",
       "      <th>K-folds, k=5</th>\n",
       "    </tr>\n",
       "  </thead>\n",
       "  <tbody>\n",
       "    <tr>\n",
       "      <th>['engine-size', 'curb-weight', 'city-mpg', 'highway-mpg', 'horsepower']</th>\n",
       "      <td>2228.31</td>\n",
       "      <td>2483.18</td>\n",
       "      <td>3125.44</td>\n",
       "      <td>2984.03</td>\n",
       "    </tr>\n",
       "    <tr>\n",
       "      <th>['engine-size', 'curb-weight', 'city-mpg']</th>\n",
       "      <td>2743.41</td>\n",
       "      <td>2832.63</td>\n",
       "      <td>3204.70</td>\n",
       "      <td>3138.77</td>\n",
       "    </tr>\n",
       "    <tr>\n",
       "      <th>['engine-size', 'curb-weight']</th>\n",
       "      <td>2934.50</td>\n",
       "      <td>2846.17</td>\n",
       "      <td>3107.48</td>\n",
       "      <td>3030.21</td>\n",
       "    </tr>\n",
       "  </tbody>\n",
       "</table>\n",
       "</div>"
      ],
      "text/plain": [
       "                                                    Fixed sets, k=4  \\\n",
       "['engine-size', 'curb-weight', 'city-mpg', 'hig...          2228.31   \n",
       "['engine-size', 'curb-weight', 'city-mpg']                  2743.41   \n",
       "['engine-size', 'curb-weight']                              2934.50   \n",
       "\n",
       "                                                    Fixed sets, k=5  \\\n",
       "['engine-size', 'curb-weight', 'city-mpg', 'hig...          2483.18   \n",
       "['engine-size', 'curb-weight', 'city-mpg']                  2832.63   \n",
       "['engine-size', 'curb-weight']                              2846.17   \n",
       "\n",
       "                                                    K-folds, k=4  K-folds, k=5  \n",
       "['engine-size', 'curb-weight', 'city-mpg', 'hig...       3125.44       2984.03  \n",
       "['engine-size', 'curb-weight', 'city-mpg']               3204.70       3138.77  \n",
       "['engine-size', 'curb-weight']                           3107.48       3030.21  "
      ]
     },
     "execution_count": 196,
     "metadata": {},
     "output_type": "execute_result"
    }
   ],
   "source": [
    "top_5_kfold_rmse = knn_k_fold_crossval(5)\n",
    "\n",
    "top_4_kfold_rmse = knn_k_fold_crossval(4)\n",
    "\n",
    "compile_rmse = pd.DataFrame({'Fixed sets, k=4': k_25.loc['4', :],\n",
    "                             'Fixed sets, k=5': k_25.loc['5', :],\n",
    "                             \n",
    "                             'K-folds, k=4': [top_5_kfold_rmse[key] for key in top_5_kfold_rmse],\n",
    "                             'K-folds, k=5': [top_4_kfold_rmse[key] for key in top_4_kfold_rmse]})\n",
    "\n",
    "\n",
    "compile_rmse\n"
   ]
  },
  {
   "cell_type": "markdown",
   "metadata": {},
   "source": [
    "\\[end of project\\]\n",
    "\n",
    "\\***\n"
   ]
  }
 ],
 "metadata": {
  "celltoolbar": "Initialization Cell",
  "hide_input": false,
  "kernelspec": {
   "display_name": "Python 3 (ipykernel)",
   "language": "python",
   "name": "python3"
  },
  "language_info": {
   "codemirror_mode": {
    "name": "ipython",
    "version": 3
   },
   "file_extension": ".py",
   "mimetype": "text/x-python",
   "name": "python",
   "nbconvert_exporter": "python",
   "pygments_lexer": "ipython3",
   "version": "3.9.2"
  },
  "toc": {
   "base_numbering": 1,
   "nav_menu": {},
   "number_sections": false,
   "sideBar": true,
   "skip_h1_title": true,
   "title_cell": "Table of Contents",
   "title_sidebar": "Contents",
   "toc_cell": false,
   "toc_position": {},
   "toc_section_display": true,
   "toc_window_display": false
  },
  "varInspector": {
   "cols": {
    "lenName": 16,
    "lenType": 16,
    "lenVar": 40
   },
   "kernels_config": {
    "python": {
     "delete_cmd_postfix": "",
     "delete_cmd_prefix": "del ",
     "library": "var_list.py",
     "varRefreshCmd": "print(var_dic_list())"
    },
    "r": {
     "delete_cmd_postfix": ") ",
     "delete_cmd_prefix": "rm(",
     "library": "var_list.r",
     "varRefreshCmd": "cat(var_dic_list()) "
    }
   },
   "types_to_exclude": [
    "module",
    "function",
    "builtin_function_or_method",
    "instance",
    "_Feature"
   ],
   "window_display": false
  }
 },
 "nbformat": 4,
 "nbformat_minor": 4
}
