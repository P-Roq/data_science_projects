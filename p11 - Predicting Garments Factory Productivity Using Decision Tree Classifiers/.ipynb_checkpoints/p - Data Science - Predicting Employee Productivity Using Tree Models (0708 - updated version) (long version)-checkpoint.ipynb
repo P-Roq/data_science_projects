{
 "cells": [
  {
   "cell_type": "markdown",
   "metadata": {},
   "source": [
    "# Data Science Project - Predicting Employee Productivity Using Tree Models\n",
    "\n",
    "\n",
    "## Introduction\n",
    "---\n",
    "We are given a data set with information on the garment industry and we are asked to predicted the productivity delivered by the factory workers.\n",
    "\n",
    "\n",
    "Variable description ([source](https://archive.ics.uci.edu/ml/datasets/Productivity+Prediction+of+Garment+Employees)):\n",
    "\n",
    "| Column                   | Description|\n",
    "| ------------------------ | ---------- |\n",
    "| `date`                  | Date in MM-DD-YYYY.|\n",
    "| `day`                   | Day of the Week.|\n",
    "| `quarter`               | A portion of the month. A month was divided into four quarters.|\n",
    "| `department`            | Associated department with the instance.|\n",
    "| `team`               | Associated team number with the instance.|\n",
    "| `no_of_workers`         | Number of workers in each team.|\n",
    "| `no_of_style_change`    | Number of changes in the style of a particular product.|\n",
    "| `targeted_productivity` | Targeted productivity set by the Authority for each team for each day.|\n",
    "| `smv`                   | Standard Minute Value, it is the allocated time for a task.|\n",
    "| `wip`                   | Work in progress. Includes the number of unfinished items for products.|\n",
    "| `over_time`             | Represents the amount of overtime by each team in minutes.|\n",
    "| `incentive`             | Represents the amount of financial incentive (in Bangladeshi Taka - BDT) that enables or motivates a particular course of action. |\n",
    "| `idle_time`             | The amount of time when the production was interrupted due to several reasons.|\n",
    "| `idle_men`              | The number of workers who were idle due to production interruption.|\n",
    "| `actual_productivity`   | The actual % of productivity that was delivered by the workers. It ranges from 0-1.|"
   ]
  },
  {
   "cell_type": "markdown",
   "metadata": {},
   "source": [
    "## Exploratory Data Analysis\n",
    "---\n",
    "The following analysis of the data set intents to lay the ground for the variables to be used in the model estimation.\n",
    "\n",
    "- Time related variables (`date`, `day` and `quarter`):\n",
    "    - Productivity can change in relation to time, the season of the year can affect workers due to adversarial climate conditions (e.g. too much humidity, too much hot temperature, too cold, etc). We also know that as the working days go by, the productivity tends to drop from the first days after the previous day(s)-off up to the days before the next day(s)-off; therefore, we can explore the following time/date related variables:\n",
    "        - season of the year.\n",
    "        - day of the week.\n",
    "        - quarter of the month.\n",
    "\n",
    "\n",
    "- Factory department (`department`):\n",
    "    - Different departments can have different measurements of 'actual' productivity, but we assume that the measurement used is standardized, so that we can actually differentiate worker by department. \n",
    "\n",
    "\n",
    "- Teams (`team` and `no_of_workers`):\n",
    "    - we can distinguish workers by teams since different team management can impact the workers' productivity. The number of workers for each team can have an impact on the productivity since large teams can be more difficult to coordinate and to assure rule compliance. \n",
    "\n",
    "\n",
    "- Allocated time for a task (`svm`):\n",
    "\t- without further context, this variable is not directly related to workers productivity, therefore we can drop it.\n",
    "\n",
    "\n",
    "- Work in progress (`wip`):\n",
    "\t- The number of finished products can be an indicative of productivity, but since many factors can affect the number of finished products - machines working at full capacity, reasonable deadlines, effective lower tier management, we will not include this variable.\n",
    "\n",
    "\n",
    "- Overtime (`over_time`):\n",
    "\t- Excess overtime can impact negatively the workers' productivity, both in the short and in the long term (depending on the of excess work), hence we can include this variable in the model.\n",
    "\n",
    "\n",
    "- Financial rewarding (`incentive`):\n",
    "\t- financial rewarding is expected to incentivize workers, therefore it is expected that well rewarded workers will have increased productivity.\n",
    "\n",
    "\n",
    "- Product complexity (`no_of_style_change`):\n",
    "\t- Augmenting the detail and modifications a product requires, can increase the risk of product faultiness, and delay productivity.\n",
    "\n",
    "\n",
    "- Delays registered:\n",
    "\t- If fews row register idle time (`idle_time`) we drop them as well as the associate number of idle workers (`idle_men`). We aim to analyze workers' productivity in normal conditions.  \n",
    "\n",
    "\n",
    "- Expected productivity and actual productivity (`targeted_productivity`, `actual_productivity`):\n",
    "\t- We can build a target variable for a regression tree which is given by the difference between the targeted (expected) and actual productivity, so that the model prediction reflects the productivity increase or decrease from the expected value. "
   ]
  },
  {
   "cell_type": "code",
   "execution_count": 42,
   "metadata": {
    "init_cell": true
   },
   "outputs": [],
   "source": [
    "import numpy as np\n",
    "import pandas as pd\n",
    "import re\n",
    "import matplotlib.pyplot as plt\n",
    "import seaborn as sns\n",
    "\n",
    "%matplotlib inline"
   ]
  },
  {
   "cell_type": "markdown",
   "metadata": {},
   "source": [
    "## Slide 1\n",
    "---\n",
    "Welcome to the guided project for the **Decision Tree and Random Forest Modeling in Python course**! Like other courses at Dataquest, it's time to apply everything we learned during the lessons!\n",
    "\n",
    "On the right side of your screen, there is a Jupyter Notebook instance ready and waiting. However, you also have the option to work on your local computer by downloading the Anaconda suite.\n",
    "\n",
    "For this guided project, we'll be introducing the dataset [Productivity Prediction of Garment Employees](https://archive.ics.uci.edu/ml/datasets/Productivity+Prediction+of+Garment+Employees). The original dataset is in the UCI Machine Learning Repository. Below is a description of the dataset, according to its official summary:\n",
    "\n",
    "> \"The garment industry is one of the key examples of the industrial globalization of the modern era.\n",
    ">\n",
    "> It is a highly labour-intensive industry with lots of manual processes. Satisfying the huge global demand for garment products is mostly dependent on the production and delivery performance of the employees in the garment manufacturing companies.\n",
    ">\n",
    "> So, it is highly desirable among the decision-makers in the garments industry to track, analyze, and predict the productivity performance of the working teams in their factories.\"\n",
    "\n",
    "\n",
    "What's interesting about the dataset is that we can use it with both regression and classification algorithms, as is clearly stated in the final sentence of the official summary:\n",
    "\n",
    "> \"This dataset can be used for regression purposes by predicting the productivity range (0-1) or for classification purposes by transforming the productivity range (0-1) into different classes.\"\n",
    "\n",
    "The instructions you'll find on the following screens focus on working with a classification tree. However, like many guided projects, the instructions serve only as general guidance. In this sense, the proposed solution available [here](https://github.com/dataquestio/solutions/blob/master/Mission755Solutions.ipynb) is one of many possible, and we encourage you to work with the dataset however you like.\n",
    "\n",
    "After all, the more personalized your guided project is, the better! If you decide to upload it to your personal repository, this will help you showcase your individual skill-set to potential employers!\n",
    "\n",
    "Finally, on a related note, and regarding this level of freedom, don't get discouraged if you get stuck. Remember that solving these kinds of problems is an integral part of the learning process. You've come a long way since the beginning of your data science journey, and considering how advanced you already are, it's unlikely that you will find an obstacle that you can't surpass!\n",
    "\n",
    "Know that it's okay to revisit previous lessons to refresh your memory if/when you get stuck. You can always consult sites like Stack Overflow or use a search engine if you can't remember the exact syntax or if you receive an error you don't know how to resolve. This is normal, and it's not considered \"cheating\" at all!\n",
    "\n",
    "Last but not least, you can interact with your fellow students through the official [Dataquest forums](https://community.dataquest.io/).\n",
    "\n",
    "\n",
    "#### Instructions\n",
    "---\n",
    "Let's begin by importing the required libraries and loading the dataset into a DataFrame:\n",
    "\n",
    "1. Import the `pandas` library.\n",
    "\n",
    "\n",
    "2. Load the `garments_worker_productivity.csv` dataset into a variable called `df`.\n",
    "\n",
    "\n",
    "3. Confirm the dataset was correctly loaded by inspecting it with the `head()` method.\n",
    "\n",
    "\n",
    "\n"
   ]
  },
  {
   "cell_type": "code",
   "execution_count": 43,
   "metadata": {},
   "outputs": [
    {
     "name": "stdout",
     "output_type": "stream",
     "text": [
      "<class 'pandas.core.frame.DataFrame'>\n",
      "RangeIndex: 1197 entries, 0 to 1196\n",
      "Data columns (total 15 columns):\n",
      " #   Column                 Non-Null Count  Dtype  \n",
      "---  ------                 --------------  -----  \n",
      " 0   date                   1197 non-null   object \n",
      " 1   quarter                1197 non-null   object \n",
      " 2   department             1197 non-null   object \n",
      " 3   day                    1197 non-null   object \n",
      " 4   team                   1197 non-null   int64  \n",
      " 5   targeted_productivity  1197 non-null   float64\n",
      " 6   smv                    1197 non-null   float64\n",
      " 7   wip                    691 non-null    float64\n",
      " 8   over_time              1197 non-null   int64  \n",
      " 9   incentive              1197 non-null   int64  \n",
      " 10  idle_time              1197 non-null   float64\n",
      " 11  idle_men               1197 non-null   int64  \n",
      " 12  no_of_style_change     1197 non-null   int64  \n",
      " 13  no_of_workers          1197 non-null   float64\n",
      " 14  actual_productivity    1197 non-null   float64\n",
      "dtypes: float64(6), int64(5), object(4)\n",
      "memory usage: 140.4+ KB\n"
     ]
    }
   ],
   "source": [
    "df0 = pd.read_csv('garments_worker_productivity.csv')\n",
    "\n",
    "df0.info()"
   ]
  },
  {
   "cell_type": "code",
   "execution_count": 44,
   "metadata": {},
   "outputs": [
    {
     "data": {
      "text/html": [
       "<div>\n",
       "<style scoped>\n",
       "    .dataframe tbody tr th:only-of-type {\n",
       "        vertical-align: middle;\n",
       "    }\n",
       "\n",
       "    .dataframe tbody tr th {\n",
       "        vertical-align: top;\n",
       "    }\n",
       "\n",
       "    .dataframe thead th {\n",
       "        text-align: right;\n",
       "    }\n",
       "</style>\n",
       "<table border=\"1\" class=\"dataframe\">\n",
       "  <thead>\n",
       "    <tr style=\"text-align: right;\">\n",
       "      <th></th>\n",
       "      <th>date</th>\n",
       "      <th>quarter</th>\n",
       "      <th>department</th>\n",
       "      <th>day</th>\n",
       "      <th>team</th>\n",
       "      <th>targeted_productivity</th>\n",
       "      <th>smv</th>\n",
       "      <th>wip</th>\n",
       "      <th>over_time</th>\n",
       "      <th>incentive</th>\n",
       "      <th>idle_time</th>\n",
       "      <th>idle_men</th>\n",
       "      <th>no_of_style_change</th>\n",
       "      <th>no_of_workers</th>\n",
       "      <th>actual_productivity</th>\n",
       "    </tr>\n",
       "  </thead>\n",
       "  <tbody>\n",
       "    <tr>\n",
       "      <th>0</th>\n",
       "      <td>1/1/2015</td>\n",
       "      <td>Quarter1</td>\n",
       "      <td>sweing</td>\n",
       "      <td>Thursday</td>\n",
       "      <td>8</td>\n",
       "      <td>0.80</td>\n",
       "      <td>26.16</td>\n",
       "      <td>1108.0</td>\n",
       "      <td>7080</td>\n",
       "      <td>98</td>\n",
       "      <td>0.0</td>\n",
       "      <td>0</td>\n",
       "      <td>0</td>\n",
       "      <td>59.0</td>\n",
       "      <td>0.940725</td>\n",
       "    </tr>\n",
       "    <tr>\n",
       "      <th>1</th>\n",
       "      <td>1/1/2015</td>\n",
       "      <td>Quarter1</td>\n",
       "      <td>finishing</td>\n",
       "      <td>Thursday</td>\n",
       "      <td>1</td>\n",
       "      <td>0.75</td>\n",
       "      <td>3.94</td>\n",
       "      <td>NaN</td>\n",
       "      <td>960</td>\n",
       "      <td>0</td>\n",
       "      <td>0.0</td>\n",
       "      <td>0</td>\n",
       "      <td>0</td>\n",
       "      <td>8.0</td>\n",
       "      <td>0.886500</td>\n",
       "    </tr>\n",
       "    <tr>\n",
       "      <th>2</th>\n",
       "      <td>1/1/2015</td>\n",
       "      <td>Quarter1</td>\n",
       "      <td>sweing</td>\n",
       "      <td>Thursday</td>\n",
       "      <td>11</td>\n",
       "      <td>0.80</td>\n",
       "      <td>11.41</td>\n",
       "      <td>968.0</td>\n",
       "      <td>3660</td>\n",
       "      <td>50</td>\n",
       "      <td>0.0</td>\n",
       "      <td>0</td>\n",
       "      <td>0</td>\n",
       "      <td>30.5</td>\n",
       "      <td>0.800570</td>\n",
       "    </tr>\n",
       "    <tr>\n",
       "      <th>3</th>\n",
       "      <td>1/1/2015</td>\n",
       "      <td>Quarter1</td>\n",
       "      <td>sweing</td>\n",
       "      <td>Thursday</td>\n",
       "      <td>12</td>\n",
       "      <td>0.80</td>\n",
       "      <td>11.41</td>\n",
       "      <td>968.0</td>\n",
       "      <td>3660</td>\n",
       "      <td>50</td>\n",
       "      <td>0.0</td>\n",
       "      <td>0</td>\n",
       "      <td>0</td>\n",
       "      <td>30.5</td>\n",
       "      <td>0.800570</td>\n",
       "    </tr>\n",
       "    <tr>\n",
       "      <th>4</th>\n",
       "      <td>1/1/2015</td>\n",
       "      <td>Quarter1</td>\n",
       "      <td>sweing</td>\n",
       "      <td>Thursday</td>\n",
       "      <td>6</td>\n",
       "      <td>0.80</td>\n",
       "      <td>25.90</td>\n",
       "      <td>1170.0</td>\n",
       "      <td>1920</td>\n",
       "      <td>50</td>\n",
       "      <td>0.0</td>\n",
       "      <td>0</td>\n",
       "      <td>0</td>\n",
       "      <td>56.0</td>\n",
       "      <td>0.800382</td>\n",
       "    </tr>\n",
       "  </tbody>\n",
       "</table>\n",
       "</div>"
      ],
      "text/plain": [
       "       date   quarter  department       day  team  targeted_productivity  \\\n",
       "0  1/1/2015  Quarter1      sweing  Thursday     8                   0.80   \n",
       "1  1/1/2015  Quarter1  finishing   Thursday     1                   0.75   \n",
       "2  1/1/2015  Quarter1      sweing  Thursday    11                   0.80   \n",
       "3  1/1/2015  Quarter1      sweing  Thursday    12                   0.80   \n",
       "4  1/1/2015  Quarter1      sweing  Thursday     6                   0.80   \n",
       "\n",
       "     smv     wip  over_time  incentive  idle_time  idle_men  \\\n",
       "0  26.16  1108.0       7080         98        0.0         0   \n",
       "1   3.94     NaN        960          0        0.0         0   \n",
       "2  11.41   968.0       3660         50        0.0         0   \n",
       "3  11.41   968.0       3660         50        0.0         0   \n",
       "4  25.90  1170.0       1920         50        0.0         0   \n",
       "\n",
       "   no_of_style_change  no_of_workers  actual_productivity  \n",
       "0                   0           59.0             0.940725  \n",
       "1                   0            8.0             0.886500  \n",
       "2                   0           30.5             0.800570  \n",
       "3                   0           30.5             0.800570  \n",
       "4                   0           56.0             0.800382  "
      ]
     },
     "execution_count": 44,
     "metadata": {},
     "output_type": "execute_result"
    }
   ],
   "source": [
    "df0.head()"
   ]
  },
  {
   "cell_type": "markdown",
   "metadata": {},
   "source": [
    "## Slide 2 - Dataset Exploration\n",
    "---\n",
    "As with any other dataset, determining what each column is telling us is a fundamental part of the exploration. \n",
    "\n",
    "\n",
    "#### Instructions\n",
    "---\n",
    "1. Get the `shape` of the dataset.\n",
    "\n",
    "    \n",
    "2. Inspect the dataset using the `info()` and `describe()` methods.\n",
    "\n",
    "    \n",
    "3. Explore the columns:\n",
    "    - What type of data does each column include?\n",
    "    - Are there any missing or incorrect values?\n",
    "    - What is the count of observations for each unique value within each column?\n",
    "\n",
    "    \n",
    "4. Compare relevant columns with each other (i.e., `targeted_productivity vs. actual_productivity`)\n"
   ]
  },
  {
   "cell_type": "markdown",
   "metadata": {},
   "source": [
    "**Date/time related variables**"
   ]
  },
  {
   "cell_type": "markdown",
   "metadata": {},
   "source": [
    "Since we are using data from Bangladesh the weather seasons are quite different from those in the west northern hemisphere, thus we designate differently these seasons:\n",
    "\n",
    "- March-May - 'pre-monsoon':\n",
    "    - very hot and humid, with occasional storms of wind and hail and/or thunder.\n",
    "    \n",
    "    \n",
    "- June-August - 'monsoon':\n",
    "    - monsoon period with extreme humidity and rainfall.\n",
    "    \n",
    "    \n",
    "- September-November - 'post-monsoon':\n",
    "    - end of monsoon, with rain and strong winds; temperatures rising until quite hot, occurrence of cyclones. Weather becomes milder as time progresses.\n",
    "    \n",
    "    \n",
    "- December-February - 'winter'\n",
    "    - Usually a mild winter takes place.\n",
    "    \n",
    "Given this information we replace `date` in the data set by a season dummy columns."
   ]
  },
  {
   "cell_type": "code",
   "execution_count": 45,
   "metadata": {},
   "outputs": [],
   "source": [
    "months = df0.date.str.split('/').apply(lambda x: x[0]).astype(int)\n",
    "\n",
    "for i, month in enumerate(months):\n",
    "    if (month == 12) | (month == 1) | (month == 2):\n",
    "        months[i] = 'winter'\n",
    "    elif 2 < month < 6:\n",
    "        months[i] = 'pre_monsoon'    \n",
    "    elif 5 < month < 9:\n",
    "        months[i] = 'monsoon'\n",
    "    elif 8 < month < 12:\n",
    "        months[i] = 'post_monsoon'  \n",
    "\n",
    "df1 = df0.copy().drop(columns=['date'])\n",
    "\n",
    "df1['season'] = months\n",
    "\n",
    "df1 = pd.get_dummies(\n",
    "    data=df1,\n",
    "    columns=['season'],\n",
    "    prefix='',\n",
    "    prefix_sep='',\n",
    "    drop_first=False,\n",
    "    )"
   ]
  },
  {
   "cell_type": "markdown",
   "metadata": {},
   "source": [
    "Usually, factories do rotation for the day(s) off they attribute to their workers, but the scheme can vary for each type of industry, culture of the country, etc. If we examine the values in `day` we see that there are no values for Friday, which we can assume is the day-off. If we assume that the weekly productivity is correlated with the number of prior days of working with a day-off, we can produce a dummy of the type:\n",
    "- `0` if Saturday to Monday (three days after the day-off),\n",
    "- `1` if Tuesday to Thursday (three days left to the day-off)."
   ]
  },
  {
   "cell_type": "code",
   "execution_count": 46,
   "metadata": {},
   "outputs": [
    {
     "data": {
      "text/plain": [
       "Wednesday    208\n",
       "Sunday       203\n",
       "Tuesday      201\n",
       "Thursday     199\n",
       "Monday       199\n",
       "Saturday     187\n",
       "Name: day, dtype: int64"
      ]
     },
     "execution_count": 46,
     "metadata": {},
     "output_type": "execute_result"
    }
   ],
   "source": [
    "df1.day.value_counts()"
   ]
  },
  {
   "cell_type": "code",
   "execution_count": 47,
   "metadata": {},
   "outputs": [],
   "source": [
    "df1['day_d'] = df1.day.apply(\n",
    "    lambda x: 0 if x in ['Saturday', 'Sunday', 'Monday'] else 1\n",
    "    )\n",
    "\n",
    "df1 = df1.drop(columns=['day'])"
   ]
  },
  {
   "cell_type": "markdown",
   "metadata": {},
   "source": [
    "When inspecting `quarter` we expect to see 4 quarters although we have a 5th quarter. Without further context we opt to drop the rows belonging to this subcategory; then we can convert it into dummies."
   ]
  },
  {
   "cell_type": "code",
   "execution_count": 48,
   "metadata": {},
   "outputs": [
    {
     "data": {
      "text/plain": [
       "Quarter1    360\n",
       "Quarter2    335\n",
       "Quarter4    248\n",
       "Quarter3    210\n",
       "Quarter5     44\n",
       "Name: quarter, dtype: int64"
      ]
     },
     "execution_count": 48,
     "metadata": {},
     "output_type": "execute_result"
    }
   ],
   "source": [
    "df1.quarter.value_counts()"
   ]
  },
  {
   "cell_type": "code",
   "execution_count": 49,
   "metadata": {},
   "outputs": [],
   "source": [
    "df1 = df1.query('quarter != \"Quarter5\"')\n",
    "\n",
    "df1 = pd.get_dummies(\n",
    "    data=df1,\n",
    "    columns=['quarter'],\n",
    "    prefix='',\n",
    "    prefix_sep='',\n",
    "    drop_first=False,\n",
    "    )"
   ]
  },
  {
   "cell_type": "markdown",
   "metadata": {},
   "source": [
    "When inspecting `department` we can see that there is some kind of data insertion error. We can merge the two `finishing` categories and create a dummy of the type:\n",
    "- `0` if sweing,\n",
    "- `1` if finishing."
   ]
  },
  {
   "cell_type": "code",
   "execution_count": 50,
   "metadata": {},
   "outputs": [
    {
     "data": {
      "text/plain": [
       "sweing        668\n",
       "finishing     249\n",
       "finishing     236\n",
       "Name: department, dtype: int64"
      ]
     },
     "execution_count": 50,
     "metadata": {},
     "output_type": "execute_result"
    }
   ],
   "source": [
    "df1.department.value_counts()"
   ]
  },
  {
   "cell_type": "markdown",
   "metadata": {},
   "source": [
    "After a quick diagnostic we can see that the category in the middle row ends with a space so that is typed `finishing `."
   ]
  },
  {
   "cell_type": "code",
   "execution_count": 51,
   "metadata": {},
   "outputs": [
    {
     "data": {
      "text/plain": [
       "0    False\n",
       "1     True\n",
       "2    False\n",
       "dtype: bool"
      ]
     },
     "execution_count": 51,
     "metadata": {},
     "output_type": "execute_result"
    }
   ],
   "source": [
    "pd.Series(df1.department.unique()).str.endswith(' ')"
   ]
  },
  {
   "cell_type": "code",
   "execution_count": 52,
   "metadata": {},
   "outputs": [],
   "source": [
    "df1['department_d'] = df1.department.apply(\n",
    "    lambda x: 0 if x == 'sweing' else 0\n",
    "    )\n",
    "\n",
    "df1 = df1.drop(columns=['department'])"
   ]
  },
  {
   "cell_type": "markdown",
   "metadata": {},
   "source": [
    "Inspecting `team_no` and `no_of_workers`."
   ]
  },
  {
   "cell_type": "code",
   "execution_count": 53,
   "metadata": {},
   "outputs": [
    {
     "data": {
      "text/plain": [
       "8     106\n",
       "2     105\n",
       "1     101\n",
       "9     101\n",
       "4     101\n",
       "10     96\n",
       "12     95\n",
       "7      93\n",
       "3      91\n",
       "6      90\n",
       "5      90\n",
       "11     84\n",
       "Name: team, dtype: int64"
      ]
     },
     "execution_count": 53,
     "metadata": {},
     "output_type": "execute_result"
    }
   ],
   "source": [
    "df1.team.value_counts()"
   ]
  },
  {
   "cell_type": "markdown",
   "metadata": {},
   "source": [
    "Due to the large number of teams we'll be dropping this variable to simplify the tree estimation process."
   ]
  },
  {
   "cell_type": "code",
   "execution_count": 54,
   "metadata": {},
   "outputs": [],
   "source": [
    "df1 = df1.drop(columns='team')"
   ]
  },
  {
   "cell_type": "markdown",
   "metadata": {},
   "source": [
    "Next, we observe the distribution of workers per team."
   ]
  },
  {
   "cell_type": "code",
   "execution_count": 55,
   "metadata": {},
   "outputs": [
    {
     "data": {
      "image/png": "[encoded data removed]",
      "text/plain": [
       "<Figure size 432x288 with 1 Axes>"
      ]
     },
     "metadata": {
      "needs_background": "light"
     },
     "output_type": "display_data"
    }
   ],
   "source": [
    "plt.hist(df1.no_of_workers)\n",
    "plt.title('Histogram - Number Of Workers Per Team')\n",
    "plt.xticks(np.arange(0, 90+10, 10))\n",
    "plt.grid(axis='y', zorder=-1)\n",
    "plt.show()"
   ]
  },
  {
   "cell_type": "markdown",
   "metadata": {},
   "source": [
    "We could transform `no_of_workers` into a categoric variable of the style 'small', 'medium' or 'large' team, but we'll let this variable as is.\n",
    "\n",
    "Next, as discussed previously, we'll be dropping `smv` and `wip` as well as `idle_time` and `idle_men`.\n",
    "\n",
    "For the record, about 42% of values in `wip` (work in progress) are missing, therefore we would remove this variable even if we were planning to use it."
   ]
  },
  {
   "cell_type": "code",
   "execution_count": 56,
   "metadata": {},
   "outputs": [
    {
     "name": "stdout",
     "output_type": "stream",
     "text": [
      "Missing values percentage - `wip`: 42.06%.\n"
     ]
    }
   ],
   "source": [
    "na_wip = round(df1.wip.isna().sum()*100/df1.shape[0], 2)\n",
    "\n",
    "print(f'Missing values percentage - `wip`: {na_wip}%.')\n",
    "\n",
    "df1 = df1.drop(columns=['smv', 'wip', 'idle_time', 'idle_men'])"
   ]
  },
  {
   "cell_type": "markdown",
   "metadata": {},
   "source": [
    "Inspecting `over_time` and `incentive`."
   ]
  },
  {
   "cell_type": "code",
   "execution_count": 57,
   "metadata": {},
   "outputs": [
    {
     "data": {
      "image/png": "[encoded data removed]",
      "text/plain": [
       "<Figure size 432x288 with 1 Axes>"
      ]
     },
     "metadata": {
      "needs_background": "light"
     },
     "output_type": "display_data"
    }
   ],
   "source": [
    "plt.hist(df1.over_time)\n",
    "plt.title('Histogram - Overtime')\n",
    "plt.grid(axis='y', zorder=-1)\n",
    "plt.show()"
   ]
  },
  {
   "cell_type": "code",
   "execution_count": 58,
   "metadata": {},
   "outputs": [
    {
     "data": {
      "image/png": "[encoded data removed]",
      "text/plain": [
       "<Figure size 432x288 with 1 Axes>"
      ]
     },
     "metadata": {
      "needs_background": "light"
     },
     "output_type": "display_data"
    }
   ],
   "source": [
    "plt.hist(df1.incentive)\n",
    "plt.title('Histogram - Incentive')\n",
    "plt.grid(axis='y', zorder=-1)\n",
    "plt.show()"
   ]
  },
  {
   "cell_type": "markdown",
   "metadata": {},
   "source": [
    "As we can observe, `incentive` is extremely skewed to the right (positive) and has extreme outliers beyond 400 BDT. To smooth out this values we'll trimming the rows for which an incentive over 500 BDT and also those row with over time over 20000 minutes. "
   ]
  },
  {
   "cell_type": "code",
   "execution_count": 59,
   "metadata": {},
   "outputs": [],
   "source": [
    "df1 = df1.query('incentive <= 500 & over_time < 20000')"
   ]
  },
  {
   "cell_type": "markdown",
   "metadata": {},
   "source": [
    "## Slide 3 - Dataset Cleaning (I)\n",
    "---\n",
    "Now that we've explored every column, it's time to perform some data cleaning with two objectives in mind:\n",
    "\n",
    "- Fix any incorrect observations that could be present in our columns.\n",
    "\n",
    "\n",
    "- Decide which columns we will keep to fit the decision tree algorithm.\n",
    "\n",
    "\n",
    "To accomplish the first objective, we will be using various `pandas` functions and methods from previous Dataquest courses on data cleaning.\n",
    "\n",
    "For the second objective, now that we've explored every column, we'll start asking questions about the columns to select the most important ones for our decision tree. Although this process is open-ended, and it changes with each unique dataset, don't get discouraged! Good data cleaning takes time and patience. To get you started, here are some general questions to guide your effort:\n",
    "\n",
    "- Is the column providing me with information that would give valuable insights in a decision tree, or is it superfluous and/or unrelated?\n",
    "\n",
    "\n",
    "- Does the column contain data that is similar enough to another column that we only need to keep one?\n",
    "\n",
    "\n",
    "- How many missing values does the column have? Can we work around them? Is there a way that we could reduce them (for instance, by transforming other columns)? What would happen if we didn't use the column? Would this negatively change the effectiveness of the others?\n",
    "\n",
    "\n",
    "- Does the column feature the appropriate data type to fit a decision tree? If not, what options do we have to transform the values?\n",
    "\n",
    "\n",
    "- Is there a chance that we could create a new and useful column based on the combined information of two other columns?\n",
    "\n",
    "\n",
    "\n",
    "- Would changing the column order in the dataset improve its readability?\n",
    "\n",
    "There are a few additional data cleaning steps we need to take before creating our model, but we will save those for the next screen. For now, let's start cleaning our data!\n",
    "\n",
    "\n",
    "\n",
    "#### Instructions\n",
    "---\n",
    "1. Examine the value counts for the `department` column to determine the problem with the information in this column.\n",
    "    - Open a Markdown cell, and briefly explain the problem with some of the observations.\n",
    "    - Fix those observations accordingly.\n",
    "\n",
    "    \n",
    "2. Remove the columns you consider unnecessary for a tree model and/or that contain unrelated data.\n",
    "    - As before, create a Markdown cell, and briefly explain why you made the decision to remove them.\n",
    "\n",
    "   \n",
    "3. Create the target column for a classification tree, using both productivity columns."
   ]
  },
  {
   "cell_type": "markdown",
   "metadata": {},
   "source": [
    "Finally, we calculate a target variable which is the percentage change from the expected to the actual productivity. To make this a this model a classification one, we can convert the productivity change into several categories. We'll check first the distribution of this later variable to decide on the intervals that will define the sub-categories.\n"
   ]
  },
  {
   "cell_type": "code",
   "execution_count": 60,
   "metadata": {},
   "outputs": [],
   "source": [
    "df1['productivity_change'] = (df1.actual_productivity - df1.targeted_productivity) / df1.targeted_productivity\n",
    "\n",
    "df1['productivity_change'] =  df1.productivity_change*100\n",
    "\n",
    "df1['productivity_change'] =  df1.productivity_change.round(2)"
   ]
  },
  {
   "cell_type": "code",
   "execution_count": 61,
   "metadata": {},
   "outputs": [
    {
     "data": {
      "text/html": [
       "<div>\n",
       "<style scoped>\n",
       "    .dataframe tbody tr th:only-of-type {\n",
       "        vertical-align: middle;\n",
       "    }\n",
       "\n",
       "    .dataframe tbody tr th {\n",
       "        vertical-align: top;\n",
       "    }\n",
       "\n",
       "    .dataframe thead th {\n",
       "        text-align: right;\n",
       "    }\n",
       "</style>\n",
       "<table border=\"1\" class=\"dataframe\">\n",
       "  <thead>\n",
       "    <tr style=\"text-align: right;\">\n",
       "      <th></th>\n",
       "      <th>targeted_productivity</th>\n",
       "      <th>actual_productivity</th>\n",
       "      <th>productivity_change</th>\n",
       "    </tr>\n",
       "  </thead>\n",
       "  <tbody>\n",
       "    <tr>\n",
       "      <th>0</th>\n",
       "      <td>0.80</td>\n",
       "      <td>0.940725</td>\n",
       "      <td>17.59</td>\n",
       "    </tr>\n",
       "    <tr>\n",
       "      <th>1</th>\n",
       "      <td>0.75</td>\n",
       "      <td>0.886500</td>\n",
       "      <td>18.20</td>\n",
       "    </tr>\n",
       "    <tr>\n",
       "      <th>2</th>\n",
       "      <td>0.80</td>\n",
       "      <td>0.800570</td>\n",
       "      <td>0.07</td>\n",
       "    </tr>\n",
       "    <tr>\n",
       "      <th>3</th>\n",
       "      <td>0.80</td>\n",
       "      <td>0.800570</td>\n",
       "      <td>0.07</td>\n",
       "    </tr>\n",
       "    <tr>\n",
       "      <th>4</th>\n",
       "      <td>0.80</td>\n",
       "      <td>0.800382</td>\n",
       "      <td>0.05</td>\n",
       "    </tr>\n",
       "    <tr>\n",
       "      <th>5</th>\n",
       "      <td>0.80</td>\n",
       "      <td>0.800125</td>\n",
       "      <td>0.02</td>\n",
       "    </tr>\n",
       "  </tbody>\n",
       "</table>\n",
       "</div>"
      ],
      "text/plain": [
       "   targeted_productivity  actual_productivity  productivity_change\n",
       "0                   0.80             0.940725                17.59\n",
       "1                   0.75             0.886500                18.20\n",
       "2                   0.80             0.800570                 0.07\n",
       "3                   0.80             0.800570                 0.07\n",
       "4                   0.80             0.800382                 0.05\n",
       "5                   0.80             0.800125                 0.02"
      ]
     },
     "execution_count": 61,
     "metadata": {},
     "output_type": "execute_result"
    }
   ],
   "source": [
    "df1.loc[:5, ['targeted_productivity', 'actual_productivity', 'productivity_change']]"
   ]
  },
  {
   "cell_type": "markdown",
   "metadata": {},
   "source": [
    "Before further implementations we inspect the distribution of `productivity_change` to spot extreme outliers."
   ]
  },
  {
   "cell_type": "code",
   "execution_count": 62,
   "metadata": {},
   "outputs": [
    {
     "data": {
      "image/png": "[encoded data removed]",
      "text/plain": [
       "<Figure size 432x288 with 1 Axes>"
      ]
     },
     "metadata": {
      "needs_background": "light"
     },
     "output_type": "display_data"
    }
   ],
   "source": [
    "plt.hist(df1.productivity_change)\n",
    "plt.title('Histogram - Productivity Change')\n",
    "plt.grid(axis='y', zorder=-1)\n",
    "plt.show()"
   ]
  },
  {
   "cell_type": "markdown",
   "metadata": {},
   "source": [
    "When checking on `productivity_change` we can see that there is one value over 300%. We trim this row."
   ]
  },
  {
   "cell_type": "code",
   "execution_count": 63,
   "metadata": {},
   "outputs": [
    {
     "data": {
      "text/html": [
       "<div>\n",
       "<style scoped>\n",
       "    .dataframe tbody tr th:only-of-type {\n",
       "        vertical-align: middle;\n",
       "    }\n",
       "\n",
       "    .dataframe tbody tr th {\n",
       "        vertical-align: top;\n",
       "    }\n",
       "\n",
       "    .dataframe thead th {\n",
       "        text-align: right;\n",
       "    }\n",
       "</style>\n",
       "<table border=\"1\" class=\"dataframe\">\n",
       "  <thead>\n",
       "    <tr style=\"text-align: right;\">\n",
       "      <th></th>\n",
       "      <th>targeted_productivity</th>\n",
       "      <th>over_time</th>\n",
       "      <th>incentive</th>\n",
       "      <th>no_of_style_change</th>\n",
       "      <th>no_of_workers</th>\n",
       "      <th>actual_productivity</th>\n",
       "      <th>pre_monsoon</th>\n",
       "      <th>winter</th>\n",
       "      <th>day_d</th>\n",
       "      <th>Quarter1</th>\n",
       "      <th>Quarter2</th>\n",
       "      <th>Quarter3</th>\n",
       "      <th>Quarter4</th>\n",
       "      <th>department_d</th>\n",
       "      <th>productivity_change</th>\n",
       "    </tr>\n",
       "  </thead>\n",
       "  <tbody>\n",
       "    <tr>\n",
       "      <th>633</th>\n",
       "      <td>0.07</td>\n",
       "      <td>6960</td>\n",
       "      <td>0</td>\n",
       "      <td>0</td>\n",
       "      <td>58.0</td>\n",
       "      <td>0.522845</td>\n",
       "      <td>0</td>\n",
       "      <td>1</td>\n",
       "      <td>1</td>\n",
       "      <td>1</td>\n",
       "      <td>0</td>\n",
       "      <td>0</td>\n",
       "      <td>0</td>\n",
       "      <td>0</td>\n",
       "      <td>646.92</td>\n",
       "    </tr>\n",
       "  </tbody>\n",
       "</table>\n",
       "</div>"
      ],
      "text/plain": [
       "     targeted_productivity  over_time  incentive  no_of_style_change  \\\n",
       "633                   0.07       6960          0                   0   \n",
       "\n",
       "     no_of_workers  actual_productivity  pre_monsoon  winter  day_d  Quarter1  \\\n",
       "633           58.0             0.522845            0       1      1         1   \n",
       "\n",
       "     Quarter2  Quarter3  Quarter4  department_d  productivity_change  \n",
       "633         0         0         0             0               646.92  "
      ]
     },
     "execution_count": 63,
     "metadata": {},
     "output_type": "execute_result"
    }
   ],
   "source": [
    "df1.query('productivity_change > 300')"
   ]
  },
  {
   "cell_type": "code",
   "execution_count": 64,
   "metadata": {},
   "outputs": [],
   "source": [
    "df1 = df1.query('productivity_change < 300')"
   ]
  },
  {
   "cell_type": "markdown",
   "metadata": {},
   "source": [
    "Checking the distribution of `productivity_change` again for a clearer view."
   ]
  },
  {
   "cell_type": "code",
   "execution_count": 65,
   "metadata": {},
   "outputs": [
    {
     "data": {
      "image/png": "[encoded data removed]",
      "text/plain": [
       "<Figure size 432x288 with 1 Axes>"
      ]
     },
     "metadata": {
      "needs_background": "light"
     },
     "output_type": "display_data"
    }
   ],
   "source": [
    "plt.hist(df1.productivity_change)\n",
    "plt.title('Histogram - Productivity Change')\n",
    "plt.grid(axis='y', zorder=-1)\n",
    "plt.show()"
   ]
  },
  {
   "cell_type": "markdown",
   "metadata": {},
   "source": [
    "#### Building a target variables based on productivity classes.\n",
    "\n",
    "Given the landscape of the last histogram we can design the following classes regrading the values in `change_productivity`\n",
    "\n",
    "- `extremely_low` if below or equal to -50%.\n",
    "- `very_low` if between -15% and -49%.\n",
    "- `low` if between -2.5% and -14%.\n",
    "- `expected_` if between -2.4% and 2.4%.\n",
    "- `high` if between 2.5% and 14%.\n",
    "- `very_high` if higher than 15% up to 49%\n",
    "- `extremely_high` if over or equal to 50%.\n",
    "\n",
    "Note: we have a range for expected productivity because we never expect that the expected target to be exactly met by the actual productivity we allow a small fluctuation around 0. "
   ]
  },
  {
   "cell_type": "code",
   "execution_count": 66,
   "metadata": {},
   "outputs": [],
   "source": [
    "df1 = df1.reset_index(drop=True)\n",
    "\n",
    "df2 = df1.copy().drop(columns=['actual_productivity', 'targeted_productivity'])\n",
    "\n",
    "df2['class'] = [None]*df2.shape[0]\n",
    "\n",
    "for i, val in enumerate(df1.productivity_change):\n",
    "    if val <= -50:\n",
    "        df2.loc[i, 'class'] = 'extremely_low'\n",
    "    elif -15 <= val <= -49:\n",
    "        df2.loc[i, 'class'] = 'very_low'\n",
    "    elif -14 <= val <= -2.5:\n",
    "        df2.loc[i, 'class'] = 'low'\n",
    "    elif -2.4 <= val <= 2.4:\n",
    "        df2.loc[i, 'class'] = 'expected'\n",
    "    elif 2.5 <= val <= 14:\n",
    "        df2.loc[i, 'class'] = 'high'\n",
    "    elif 15 <= val <= 49:\n",
    "        df2.loc[i, 'class'] = 'very_high'\n",
    "    elif 50 <= val:\n",
    "        df2.loc[i, 'class'] = 'extremely_high'\n",
    "        "
   ]
  },
  {
   "cell_type": "code",
   "execution_count": 67,
   "metadata": {},
   "outputs": [
    {
     "data": {
      "text/html": [
       "<div>\n",
       "<style scoped>\n",
       "    .dataframe tbody tr th:only-of-type {\n",
       "        vertical-align: middle;\n",
       "    }\n",
       "\n",
       "    .dataframe tbody tr th {\n",
       "        vertical-align: top;\n",
       "    }\n",
       "\n",
       "    .dataframe thead th {\n",
       "        text-align: right;\n",
       "    }\n",
       "</style>\n",
       "<table border=\"1\" class=\"dataframe\">\n",
       "  <thead>\n",
       "    <tr style=\"text-align: right;\">\n",
       "      <th></th>\n",
       "      <th>productivity_change</th>\n",
       "      <th>class</th>\n",
       "    </tr>\n",
       "  </thead>\n",
       "  <tbody>\n",
       "    <tr>\n",
       "      <th>314</th>\n",
       "      <td>-27.24</td>\n",
       "      <td>None</td>\n",
       "    </tr>\n",
       "    <tr>\n",
       "      <th>588</th>\n",
       "      <td>0.14</td>\n",
       "      <td>expected</td>\n",
       "    </tr>\n",
       "    <tr>\n",
       "      <th>635</th>\n",
       "      <td>0.02</td>\n",
       "      <td>expected</td>\n",
       "    </tr>\n",
       "    <tr>\n",
       "      <th>957</th>\n",
       "      <td>-40.39</td>\n",
       "      <td>None</td>\n",
       "    </tr>\n",
       "    <tr>\n",
       "      <th>1104</th>\n",
       "      <td>0.00</td>\n",
       "      <td>expected</td>\n",
       "    </tr>\n",
       "    <tr>\n",
       "      <th>340</th>\n",
       "      <td>7.15</td>\n",
       "      <td>high</td>\n",
       "    </tr>\n",
       "    <tr>\n",
       "      <th>133</th>\n",
       "      <td>6.27</td>\n",
       "      <td>high</td>\n",
       "    </tr>\n",
       "    <tr>\n",
       "      <th>546</th>\n",
       "      <td>0.08</td>\n",
       "      <td>expected</td>\n",
       "    </tr>\n",
       "    <tr>\n",
       "      <th>553</th>\n",
       "      <td>-30.80</td>\n",
       "      <td>None</td>\n",
       "    </tr>\n",
       "    <tr>\n",
       "      <th>841</th>\n",
       "      <td>8.89</td>\n",
       "      <td>high</td>\n",
       "    </tr>\n",
       "  </tbody>\n",
       "</table>\n",
       "</div>"
      ],
      "text/plain": [
       "      productivity_change     class\n",
       "314                -27.24      None\n",
       "588                  0.14  expected\n",
       "635                  0.02  expected\n",
       "957                -40.39      None\n",
       "1104                 0.00  expected\n",
       "340                  7.15      high\n",
       "133                  6.27      high\n",
       "546                  0.08  expected\n",
       "553                -30.80      None\n",
       "841                  8.89      high"
      ]
     },
     "execution_count": 67,
     "metadata": {},
     "output_type": "execute_result"
    }
   ],
   "source": [
    "pd.concat([df1['productivity_change'], df2['class'],], axis=1).reset_index(drop=True).sample(n=10, random_state=1)"
   ]
  },
  {
   "cell_type": "code",
   "execution_count": 69,
   "metadata": {},
   "outputs": [
    {
     "data": {
      "text/plain": [
       "array(['very_high', 'expected', 'high', 'low', None, 'extremely_low',\n",
       "       'extremely_high'], dtype=object)"
      ]
     },
     "execution_count": 69,
     "metadata": {},
     "output_type": "execute_result"
    }
   ],
   "source": [
    "df2['class'].unique()"
   ]
  },
  {
   "cell_type": "markdown",
   "metadata": {},
   "source": [
    "## Slide 4 - Dataset Cleaning (II)\n",
    "---\n",
    "Excellent job on the previous screen! You've already made a lot of progress with the dataset cleaning!\n",
    "\n",
    "The dataset is almost ready to start building the tree, but since `scikit-learn` only works with numerical data, we need to convert some columns from categorical to numerical to use them in our model.\n",
    "\n",
    "This is the last step of the cleaning process, so once we complete it, we can properly start building a decision tree!\n",
    "\n",
    "\n",
    "#### Instructions\n",
    "---\n",
    "1. Identify the columns that contain categorical observations.\n",
    "    - This can be tricky since some numerical columns are actually categorical in nature.\n",
    "    - In a Markdown cell, briefly explain your choices.\n",
    "\n",
    "\n",
    "2. Encode those columns in such a way that they only feature numerical data.\n",
    "    - Remember you can save time by using the make_column_transformer tool."
   ]
  },
  {
   "cell_type": "markdown",
   "metadata": {},
   "source": [
    "**\\[done already\\]**"
   ]
  },
  {
   "cell_type": "markdown",
   "metadata": {},
   "source": [
    "## Slide 5 - Building The Tree\n",
    "---\n",
    "Now that the data was properly adapted for use in `scikit-learn`, we're ready to start building our decision tree.\n",
    "\n",
    "This part of the process is pretty similar to previous machine learning models you already created, so keep remember that if you get stuck trying to implement the correct sequence of commands.\n",
    "\n",
    "\n",
    "#### Instructions\n",
    "---\n",
    "1. Load the required `scikit-learn` libraries to create and visualize the tree.\n",
    "\n",
    "\n",
    "2. Divide the prepared dataset in feature and target labels, using `X` and `y` variable names accordingly.\n",
    "\n",
    "\n",
    "3. Split your dataset into training and test subsets by using the `train_test_split()` feature.\n",
    "\n",
    "\n",
    "   \n",
    "4. Instantiate a decision tree classifier.\n",
    "    - Consider setting a maximum depth, but obviously that's up to you.\n",
    "\n",
    "\n",
    "5. Fit the model to the training data.\n",
    "\n",
    "\n",
    "6. Use the decision tree to predict the test data.\n"
   ]
  },
  {
   "cell_type": "code",
   "execution_count": null,
   "metadata": {},
   "outputs": [],
   "source": []
  },
  {
   "cell_type": "code",
   "execution_count": null,
   "metadata": {},
   "outputs": [],
   "source": []
  },
  {
   "cell_type": "markdown",
   "metadata": {},
   "source": [
    "## Slide 6\n",
    "---\n",
    "\n",
    "\n",
    "\n",
    "\n",
    "#### Instructions\n",
    "---\n",
    "\n",
    "\n",
    "\n"
   ]
  },
  {
   "cell_type": "code",
   "execution_count": null,
   "metadata": {},
   "outputs": [],
   "source": []
  },
  {
   "cell_type": "code",
   "execution_count": null,
   "metadata": {},
   "outputs": [],
   "source": []
  },
  {
   "cell_type": "markdown",
   "metadata": {},
   "source": [
    "## Slide 7\n",
    "---\n",
    "\n",
    "\n",
    "\n",
    "\n",
    "#### Instructions\n",
    "---\n",
    "\n",
    "\n",
    "\n"
   ]
  },
  {
   "cell_type": "code",
   "execution_count": null,
   "metadata": {},
   "outputs": [],
   "source": []
  },
  {
   "cell_type": "code",
   "execution_count": null,
   "metadata": {},
   "outputs": [],
   "source": []
  },
  {
   "cell_type": "markdown",
   "metadata": {},
   "source": [
    "## Slide 8\n",
    "---\n",
    "\n",
    "\n",
    "\n",
    "\n",
    "#### Instructions\n",
    "---\n",
    "\n",
    "\n",
    "\n"
   ]
  },
  {
   "cell_type": "code",
   "execution_count": null,
   "metadata": {},
   "outputs": [],
   "source": []
  },
  {
   "cell_type": "code",
   "execution_count": null,
   "metadata": {},
   "outputs": [],
   "source": []
  },
  {
   "cell_type": "markdown",
   "metadata": {},
   "source": [
    "## Slide 9\n",
    "---\n",
    "\n",
    "\n",
    "\n",
    "\n",
    "#### Instructions\n",
    "---\n",
    "\n",
    "\n",
    "\n"
   ]
  },
  {
   "cell_type": "code",
   "execution_count": null,
   "metadata": {},
   "outputs": [],
   "source": []
  },
  {
   "cell_type": "code",
   "execution_count": null,
   "metadata": {},
   "outputs": [],
   "source": []
  },
  {
   "cell_type": "markdown",
   "metadata": {},
   "source": [
    "## Annex I\n",
    "---"
   ]
  },
  {
   "cell_type": "markdown",
   "metadata": {},
   "source": [
    "#### Comparing `targeted_productivity` with `actual_productivity`"
   ]
  },
  {
   "cell_type": "code",
   "execution_count": 71,
   "metadata": {},
   "outputs": [
    {
     "data": {
      "image/png": "[encoded data removed]",
      "text/plain": [
       "<Figure size 720x360 with 1 Axes>"
      ]
     },
     "metadata": {
      "needs_background": "light"
     },
     "output_type": "display_data"
    }
   ],
   "source": [
    "day_dict = {\n",
    "    'Thursday': 6, 'Saturday': 1, 'Sunday': 2,\n",
    "    'Monday': 3, 'Tuesday': 4, 'Wednesday': 5,\n",
    "    }\n",
    "\n",
    "day_int = df.day.copy().map(day_dict)[:20]\n",
    "\n",
    "target = df.targeted_productivity[:20]\n",
    "actual = df.actual_productivity[:20]\n",
    "day = df.day[:20]\n",
    "\n",
    "fig, ax = plt.subplots(figsize=(10, 5),)\n",
    "\n",
    "ax.plot(target.index, target, label='target',)\n",
    "ax.plot(actual.index, actual, label='actual',)\n",
    "\n",
    "# ax.get_xticks(range(0,50))\n",
    "ax.xaxis.set_ticks(day_int.index)\n",
    "ax.set_xticklabels(day_int)\n",
    "\n",
    "plt.legend()\n",
    "plt.grid(zorder=-1)\n",
    "plt.show()"
   ]
  }
 ],
 "metadata": {
  "celltoolbar": "Initialization Cell",
  "hide_input": false,
  "kernelspec": {
   "display_name": "Python 3",
   "language": "python",
   "name": "python3"
  },
  "language_info": {
   "codemirror_mode": {
    "name": "ipython",
    "version": 3
   },
   "file_extension": ".py",
   "mimetype": "text/x-python",
   "name": "python",
   "nbconvert_exporter": "python",
   "pygments_lexer": "ipython3",
   "version": "3.9.2"
  },
  "toc": {
   "base_numbering": 1,
   "nav_menu": {},
   "number_sections": false,
   "sideBar": true,
   "skip_h1_title": true,
   "title_cell": "Table of Contents",
   "title_sidebar": "Contents",
   "toc_cell": false,
   "toc_position": {},
   "toc_section_display": true,
   "toc_window_display": false
  },
  "varInspector": {
   "cols": {
    "lenName": 16,
    "lenType": 16,
    "lenVar": 40
   },
   "kernels_config": {
    "python": {
     "delete_cmd_postfix": "",
     "delete_cmd_prefix": "del ",
     "library": "var_list.py",
     "varRefreshCmd": "print(var_dic_list())"
    },
    "r": {
     "delete_cmd_postfix": ") ",
     "delete_cmd_prefix": "rm(",
     "library": "var_list.r",
     "varRefreshCmd": "cat(var_dic_list()) "
    }
   },
   "types_to_exclude": [
    "module",
    "function",
    "builtin_function_or_method",
    "instance",
    "_Feature"
   ],
   "window_display": false
  }
 },
 "nbformat": 4,
 "nbformat_minor": 4
}
