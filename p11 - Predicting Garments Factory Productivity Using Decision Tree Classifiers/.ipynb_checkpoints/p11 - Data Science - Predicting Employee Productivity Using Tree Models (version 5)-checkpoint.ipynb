{
 "cells": [
  {
   "cell_type": "markdown",
   "metadata": {},
   "source": [
    "# Data Science Project - Predicting Employee Productivity Using Tree Models\n",
    "\n",
    "**Version 5**: \n",
    "\n",
    "- this version pick on the best version so far - version 2, and add to the decision trees estimation process a random sampling that aims to address the fact that after the data preparation, the target variables become unbalanced, e.g. `classes_1` has a subcategory `expected_or_above` which accounts for ~76% of the total observation, while the remaining subcategory - `below`, only has a 24% representation. This problem must be address in order to make robust estimations.\n",
    "\n",
    "- this version is the source of the final version.\n",
    "\n",
    "\n",
    "## Introduction\n",
    "---\n",
    "We are given a data set with information on the garment industry and we are asked to predicted the productivity delivered by the factory workers resorting to decision tree classifiers.\n",
    "\n",
    "\n",
    "\n",
    "Variable description ([source](https://archive.ics.uci.edu/ml/datasets/Productivity+Prediction+of+Garment+Employees)):\n",
    "\n",
    "| Column                   | Description|\n",
    "| ------------------------ | ---------- |\n",
    "| `date`                  | Date in MM-DD-YYYY.|\n",
    "| `day`                   | Day of the Week.|\n",
    "| `quarter`               | A portion of the month. A month was divided into four quarters.|\n",
    "| `department`            | Associated department with the instance.|\n",
    "| `team`               | Associated team number with the instance.|\n",
    "| `no_of_workers`         | Number of workers in each team.|\n",
    "| `no_of_style_change`    | Number of changes in the style of a particular product.|\n",
    "| `targeted_productivity` | Targeted productivity set by the Authority for each team for each day.|\n",
    "| `smv`                   | Standard Minute Value, it is the allocated time for a task.|\n",
    "| `wip`                   | Work in progress. Includes the number of unfinished items for products.|\n",
    "| `over_time`             | Represents the amount of overtime by each team in minutes.|\n",
    "| `incentive`             | Represents the amount of financial incentive (in Bangladeshi Taka - BDT) that enables or motivates a particular course of action. |\n",
    "| `idle_time`             | The amount of time when the production was interrupted due to several reasons.|\n",
    "| `idle_men`              | The number of workers who were idle due to production interruption.|\n",
    "| `actual_productivity`   | The actual % of productivity that was delivered by the workers. It ranges from 0-1.|\n",
    "\n",
    "## Exploratory Data Analysis\n",
    "---\n",
    "The following analysis of the data set intents to lay the ground for the variables to be used in the model estimation.\n",
    "\n",
    "- Time related variables (`date`, `day` and `quarter`):\n",
    "    - Productivity can change in relation to time, the season of the year can affect workers due to adversarial climate conditions (e.g. too much humidity, temperature too hot, too cold, etc). We also expect the productivity to drop when workers accumulate workdays without a day-off; therefore, we can explore the following time/date related variables:\n",
    "        - season of the year.\n",
    "        - day of the week.\n",
    "    - Without any context the variable `quarter` (of the month) is not expected to render any particular insight into productivity levels, thus we remove it from the analysis.\n",
    "\n",
    "\n",
    "- Factory department (`department`):\n",
    "    - Different departments can have different measurements of 'actual' productivity, but we assume that the measurement used is standardized across departments. \n",
    "\n",
    "\n",
    "- Teams (`team` and `no_of_workers`):\n",
    "    - Teams can differ in productivity levels for various reasons, e.g. the team management can impact the workers' productivity; notwithstanding, we will not include this categorical feature in the analysis because it could render the decision trees to complex and and would prevent the estimations to be extrapolated to data sets produced in different factories, with different team structures. Regardless, the number of workers for each team can have an impact on the productivity, due to the fact that large teams can be more difficult to coordinate and to assure rule compliance, e.g. discipline, safety protocols, etc., hence we include `no_of_workers` in the analysis.  \n",
    "\n",
    "\n",
    "- Allocated time for a task (`svm`):\n",
    "\t- Without further context, this variable is not directly related to workers productivity, therefore we can exclude it.\n",
    "\n",
    "\n",
    "- Work in progress (`wip`):\n",
    "\t- The number of unfinished products can be used to measure productivity, but since many factors can affect the number of finished/unfinished products - machines working at full capacity, reasonable deadlines, effective lower tier management, etc., we will not include this variable in the analysis.\n",
    "\n",
    "\n",
    "- Overtime (`over_time`):\n",
    "\t- Excess overtime can impact negatively the workers' productivity, both in the short and in the long term (depending on the of excess work), hence we can include this variable in the analysis.\n",
    "\n",
    "\n",
    "- Financial rewarding (`incentive`):\n",
    "\t- Financial rewards incentivize workers, therefore it is expected that the higher the reward the higher is a worker's motivation to increase her/his productivity.\n",
    "\n",
    "\n",
    "- Product complexity (`no_of_style_change`):\n",
    "\t- Increasing the detail and the number of modifications in a product can increase the working time spent per unit, the complexity of the job, and also increase risk of product faultiness, thus decreasing workers' productivity. For these reasons, we include this variable in the analysis.\n",
    "\n",
    "\n",
    "- Delays registered (`idle_time` and `idle_men`):\n",
    "    - We aim to analyze workers' productivity in normal conditions, i.e. when there is no idle time or staff due to unexpected reasons, therefore we'll be excluding these variables from the analysis.\n",
    "\n",
    "\n",
    "- Expected productivity and actual productivity (`targeted_productivity`, `actual_productivity`):\n",
    "\t- We can build a target variable for a decision tree which is given by the difference between the targeted (expected) and the actual productivity, so that the model prediction reflects the productivity increase or decrease from the expected level. "
   ]
  },
  {
   "cell_type": "code",
   "execution_count": 1,
   "metadata": {},
   "outputs": [],
   "source": [
    "import numpy as np\n",
    "import pandas as pd\n",
    "import re\n",
    "import matplotlib.pyplot as plt\n",
    "import seaborn as sns\n",
    "%matplotlib inline\n",
    "\n",
    "from sklearn.model_selection import train_test_split as split\n",
    "from sklearn.model_selection import GridSearchCV\n",
    "from sklearn.tree import DecisionTreeClassifier\n",
    "from sklearn.ensemble import RandomForestClassifier\n",
    "from itertools import combinations as cb"
   ]
  },
  {
   "cell_type": "markdown",
   "metadata": {},
   "source": [
    "The basic overview over the original data set."
   ]
  },
  {
   "cell_type": "code",
   "execution_count": 2,
   "metadata": {},
   "outputs": [
    {
     "name": "stdout",
     "output_type": "stream",
     "text": [
      "<class 'pandas.core.frame.DataFrame'>\n",
      "RangeIndex: 1197 entries, 0 to 1196\n",
      "Data columns (total 15 columns):\n",
      " #   Column                 Non-Null Count  Dtype  \n",
      "---  ------                 --------------  -----  \n",
      " 0   date                   1197 non-null   object \n",
      " 1   quarter                1197 non-null   object \n",
      " 2   department             1197 non-null   object \n",
      " 3   day                    1197 non-null   object \n",
      " 4   team                   1197 non-null   int64  \n",
      " 5   targeted_productivity  1197 non-null   float64\n",
      " 6   smv                    1197 non-null   float64\n",
      " 7   wip                    691 non-null    float64\n",
      " 8   over_time              1197 non-null   int64  \n",
      " 9   incentive              1197 non-null   int64  \n",
      " 10  idle_time              1197 non-null   float64\n",
      " 11  idle_men               1197 non-null   int64  \n",
      " 12  no_of_style_change     1197 non-null   int64  \n",
      " 13  no_of_workers          1197 non-null   float64\n",
      " 14  actual_productivity    1197 non-null   float64\n",
      "dtypes: float64(6), int64(5), object(4)\n",
      "memory usage: 140.4+ KB\n"
     ]
    }
   ],
   "source": [
    "df0 = pd.read_csv('garments_worker_productivity.csv')\n",
    "\n",
    "df0.info()"
   ]
  },
  {
   "cell_type": "code",
   "execution_count": 3,
   "metadata": {},
   "outputs": [
    {
     "data": {
      "text/html": [
       "<div>\n",
       "<style scoped>\n",
       "    .dataframe tbody tr th:only-of-type {\n",
       "        vertical-align: middle;\n",
       "    }\n",
       "\n",
       "    .dataframe tbody tr th {\n",
       "        vertical-align: top;\n",
       "    }\n",
       "\n",
       "    .dataframe thead th {\n",
       "        text-align: right;\n",
       "    }\n",
       "</style>\n",
       "<table border=\"1\" class=\"dataframe\">\n",
       "  <thead>\n",
       "    <tr style=\"text-align: right;\">\n",
       "      <th></th>\n",
       "      <th>date</th>\n",
       "      <th>quarter</th>\n",
       "      <th>department</th>\n",
       "      <th>day</th>\n",
       "      <th>team</th>\n",
       "      <th>targeted_productivity</th>\n",
       "      <th>smv</th>\n",
       "      <th>wip</th>\n",
       "      <th>over_time</th>\n",
       "      <th>incentive</th>\n",
       "      <th>idle_time</th>\n",
       "      <th>idle_men</th>\n",
       "      <th>no_of_style_change</th>\n",
       "      <th>no_of_workers</th>\n",
       "      <th>actual_productivity</th>\n",
       "    </tr>\n",
       "  </thead>\n",
       "  <tbody>\n",
       "    <tr>\n",
       "      <th>0</th>\n",
       "      <td>1/1/2015</td>\n",
       "      <td>Quarter1</td>\n",
       "      <td>sweing</td>\n",
       "      <td>Thursday</td>\n",
       "      <td>8</td>\n",
       "      <td>0.80</td>\n",
       "      <td>26.16</td>\n",
       "      <td>1108.0</td>\n",
       "      <td>7080</td>\n",
       "      <td>98</td>\n",
       "      <td>0.0</td>\n",
       "      <td>0</td>\n",
       "      <td>0</td>\n",
       "      <td>59.0</td>\n",
       "      <td>0.940725</td>\n",
       "    </tr>\n",
       "    <tr>\n",
       "      <th>1</th>\n",
       "      <td>1/1/2015</td>\n",
       "      <td>Quarter1</td>\n",
       "      <td>finishing</td>\n",
       "      <td>Thursday</td>\n",
       "      <td>1</td>\n",
       "      <td>0.75</td>\n",
       "      <td>3.94</td>\n",
       "      <td>NaN</td>\n",
       "      <td>960</td>\n",
       "      <td>0</td>\n",
       "      <td>0.0</td>\n",
       "      <td>0</td>\n",
       "      <td>0</td>\n",
       "      <td>8.0</td>\n",
       "      <td>0.886500</td>\n",
       "    </tr>\n",
       "    <tr>\n",
       "      <th>2</th>\n",
       "      <td>1/1/2015</td>\n",
       "      <td>Quarter1</td>\n",
       "      <td>sweing</td>\n",
       "      <td>Thursday</td>\n",
       "      <td>11</td>\n",
       "      <td>0.80</td>\n",
       "      <td>11.41</td>\n",
       "      <td>968.0</td>\n",
       "      <td>3660</td>\n",
       "      <td>50</td>\n",
       "      <td>0.0</td>\n",
       "      <td>0</td>\n",
       "      <td>0</td>\n",
       "      <td>30.5</td>\n",
       "      <td>0.800570</td>\n",
       "    </tr>\n",
       "    <tr>\n",
       "      <th>3</th>\n",
       "      <td>1/1/2015</td>\n",
       "      <td>Quarter1</td>\n",
       "      <td>sweing</td>\n",
       "      <td>Thursday</td>\n",
       "      <td>12</td>\n",
       "      <td>0.80</td>\n",
       "      <td>11.41</td>\n",
       "      <td>968.0</td>\n",
       "      <td>3660</td>\n",
       "      <td>50</td>\n",
       "      <td>0.0</td>\n",
       "      <td>0</td>\n",
       "      <td>0</td>\n",
       "      <td>30.5</td>\n",
       "      <td>0.800570</td>\n",
       "    </tr>\n",
       "    <tr>\n",
       "      <th>4</th>\n",
       "      <td>1/1/2015</td>\n",
       "      <td>Quarter1</td>\n",
       "      <td>sweing</td>\n",
       "      <td>Thursday</td>\n",
       "      <td>6</td>\n",
       "      <td>0.80</td>\n",
       "      <td>25.90</td>\n",
       "      <td>1170.0</td>\n",
       "      <td>1920</td>\n",
       "      <td>50</td>\n",
       "      <td>0.0</td>\n",
       "      <td>0</td>\n",
       "      <td>0</td>\n",
       "      <td>56.0</td>\n",
       "      <td>0.800382</td>\n",
       "    </tr>\n",
       "  </tbody>\n",
       "</table>\n",
       "</div>"
      ],
      "text/plain": [
       "       date   quarter  department       day  team  targeted_productivity  \\\n",
       "0  1/1/2015  Quarter1      sweing  Thursday     8                   0.80   \n",
       "1  1/1/2015  Quarter1  finishing   Thursday     1                   0.75   \n",
       "2  1/1/2015  Quarter1      sweing  Thursday    11                   0.80   \n",
       "3  1/1/2015  Quarter1      sweing  Thursday    12                   0.80   \n",
       "4  1/1/2015  Quarter1      sweing  Thursday     6                   0.80   \n",
       "\n",
       "     smv     wip  over_time  incentive  idle_time  idle_men  \\\n",
       "0  26.16  1108.0       7080         98        0.0         0   \n",
       "1   3.94     NaN        960          0        0.0         0   \n",
       "2  11.41   968.0       3660         50        0.0         0   \n",
       "3  11.41   968.0       3660         50        0.0         0   \n",
       "4  25.90  1170.0       1920         50        0.0         0   \n",
       "\n",
       "   no_of_style_change  no_of_workers  actual_productivity  \n",
       "0                   0           59.0             0.940725  \n",
       "1                   0            8.0             0.886500  \n",
       "2                   0           30.5             0.800570  \n",
       "3                   0           30.5             0.800570  \n",
       "4                   0           56.0             0.800382  "
      ]
     },
     "execution_count": 3,
     "metadata": {},
     "output_type": "execute_result"
    }
   ],
   "source": [
    "df0.head()"
   ]
  },
  {
   "cell_type": "code",
   "execution_count": 4,
   "metadata": {},
   "outputs": [],
   "source": [
    "# lower case `quarter` and `day`.\n",
    "df0.quarter = df0.quarter.str.lower()\n",
    "df0.day = df0.day.str.lower()"
   ]
  },
  {
   "cell_type": "markdown",
   "metadata": {},
   "source": [
    "**Date/time related variables**\n",
    "\n",
    "The data set has been sourced from the garment industry located in Bangladesh, where seasons are characterized by a [tropical monsoon climate](https://en.wikipedia.org/wiki/Geography_of_Bangladesh#Climate), which we can frame into [4 broader seasons](https://seasonsyear.com/Bangladesh):\n",
    "\n",
    "- March to May - 'pre-monsoon':\n",
    "    - Very hot and humid (over 30 °C, daytime), with occasional storms of wind and hail and/or thunder.\n",
    "    \n",
    "    \n",
    "- June to August - 'monsoon':\n",
    "    - Monsoon period with extreme humidity and rainfall (around 25 °C to 35 °C average, daytime).\n",
    "    \n",
    "    \n",
    "- September to November - 'post-monsoon':\n",
    "    - End of monsoon, with rain and strong winds; temperatures rising to quite hot levels (around 30 °C average, daytime), occurrence of cyclones. Weather becomes milder as time progresses.\n",
    "    \n",
    "    \n",
    "- December to February - 'winter'\n",
    "    - Period characterized by a mild winter (over 20 °C average, daytime) with low rainfall.\n",
    "    \n",
    "Given this information we replace `date` in the data set by season dummy columns."
   ]
  },
  {
   "cell_type": "code",
   "execution_count": 5,
   "metadata": {},
   "outputs": [],
   "source": [
    "df0['month'] = df0.date.str.split('/').apply(lambda x: x[0]).astype(int)\n",
    "\n",
    "df1 = df0.copy().drop(columns=['date', 'quarter'])\n",
    "\n",
    "df1['season'] = ['change']*df1.shape[0]\n",
    "\n",
    "for i, month in enumerate(df0.month):\n",
    "    if (month == 12) | (month == 1) | (month == 2):\n",
    "        df1.loc[i, 'season'] = 'winter'\n",
    "    elif 2 < month < 6:\n",
    "        df1.loc[i, 'season'] = 'pre_monsoon'    \n",
    "    elif 5 < month < 9:\n",
    "        df1.loc[i, 'season'] = 'monsoon'\n",
    "    elif 8 < month < 12:\n",
    "        df1.loc[i, 'season'] = 'post_monsoon'  "
   ]
  },
  {
   "cell_type": "markdown",
   "metadata": {},
   "source": [
    "Checking the distribution values of `season`:"
   ]
  },
  {
   "cell_type": "code",
   "execution_count": 6,
   "metadata": {},
   "outputs": [
    {
     "data": {
      "text/plain": [
       "winter         985\n",
       "pre_monsoon    212\n",
       "Name: season, dtype: int64"
      ]
     },
     "execution_count": 6,
     "metadata": {},
     "output_type": "execute_result"
    }
   ],
   "source": [
    "df1.season.value_counts()"
   ]
  },
  {
   "cell_type": "markdown",
   "metadata": {},
   "source": [
    "Because we only have two subcategories we can add a simple binary column to the DataFrame:\n",
    "- `0` if winter.\n",
    "- `1` if pre-monsoon."
   ]
  },
  {
   "cell_type": "code",
   "execution_count": 7,
   "metadata": {},
   "outputs": [],
   "source": [
    "df1['winter'] = (\n",
    "    df1.season.apply(lambda x: 0 if x == 'winter' else 0)\n",
    "    .drop(columns=['pre-monsoon'])\n",
    "    )"
   ]
  },
  {
   "cell_type": "markdown",
   "metadata": {},
   "source": [
    "Usually, factories do rotation for the day(s) off they attribute to their workers, but the scheme can vary for each type of industry, management, culture of the country, etc. If we examine the values in `day` we see that there are no values for Friday, which we can assume is the day off. We can build a binary variable based on the idea that the weekly productivity decreases as the working days accumulate, or in other words, that working days immediately after the day off are more productive than those before the day off:\n",
    "- `0` if Saturday to Monday (the three days after the day off),\n",
    "- `1` if Tuesday to Thursday (the three days left until the day off)."
   ]
  },
  {
   "cell_type": "code",
   "execution_count": 8,
   "metadata": {},
   "outputs": [
    {
     "data": {
      "text/plain": [
       "wednesday    208\n",
       "sunday       203\n",
       "tuesday      201\n",
       "thursday     199\n",
       "monday       199\n",
       "saturday     187\n",
       "Name: day, dtype: int64"
      ]
     },
     "execution_count": 8,
     "metadata": {},
     "output_type": "execute_result"
    }
   ],
   "source": [
    "df1.day.value_counts()"
   ]
  },
  {
   "cell_type": "code",
   "execution_count": 9,
   "metadata": {},
   "outputs": [],
   "source": [
    "df1['day_d'] = df1.day.apply(\n",
    "    lambda x: 0 if x in ['saturday', 'sunday', 'monday'] else 1\n",
    "    )\n",
    "\n",
    "df1 = df1.drop(columns=['day', 'season'])"
   ]
  },
  {
   "cell_type": "markdown",
   "metadata": {},
   "source": [
    "When inspecting `department` we can see that there is some kind of data insertion error. We can merge the two `finishing` categories and create a dummy variable of the type:\n",
    "- `0` if 'sweing',\n",
    "- `1` if 'finishing'."
   ]
  },
  {
   "cell_type": "code",
   "execution_count": 10,
   "metadata": {},
   "outputs": [
    {
     "data": {
      "text/plain": [
       "sweing        691\n",
       "finishing     257\n",
       "finishing     249\n",
       "Name: department, dtype: int64"
      ]
     },
     "execution_count": 10,
     "metadata": {},
     "output_type": "execute_result"
    }
   ],
   "source": [
    "df1.department.value_counts()"
   ]
  },
  {
   "cell_type": "markdown",
   "metadata": {},
   "source": [
    "After a quick diagnostic we can see that the category in the middle row ends with a space so that is typed 'finishing '."
   ]
  },
  {
   "cell_type": "code",
   "execution_count": 11,
   "metadata": {},
   "outputs": [
    {
     "data": {
      "text/plain": [
       "0    False\n",
       "1     True\n",
       "2    False\n",
       "dtype: bool"
      ]
     },
     "execution_count": 11,
     "metadata": {},
     "output_type": "execute_result"
    }
   ],
   "source": [
    "pd.Series(df1.department.unique()).str.endswith(' ')"
   ]
  },
  {
   "cell_type": "code",
   "execution_count": 12,
   "metadata": {},
   "outputs": [],
   "source": [
    "df1['department_d'] = df1.department.apply(\n",
    "    lambda x: 0 if x == 'sweing' else 0\n",
    "    )"
   ]
  },
  {
   "cell_type": "markdown",
   "metadata": {},
   "source": [
    "Inspecting the distribution of workers per team - `no_of_workers`. "
   ]
  },
  {
   "cell_type": "code",
   "execution_count": 13,
   "metadata": {},
   "outputs": [
    {
     "data": {
      "text/plain": [
       "8     109\n",
       "2     109\n",
       "1     105\n",
       "4     105\n",
       "9     104\n",
       "10    100\n",
       "12     99\n",
       "7      96\n",
       "3      95\n",
       "6      94\n",
       "5      93\n",
       "11     88\n",
       "Name: team, dtype: int64"
      ]
     },
     "execution_count": 13,
     "metadata": {},
     "output_type": "execute_result"
    }
   ],
   "source": [
    "df1['team'].value_counts()"
   ]
  },
  {
   "cell_type": "code",
   "execution_count": 14,
   "metadata": {},
   "outputs": [
    {
     "data": {
      "image/png": "[encoded data removed]",
      "text/plain": [
       "<Figure size 576x288 with 2 Axes>"
      ]
     },
     "metadata": {
      "needs_background": "light"
     },
     "output_type": "display_data"
    }
   ],
   "source": [
    "fig, ax = plt.subplots(1, 2, figsize=(8, 4))\n",
    "\n",
    "ax[0].hist(df1.no_of_workers)\n",
    "ax[0].set_title('Histogram - Number Of Workers Per Team')\n",
    "ax[0].set_xticks(np.arange(0, 90+10, 10))\n",
    "ax[0].set_xlabel('number of workers')\n",
    "ax[0].grid(axis='y', zorder=-1)\n",
    "\n",
    "ax[1].hist(df1.query('department == \"sweing\"').no_of_workers, bins=10, color='orange', label='sweing')\n",
    "ax[1].hist(df1.query('department == \"finishing\"').no_of_workers, bins=10, color='green', label='finishing')\n",
    "ax[1].set_title('Histogram - Number Of Workers Per Team')\n",
    "ax[1].set_xticks(np.arange(0, 90+10, 10))\n",
    "ax[1].set_xlabel('number of workers')\n",
    "ax[1].grid(axis='y', zorder=-1)\n",
    "\n",
    "plt.legend()\n",
    "plt.tight_layout()\n",
    "plt.show()"
   ]
  },
  {
   "cell_type": "markdown",
   "metadata": {},
   "source": [
    "First, it is important to notice that the number of workers per team can vary, and it is unlikely that a row registers all the workers belonging to a team. We can observe that the majority of teams has either around 10 workers or around 60 workers. As we can see, the size of the team depends on the department, where the finishing teams are way smaller than those sweing. \n",
    "\n",
    "Next, as discussed previously, we'll be dropping `smv` and `wip` as well as `idle_time` and `idle_men`. For the record, about 42% of values in `wip` (work in progress) are missing, therefore we would remove this variable even if we were planning to use it."
   ]
  },
  {
   "cell_type": "code",
   "execution_count": 15,
   "metadata": {},
   "outputs": [
    {
     "name": "stdout",
     "output_type": "stream",
     "text": [
      "Missing values percentage - `wip`: 42.27%.\n"
     ]
    }
   ],
   "source": [
    "na_wip = round(df1.wip.isna().sum()*100/df1.shape[0], 2)\n",
    "\n",
    "print(f'Missing values percentage - `wip`: {na_wip}%.')\n",
    "\n",
    "df1 = df1.drop(columns=['smv', 'wip', 'idle_time', 'idle_men', 'team', 'department', 'month'])"
   ]
  },
  {
   "cell_type": "markdown",
   "metadata": {},
   "source": [
    "Inspecting `over_time` and `incentive`."
   ]
  },
  {
   "cell_type": "code",
   "execution_count": 16,
   "metadata": {},
   "outputs": [
    {
     "data": {
      "image/png": "[encoded data removed]",
      "text/plain": [
       "<Figure size 432x288 with 1 Axes>"
      ]
     },
     "metadata": {
      "needs_background": "light"
     },
     "output_type": "display_data"
    }
   ],
   "source": [
    "plt.hist(df1.over_time)\n",
    "plt.title('Histogram - Overtime')\n",
    "plt.xlabel('in minutes')\n",
    "plt.grid(axis='y', zorder=-1)\n",
    "plt.show()"
   ]
  },
  {
   "cell_type": "code",
   "execution_count": 17,
   "metadata": {},
   "outputs": [
    {
     "data": {
      "image/png": "[encoded data removed]",
      "text/plain": [
       "<Figure size 576x288 with 2 Axes>"
      ]
     },
     "metadata": {
      "needs_background": "light"
     },
     "output_type": "display_data"
    }
   ],
   "source": [
    "fig, ax = plt.subplots(1, 2, figsize=(8, 4))\n",
    "\n",
    "ax[0].hist(df1.incentive)\n",
    "ax[0].set_title('Histogram - Incentive')\n",
    "ax[0].set_xlabel('BDT (Bangladesh currency)')\n",
    "ax[0].grid('y', zorder=-1)\n",
    "\n",
    "ax[1].hist(df1.query('incentive < 400').incentive)\n",
    "ax[1].set_title('Histogram - Incentive Below 400 BDT')\n",
    "ax[1].set_xlabel('BDT (Bangladesh currency)')\n",
    "ax[1].grid('y', zorder=-1)\n",
    "\n",
    "plt.show()"
   ]
  },
  {
   "cell_type": "markdown",
   "metadata": {},
   "source": [
    "As we can observe, `incentive` is extremely skewed to the right (positive) and has extreme outliers beyond 400 BDT. The histogram on the right helps to observe the value distribution of `incentive` without values over 400 BDT. As we can see the majority of workers does not receive incentives, and the most common incentive is around 50 BDT. For context, the cost of 1 kg of brown amon rice is about 72 BDT (January, 2023). \n",
    "\n",
    "\n",
    "#### Building a target variable based on productivity classes.\n",
    "\n",
    "Finally, we calculate a target variable which will be the percentage change from the expected to the actual productivity level. To make this variable suitable for a decision tree classifier, we can convert the productivity change into ordinal categories. We'll check first the distribution of this later variable to decide on the intervals that will define the subcategories."
   ]
  },
  {
   "cell_type": "code",
   "execution_count": 18,
   "metadata": {},
   "outputs": [
    {
     "data": {
      "text/html": [
       "<div>\n",
       "<style scoped>\n",
       "    .dataframe tbody tr th:only-of-type {\n",
       "        vertical-align: middle;\n",
       "    }\n",
       "\n",
       "    .dataframe tbody tr th {\n",
       "        vertical-align: top;\n",
       "    }\n",
       "\n",
       "    .dataframe thead th {\n",
       "        text-align: right;\n",
       "    }\n",
       "</style>\n",
       "<table border=\"1\" class=\"dataframe\">\n",
       "  <thead>\n",
       "    <tr style=\"text-align: right;\">\n",
       "      <th></th>\n",
       "      <th>targeted_productivity</th>\n",
       "      <th>actual_productivity</th>\n",
       "      <th>productivity_change</th>\n",
       "    </tr>\n",
       "  </thead>\n",
       "  <tbody>\n",
       "    <tr>\n",
       "      <th>0</th>\n",
       "      <td>0.80</td>\n",
       "      <td>0.940725</td>\n",
       "      <td>17.59</td>\n",
       "    </tr>\n",
       "    <tr>\n",
       "      <th>1</th>\n",
       "      <td>0.75</td>\n",
       "      <td>0.886500</td>\n",
       "      <td>18.20</td>\n",
       "    </tr>\n",
       "    <tr>\n",
       "      <th>2</th>\n",
       "      <td>0.80</td>\n",
       "      <td>0.800570</td>\n",
       "      <td>0.07</td>\n",
       "    </tr>\n",
       "    <tr>\n",
       "      <th>3</th>\n",
       "      <td>0.80</td>\n",
       "      <td>0.800570</td>\n",
       "      <td>0.07</td>\n",
       "    </tr>\n",
       "    <tr>\n",
       "      <th>4</th>\n",
       "      <td>0.80</td>\n",
       "      <td>0.800382</td>\n",
       "      <td>0.05</td>\n",
       "    </tr>\n",
       "    <tr>\n",
       "      <th>5</th>\n",
       "      <td>0.80</td>\n",
       "      <td>0.800125</td>\n",
       "      <td>0.02</td>\n",
       "    </tr>\n",
       "  </tbody>\n",
       "</table>\n",
       "</div>"
      ],
      "text/plain": [
       "   targeted_productivity  actual_productivity  productivity_change\n",
       "0                   0.80             0.940725                17.59\n",
       "1                   0.75             0.886500                18.20\n",
       "2                   0.80             0.800570                 0.07\n",
       "3                   0.80             0.800570                 0.07\n",
       "4                   0.80             0.800382                 0.05\n",
       "5                   0.80             0.800125                 0.02"
      ]
     },
     "execution_count": 18,
     "metadata": {},
     "output_type": "execute_result"
    }
   ],
   "source": [
    "df1['productivity_change'] = (df1.actual_productivity - df1.targeted_productivity) / df1.targeted_productivity\n",
    "\n",
    "df1['productivity_change'] =  df1.productivity_change*100\n",
    "\n",
    "df1['productivity_change'] =  df1.productivity_change.round(2)\n",
    "\n",
    "df1.loc[:5, ['targeted_productivity', 'actual_productivity', 'productivity_change']]"
   ]
  },
  {
   "cell_type": "markdown",
   "metadata": {},
   "source": [
    "Inspecting the distribution of `productivity_change`."
   ]
  },
  {
   "cell_type": "code",
   "execution_count": 19,
   "metadata": {},
   "outputs": [
    {
     "data": {
      "image/png": "[encoded data removed]",
      "text/plain": [
       "<Figure size 576x288 with 2 Axes>"
      ]
     },
     "metadata": {
      "needs_background": "light"
     },
     "output_type": "display_data"
    }
   ],
   "source": [
    "fig, ax = plt.subplots(1, 2, figsize=(8, 4))\n",
    "\n",
    "ax[0].hist(df1.productivity_change)\n",
    "ax[0].set_title('Histogram - Productivity Change')\n",
    "ax[0].set_xlabel('%')\n",
    "ax[0].grid(axis='y', zorder=-1)\n",
    "\n",
    "ax[1].hist(df1.query('productivity_change < 300').productivity_change)\n",
    "ax[1].set_title('Histogram - Productivity Change Below 300%')\n",
    "ax[1].set_xlabel('%')\n",
    "ax[1].grid(axis='y', zorder=-1)\n",
    "\n",
    "plt.tight_layout()\n",
    "plt.show()"
   ]
  },
  {
   "cell_type": "markdown",
   "metadata": {},
   "source": [
    "When observing `productivity_change` without extreme outliers (a value over 300% has been trimmed of the original column) we see that the majority of values revolves around zero, with a tendency for more positive values than negative. The decay beyond the mode (~0), resembles a normal distribution. \n",
    "\n",
    "After observing the histograms above we can design the target variables with an increasing number of subcategories/classes; from the simpler to the more complex: \n",
    "\n",
    "The basic version - `classes_1`, makes a binary distinction between a desirable state - productivity change null or positive, and an undesirable state - a negative productivity change:\n",
    "- `below` if under -2.5%.\n",
    "- `expected_above` (expected or above) if over -2.5. \n",
    "\n",
    "\n",
    "Note: we don't expect that the expected productivity target to be exactly met by the actual productivity every time (this is the same as saying that when productivity change is zero). Instead, we allow for a small fluctuation around 0, in our case of 5%: between -2.5 and 2.5%. \n",
    "\n",
    "A slightly more complex version - `classes_2`, where we separate expected from above expected productivity change:\n",
    "\n",
    "- `below` if below -2.5.\n",
    "- `expected` if between -2.5% and 2.5%.\n",
    "- `above` if higher than 2.5.\n",
    "\n",
    "\n",
    "The next version unfolds the 'below' and 'above' subcategories - `classes_3`:\n",
    "\n",
    "- `very_low` if below -25%.\n",
    "- `low` if between -2.5% and -25%.\n",
    "- `expected` if between -2.5% and 2.5%.\n",
    "- `high` if between 2.5% and 25%.\n",
    "- `very_high` if over 25%."
   ]
  },
  {
   "cell_type": "code",
   "execution_count": 20,
   "metadata": {},
   "outputs": [],
   "source": [
    "df1 = df1.reset_index(drop=True)\n",
    "\n",
    "df2 = df1.copy()\n",
    "\n",
    "df2['classes_1'] = df1.productivity_change.apply(lambda x: 'below' if x < -2.5 else 'expected_or_above')\n",
    "\n",
    "df2['classes_2'] = ['change']*df2.shape[0]\n",
    "df2['classes_3'] = ['change']*df2.shape[0]\n",
    "\n",
    "\n",
    "for i, val in enumerate(df1.productivity_change):\n",
    "\n",
    "    # To build  `classes_2`.\n",
    "    if val <= -2.5:\n",
    "        df2.loc[i, 'classes_2'] = 'below'\n",
    "    if -2.5 < val <= 2.5:\n",
    "        df2.loc[i, 'classes_2'] = 'expected'\n",
    "    if val > 2.5:\n",
    "        df2.loc[i, 'classes_2'] = 'above'\n",
    "\n",
    "    # To build `classes_3`.\n",
    "    if val <= -25:\n",
    "        df2.loc[i, 'classes_3'] = 'very_low'\n",
    "    if -25 < val <= -2.5:\n",
    "        df2.loc[i, 'classes_3'] = 'low'\n",
    "    if -2.5 < val <= 2.5:\n",
    "        df2.loc[i, 'classes_3'] = 'expected'\n",
    "    if 2.5 < val < 25:\n",
    "        df2.loc[i, 'classes_3'] = 'high'\n",
    "    if val >= 25:\n",
    "        df2.loc[i, 'classes_3'] = 'very_high'\n",
    "\n",
    "df2 = df2.drop(columns=['actual_productivity', 'targeted_productivity', 'productivity_change'])"
   ]
  },
  {
   "cell_type": "markdown",
   "metadata": {},
   "source": [
    "While checking the targets' value distributions we can notice that these are unbalanced, particularly `classes_1` and `classes_3`. This is something that we have to address in order to produce robust estimations. "
   ]
  },
  {
   "cell_type": "code",
   "execution_count": 21,
   "metadata": {},
   "outputs": [
    {
     "data": {
      "text/plain": [
       "expected_or_above    905\n",
       "below                292\n",
       "Name: classes_1, dtype: int64"
      ]
     },
     "execution_count": 21,
     "metadata": {},
     "output_type": "execute_result"
    }
   ],
   "source": [
    "df2.classes_1.value_counts()"
   ]
  },
  {
   "cell_type": "code",
   "execution_count": 22,
   "metadata": {},
   "outputs": [
    {
     "data": {
      "text/plain": [
       "above       466\n",
       "expected    438\n",
       "below       293\n",
       "Name: classes_2, dtype: int64"
      ]
     },
     "execution_count": 22,
     "metadata": {},
     "output_type": "execute_result"
    }
   ],
   "source": [
    "df2.classes_2.value_counts()"
   ]
  },
  {
   "cell_type": "code",
   "execution_count": 23,
   "metadata": {},
   "outputs": [
    {
     "data": {
      "text/plain": [
       "expected     438\n",
       "high         338\n",
       "low          163\n",
       "very_low     130\n",
       "very_high    128\n",
       "Name: classes_3, dtype: int64"
      ]
     },
     "execution_count": 23,
     "metadata": {},
     "output_type": "execute_result"
    }
   ],
   "source": [
    "df2.classes_3.value_counts()"
   ]
  },
  {
   "cell_type": "markdown",
   "metadata": {},
   "source": [
    "## Building a Decision Tree Classifier\n",
    "---\n",
    "The current variables in the data set:"
   ]
  },
  {
   "cell_type": "code",
   "execution_count": 24,
   "metadata": {},
   "outputs": [
    {
     "name": "stdout",
     "output_type": "stream",
     "text": [
      "<class 'pandas.core.frame.DataFrame'>\n",
      "RangeIndex: 1197 entries, 0 to 1196\n",
      "Data columns (total 10 columns):\n",
      " #   Column              Non-Null Count  Dtype  \n",
      "---  ------              --------------  -----  \n",
      " 0   over_time           1197 non-null   int64  \n",
      " 1   incentive           1197 non-null   int64  \n",
      " 2   no_of_style_change  1197 non-null   int64  \n",
      " 3   no_of_workers       1197 non-null   float64\n",
      " 4   winter              1197 non-null   int64  \n",
      " 5   day_d               1197 non-null   int64  \n",
      " 6   department_d        1197 non-null   int64  \n",
      " 7   classes_1           1197 non-null   object \n",
      " 8   classes_2           1197 non-null   object \n",
      " 9   classes_3           1197 non-null   object \n",
      "dtypes: float64(1), int64(6), object(3)\n",
      "memory usage: 93.6+ KB\n"
     ]
    }
   ],
   "source": [
    "df2.info()"
   ]
  },
  {
   "cell_type": "markdown",
   "metadata": {},
   "source": [
    "### Estimation strategy: \n",
    "\n",
    "We are interested in calculating the (mean) accuracy of the model for the three target variables built in the last section (in percentage). This value will be derived from a 5 fold cross-validation, via `GridSearchCV()`, where we only fix two parameters:         \n",
    "\n",
    "- `criterion='entropy'`\n",
    "- `splitter='best'`\n",
    "\n",
    "The only parameter that we'll allow to vary is the maximum depth of the tree - `max_depth`, that can range from 3 to 10 depth levels, which we also compare to the version of the tree without depth restrictions.\n",
    "\n",
    "Instead of limiting the number of features allowed in the tree we gather all the possible combinations of features we've worked upon, store it in `combinations` and proceed to conduct a battery of tree classifier estimations that also calculates the mean accuracy score of the test sets' predictions. A battery will be conducted for each target variable built previously.\n",
    "\n",
    "The list of features:"
   ]
  },
  {
   "cell_type": "code",
   "execution_count": 25,
   "metadata": {},
   "outputs": [
    {
     "name": "stdout",
     "output_type": "stream",
     "text": [
      "over_time\n",
      "incentive\n",
      "no_of_style_change\n",
      "no_of_workers\n",
      "winter\n",
      "day_d\n",
      "department_d\n"
     ]
    }
   ],
   "source": [
    "features = [i for i in df2.columns if not re.match('classes', i)]\n",
    "\n",
    "print(*features, sep='\\n')"
   ]
  },
  {
   "cell_type": "code",
   "execution_count": 26,
   "metadata": {},
   "outputs": [
    {
     "name": "stdout",
     "output_type": "stream",
     "text": [
      "Total number of derived combinations from the elements in `features`: 126.\n"
     ]
    }
   ],
   "source": [
    "combinations = []\n",
    "for i in range(1, len(features)):\n",
    "    for comb in cb(features, i):\n",
    "        combinations.append(list(comb))\n",
    "        \n",
    "print(f'Total number of derived combinations from the elements in `features`: {len(combinations)}.')"
   ]
  },
  {
   "cell_type": "markdown",
   "metadata": {},
   "source": [
    "To produce the desired estimations we build a function - `gridcv_results()`, that takes as input the feature selection, the name of the target variable and a dictionary with `DecisionTreeClassifier` parameters to be inserted into `GridSearchCV()`, and returns the best estimator (object) and its associated parameters and accuracy score.\n",
    "\n",
    "As seen previously, the subcategories in the target variables are unevenly distributed. To overcome that caveat `gridcv_results()` also includes a process that builds the DataFrame to be used for estimation, by sampling _n_ values per subcategory, being _n_ the number of rows of the smallest subcategory. To better illustrate the process we show the process for `classes_2`:\n",
    "\n",
    "Number of rows in `df2`: 1197\n",
    "\n",
    "Number of rows per subcategory:\n",
    "- `above`: 466\n",
    "- `expected`: 438\n",
    "- `below`: 293\n",
    "\n",
    "The DataFrame to be estimated will maintain all the rows in the smallest category - `below`, and from the other two subcategories - `above` and `expected`, we randomly sample the same number of rows as in `below` and add them to these so that we end up with a DataFrame where:\n",
    "\n",
    "Number of rows per subcategory:\n",
    "- `above`: 293\n",
    "- `expected`: 293\n",
    "- `below`: 293\n",
    "\n",
    "Number of rows in the final DataFrame: 879\n",
    "\n",
    "Then, the 5 fold cross-validation takes place, where 703 rows are used as the train set and 176 as the test set."
   ]
  },
  {
   "cell_type": "code",
   "execution_count": 27,
   "metadata": {},
   "outputs": [],
   "source": [
    "parameters = {\n",
    "    'max_depth': list(range(3, 15+1)) + [None],\n",
    "    }\n",
    "\n",
    "lowest_class = {\n",
    "    'classes_1': df2.classes_1.value_counts().min(),\n",
    "    'classes_2': df2.classes_2.value_counts().min(),\n",
    "    'classes_3': df2.classes_3.value_counts().min(),\n",
    "    }\n",
    "\n",
    "def gridcv_results(feats, target, parameters):\n",
    "    \n",
    "    subclasses = list(df2[target].unique())\n",
    "\n",
    "    n_ = lowest_class[target]\n",
    "    \n",
    "    df = pd.DataFrame()\n",
    "    \n",
    "    for subclass in subclasses:\n",
    "        partial_df = df2[df2[target]==subclass].sample(n=n_, random_state=32)\n",
    "        df = pd.concat([df, partial_df], axis=0)\n",
    "        \n",
    "    df = df.reset_index(drop=True)\n",
    "      \n",
    "    X = df[feats]\n",
    "    y = df[target]\n",
    "\n",
    "    classifier = DecisionTreeClassifier(\n",
    "        criterion='entropy',\n",
    "        splitter='best',\n",
    "        max_features=None,\n",
    "        )\n",
    "\n",
    "    grid = GridSearchCV(\n",
    "        estimator=classifier,\n",
    "        param_grid=parameters, \n",
    "        scoring='accuracy',\n",
    "        n_jobs=-1,\n",
    "        refit=True,\n",
    "        cv=5,\n",
    "        return_train_score=False,\n",
    "        )\n",
    "    \n",
    "    estimator = grid.fit(X, y)\n",
    "    \n",
    "    return (\n",
    "        estimator.best_estimator_,\n",
    "        estimator.best_params_,\n",
    "        round(estimator.best_score_*100, 2),\n",
    "        )"
   ]
  },
  {
   "cell_type": "markdown",
   "metadata": {},
   "source": [
    "#### Estimations for the target variable `classes_1`."
   ]
  },
  {
   "cell_type": "code",
   "execution_count": 28,
   "metadata": {},
   "outputs": [
    {
     "data": {
      "text/html": [
       "<div>\n",
       "<style scoped>\n",
       "    .dataframe tbody tr th:only-of-type {\n",
       "        vertical-align: middle;\n",
       "    }\n",
       "\n",
       "    .dataframe tbody tr th {\n",
       "        vertical-align: top;\n",
       "    }\n",
       "\n",
       "    .dataframe thead th {\n",
       "        text-align: right;\n",
       "    }\n",
       "</style>\n",
       "<table border=\"1\" class=\"dataframe\">\n",
       "  <thead>\n",
       "    <tr style=\"text-align: right;\">\n",
       "      <th></th>\n",
       "      <th>variable_params</th>\n",
       "      <th>accuracy</th>\n",
       "      <th>variables</th>\n",
       "      <th>count_vars</th>\n",
       "    </tr>\n",
       "  </thead>\n",
       "  <tbody>\n",
       "    <tr>\n",
       "      <th>14</th>\n",
       "      <td>{'max_depth': 4}</td>\n",
       "      <td>77.90</td>\n",
       "      <td>[incentive, no_of_workers]</td>\n",
       "      <td>2</td>\n",
       "    </tr>\n",
       "    <tr>\n",
       "      <th>49</th>\n",
       "      <td>{'max_depth': 4}</td>\n",
       "      <td>77.90</td>\n",
       "      <td>[incentive, no_of_workers, department_d]</td>\n",
       "      <td>3</td>\n",
       "    </tr>\n",
       "    <tr>\n",
       "      <th>47</th>\n",
       "      <td>{'max_depth': 4}</td>\n",
       "      <td>77.73</td>\n",
       "      <td>[incentive, no_of_workers, winter]</td>\n",
       "      <td>3</td>\n",
       "    </tr>\n",
       "    <tr>\n",
       "      <th>90</th>\n",
       "      <td>{'max_depth': 4}</td>\n",
       "      <td>77.73</td>\n",
       "      <td>[incentive, no_of_workers, winter, department_d]</td>\n",
       "      <td>4</td>\n",
       "    </tr>\n",
       "    <tr>\n",
       "      <th>114</th>\n",
       "      <td>{'max_depth': 4}</td>\n",
       "      <td>77.56</td>\n",
       "      <td>[incentive, no_of_style_change, no_of_workers, winter, department_d]</td>\n",
       "      <td>5</td>\n",
       "    </tr>\n",
       "  </tbody>\n",
       "</table>\n",
       "</div>"
      ],
      "text/plain": [
       "      variable_params  accuracy  \\\n",
       "14   {'max_depth': 4}     77.90   \n",
       "49   {'max_depth': 4}     77.90   \n",
       "47   {'max_depth': 4}     77.73   \n",
       "90   {'max_depth': 4}     77.73   \n",
       "114  {'max_depth': 4}     77.56   \n",
       "\n",
       "                                                                variables  \\\n",
       "14                                             [incentive, no_of_workers]   \n",
       "49                               [incentive, no_of_workers, department_d]   \n",
       "47                                     [incentive, no_of_workers, winter]   \n",
       "90                       [incentive, no_of_workers, winter, department_d]   \n",
       "114  [incentive, no_of_style_change, no_of_workers, winter, department_d]   \n",
       "\n",
       "     count_vars  \n",
       "14            2  \n",
       "49            3  \n",
       "47            3  \n",
       "90            4  \n",
       "114           5  "
      ]
     },
     "execution_count": 28,
     "metadata": {},
     "output_type": "execute_result"
    }
   ],
   "source": [
    "pd.set_option('display.max_colwidth', None)\n",
    "\n",
    "classes_1_results = {} \n",
    "\n",
    "for i, feats in enumerate(combinations):\n",
    "    classes_1_results[i] = gridcv_results(feats, 'classes_1', parameters)\n",
    "\n",
    "results_df_1 = pd.DataFrame(\n",
    "    {\n",
    "        'variable_params': [classes_1_results[key][1] for key in classes_1_results],\n",
    "        'accuracy': [classes_1_results[key][2] for key in classes_1_results],\n",
    "        'variables': combinations,\n",
    "        'count_vars': [len(i) for i in combinations],\n",
    "    },\n",
    ")\n",
    "\n",
    "results_df_1 = results_df_1.sort_values('accuracy', ascending=False)\n",
    "\n",
    "results_df_1.head()"
   ]
  },
  {
   "cell_type": "markdown",
   "metadata": {},
   "source": [
    "The five rows above show the best models based on accuracy. Because, the values are very similar we look for the model that has the least number of values that is able to retain a high prediction power."
   ]
  },
  {
   "cell_type": "code",
   "execution_count": 29,
   "metadata": {},
   "outputs": [
    {
     "data": {
      "text/html": [
       "<div>\n",
       "<style scoped>\n",
       "    .dataframe tbody tr th:only-of-type {\n",
       "        vertical-align: middle;\n",
       "    }\n",
       "\n",
       "    .dataframe tbody tr th {\n",
       "        vertical-align: top;\n",
       "    }\n",
       "\n",
       "    .dataframe thead th {\n",
       "        text-align: right;\n",
       "    }\n",
       "</style>\n",
       "<table border=\"1\" class=\"dataframe\">\n",
       "  <thead>\n",
       "    <tr style=\"text-align: right;\">\n",
       "      <th></th>\n",
       "      <th>variable_params</th>\n",
       "      <th>accuracy</th>\n",
       "      <th>variables</th>\n",
       "      <th>count_vars</th>\n",
       "    </tr>\n",
       "  </thead>\n",
       "  <tbody>\n",
       "    <tr>\n",
       "      <th>14</th>\n",
       "      <td>{'max_depth': 4}</td>\n",
       "      <td>77.9</td>\n",
       "      <td>[incentive, no_of_workers]</td>\n",
       "      <td>2</td>\n",
       "    </tr>\n",
       "  </tbody>\n",
       "</table>\n",
       "</div>"
      ],
      "text/plain": [
       "     variable_params  accuracy                   variables  count_vars\n",
       "14  {'max_depth': 4}      77.9  [incentive, no_of_workers]           2"
      ]
     },
     "execution_count": 29,
     "metadata": {},
     "output_type": "execute_result"
    }
   ],
   "source": [
    "best_classes_1 = results_df_1.query('accuracy > 75 & count_vars <= 2')\n",
    "\n",
    "best_classes_1"
   ]
  },
  {
   "cell_type": "markdown",
   "metadata": {},
   "source": [
    "The model that only as`incentive` and `no_of_workers` is the shortest and best performing model, with an accuracy of near 78%. "
   ]
  },
  {
   "cell_type": "markdown",
   "metadata": {},
   "source": [
    "#### Estimations for the target variable `classes_2`."
   ]
  },
  {
   "cell_type": "code",
   "execution_count": 30,
   "metadata": {},
   "outputs": [
    {
     "data": {
      "text/html": [
       "<div>\n",
       "<style scoped>\n",
       "    .dataframe tbody tr th:only-of-type {\n",
       "        vertical-align: middle;\n",
       "    }\n",
       "\n",
       "    .dataframe tbody tr th {\n",
       "        vertical-align: top;\n",
       "    }\n",
       "\n",
       "    .dataframe thead th {\n",
       "        text-align: right;\n",
       "    }\n",
       "</style>\n",
       "<table border=\"1\" class=\"dataframe\">\n",
       "  <thead>\n",
       "    <tr style=\"text-align: right;\">\n",
       "      <th></th>\n",
       "      <th>variable_params</th>\n",
       "      <th>accuracy</th>\n",
       "      <th>variables</th>\n",
       "      <th>count_vars</th>\n",
       "    </tr>\n",
       "  </thead>\n",
       "  <tbody>\n",
       "    <tr>\n",
       "      <th>98</th>\n",
       "      <td>{'max_depth': 6}</td>\n",
       "      <td>72.35</td>\n",
       "      <td>[over_time, incentive, no_of_style_change, no_of_workers, winter]</td>\n",
       "      <td>5</td>\n",
       "    </tr>\n",
       "    <tr>\n",
       "      <th>105</th>\n",
       "      <td>{'max_depth': 6}</td>\n",
       "      <td>72.24</td>\n",
       "      <td>[over_time, incentive, no_of_workers, winter, department_d]</td>\n",
       "      <td>5</td>\n",
       "    </tr>\n",
       "    <tr>\n",
       "      <th>121</th>\n",
       "      <td>{'max_depth': 6}</td>\n",
       "      <td>72.24</td>\n",
       "      <td>[over_time, incentive, no_of_style_change, no_of_workers, day_d, department_d]</td>\n",
       "      <td>6</td>\n",
       "    </tr>\n",
       "    <tr>\n",
       "      <th>120</th>\n",
       "      <td>{'max_depth': 6}</td>\n",
       "      <td>72.24</td>\n",
       "      <td>[over_time, incentive, no_of_style_change, no_of_workers, winter, department_d]</td>\n",
       "      <td>6</td>\n",
       "    </tr>\n",
       "    <tr>\n",
       "      <th>100</th>\n",
       "      <td>{'max_depth': 6}</td>\n",
       "      <td>72.24</td>\n",
       "      <td>[over_time, incentive, no_of_style_change, no_of_workers, department_d]</td>\n",
       "      <td>5</td>\n",
       "    </tr>\n",
       "  </tbody>\n",
       "</table>\n",
       "</div>"
      ],
      "text/plain": [
       "      variable_params  accuracy  \\\n",
       "98   {'max_depth': 6}     72.35   \n",
       "105  {'max_depth': 6}     72.24   \n",
       "121  {'max_depth': 6}     72.24   \n",
       "120  {'max_depth': 6}     72.24   \n",
       "100  {'max_depth': 6}     72.24   \n",
       "\n",
       "                                                                           variables  \\\n",
       "98                 [over_time, incentive, no_of_style_change, no_of_workers, winter]   \n",
       "105                      [over_time, incentive, no_of_workers, winter, department_d]   \n",
       "121   [over_time, incentive, no_of_style_change, no_of_workers, day_d, department_d]   \n",
       "120  [over_time, incentive, no_of_style_change, no_of_workers, winter, department_d]   \n",
       "100          [over_time, incentive, no_of_style_change, no_of_workers, department_d]   \n",
       "\n",
       "     count_vars  \n",
       "98            5  \n",
       "105           5  \n",
       "121           6  \n",
       "120           6  \n",
       "100           5  "
      ]
     },
     "execution_count": 30,
     "metadata": {},
     "output_type": "execute_result"
    }
   ],
   "source": [
    "classes_2_results = {} \n",
    "\n",
    "for i, feats in enumerate(combinations):\n",
    "    classes_2_results[i] = gridcv_results(feats, 'classes_2', parameters)\n",
    "\n",
    "results_df_2 = pd.DataFrame(\n",
    "    {\n",
    "        'variable_params': [classes_2_results[key][1] for key in classes_2_results],\n",
    "        'accuracy': [classes_2_results[key][2] for key in classes_2_results],\n",
    "        'variables': combinations,\n",
    "        'count_vars': [len(i) for i in combinations],\n",
    "    },\n",
    ")\n",
    "\n",
    "results_df_2 = results_df_2.sort_values('accuracy', ascending=False)\n",
    "\n",
    "results_df_2.head()"
   ]
  },
  {
   "cell_type": "code",
   "execution_count": 31,
   "metadata": {},
   "outputs": [
    {
     "data": {
      "text/html": [
       "<div>\n",
       "<style scoped>\n",
       "    .dataframe tbody tr th:only-of-type {\n",
       "        vertical-align: middle;\n",
       "    }\n",
       "\n",
       "    .dataframe tbody tr th {\n",
       "        vertical-align: top;\n",
       "    }\n",
       "\n",
       "    .dataframe thead th {\n",
       "        text-align: right;\n",
       "    }\n",
       "</style>\n",
       "<table border=\"1\" class=\"dataframe\">\n",
       "  <thead>\n",
       "    <tr style=\"text-align: right;\">\n",
       "      <th></th>\n",
       "      <th>variable_params</th>\n",
       "      <th>accuracy</th>\n",
       "      <th>variables</th>\n",
       "      <th>count_vars</th>\n",
       "    </tr>\n",
       "  </thead>\n",
       "  <tbody>\n",
       "    <tr>\n",
       "      <th>14</th>\n",
       "      <td>{'max_depth': 5}</td>\n",
       "      <td>72.01</td>\n",
       "      <td>[incentive, no_of_workers]</td>\n",
       "      <td>2</td>\n",
       "    </tr>\n",
       "    <tr>\n",
       "      <th>7</th>\n",
       "      <td>{'max_depth': 5}</td>\n",
       "      <td>71.10</td>\n",
       "      <td>[over_time, incentive]</td>\n",
       "      <td>2</td>\n",
       "    </tr>\n",
       "  </tbody>\n",
       "</table>\n",
       "</div>"
      ],
      "text/plain": [
       "     variable_params  accuracy                   variables  count_vars\n",
       "14  {'max_depth': 5}     72.01  [incentive, no_of_workers]           2\n",
       "7   {'max_depth': 5}     71.10      [over_time, incentive]           2"
      ]
     },
     "execution_count": 31,
     "metadata": {},
     "output_type": "execute_result"
    }
   ],
   "source": [
    "best_classes_2 = results_df_2.query('accuracy > 70 & count_vars <= 2')\n",
    "\n",
    "best_classes_2"
   ]
  },
  {
   "cell_type": "markdown",
   "metadata": {},
   "source": [
    "For `classes_2`, the highest accuracy achieved is 72.58% for a model with 6 explanatory variables, whilst there are at least two models that have an accuracy over 70% that only need two explanatory variables to achieve such score. The first model only contains `incentive` and `no_of_workers` (same model as previously analyzed in `classes_1`), whereas the second model is composed of `over_time` and `incentive`. This latter variable seems to be the most determining factor in predicting productivity so far. Furthermore, we can also observe the expected drop in accuracy of the models for `classes_2` when compared with those previously estimated for `classes_1`, given that the increase in subcategories will make it harder for the classifier to make correct predictions."
   ]
  },
  {
   "cell_type": "markdown",
   "metadata": {},
   "source": [
    "#### Estimations for the target variable `classes_3`."
   ]
  },
  {
   "cell_type": "code",
   "execution_count": 32,
   "metadata": {},
   "outputs": [
    {
     "data": {
      "text/html": [
       "<div>\n",
       "<style scoped>\n",
       "    .dataframe tbody tr th:only-of-type {\n",
       "        vertical-align: middle;\n",
       "    }\n",
       "\n",
       "    .dataframe tbody tr th {\n",
       "        vertical-align: top;\n",
       "    }\n",
       "\n",
       "    .dataframe thead th {\n",
       "        text-align: right;\n",
       "    }\n",
       "</style>\n",
       "<table border=\"1\" class=\"dataframe\">\n",
       "  <thead>\n",
       "    <tr style=\"text-align: right;\">\n",
       "      <th></th>\n",
       "      <th>variable_params</th>\n",
       "      <th>accuracy</th>\n",
       "      <th>variables</th>\n",
       "      <th>count_vars</th>\n",
       "    </tr>\n",
       "  </thead>\n",
       "  <tbody>\n",
       "    <tr>\n",
       "      <th>14</th>\n",
       "      <td>{'max_depth': 6}</td>\n",
       "      <td>54.53</td>\n",
       "      <td>[incentive, no_of_workers]</td>\n",
       "      <td>2</td>\n",
       "    </tr>\n",
       "    <tr>\n",
       "      <th>83</th>\n",
       "      <td>{'max_depth': 6}</td>\n",
       "      <td>54.53</td>\n",
       "      <td>[incentive, no_of_style_change, no_of_workers, winter]</td>\n",
       "      <td>4</td>\n",
       "    </tr>\n",
       "    <tr>\n",
       "      <th>43</th>\n",
       "      <td>{'max_depth': 6}</td>\n",
       "      <td>54.37</td>\n",
       "      <td>[incentive, no_of_style_change, no_of_workers]</td>\n",
       "      <td>3</td>\n",
       "    </tr>\n",
       "    <tr>\n",
       "      <th>85</th>\n",
       "      <td>{'max_depth': 6}</td>\n",
       "      <td>54.37</td>\n",
       "      <td>[incentive, no_of_style_change, no_of_workers, department_d]</td>\n",
       "      <td>4</td>\n",
       "    </tr>\n",
       "    <tr>\n",
       "      <th>47</th>\n",
       "      <td>{'max_depth': 6}</td>\n",
       "      <td>54.37</td>\n",
       "      <td>[incentive, no_of_workers, winter]</td>\n",
       "      <td>3</td>\n",
       "    </tr>\n",
       "  </tbody>\n",
       "</table>\n",
       "</div>"
      ],
      "text/plain": [
       "     variable_params  accuracy  \\\n",
       "14  {'max_depth': 6}     54.53   \n",
       "83  {'max_depth': 6}     54.53   \n",
       "43  {'max_depth': 6}     54.37   \n",
       "85  {'max_depth': 6}     54.37   \n",
       "47  {'max_depth': 6}     54.37   \n",
       "\n",
       "                                                       variables  count_vars  \n",
       "14                                    [incentive, no_of_workers]           2  \n",
       "83        [incentive, no_of_style_change, no_of_workers, winter]           4  \n",
       "43                [incentive, no_of_style_change, no_of_workers]           3  \n",
       "85  [incentive, no_of_style_change, no_of_workers, department_d]           4  \n",
       "47                            [incentive, no_of_workers, winter]           3  "
      ]
     },
     "execution_count": 32,
     "metadata": {},
     "output_type": "execute_result"
    }
   ],
   "source": [
    "classes_3_results = {} \n",
    "\n",
    "for i, feats in enumerate(combinations):\n",
    "    classes_3_results[i] = gridcv_results(feats, 'classes_3', parameters)\n",
    "\n",
    "results_df_3 = pd.DataFrame(\n",
    "    {\n",
    "        'variable_params': [classes_3_results[key][1] for key in classes_3_results],\n",
    "        'accuracy': [classes_3_results[key][2] for key in classes_3_results],\n",
    "        'variables': combinations,\n",
    "        'count_vars': [len(i) for i in combinations],\n",
    "    },\n",
    ")\n",
    "\n",
    "results_df_3 = results_df_3.sort_values('accuracy', ascending=False)\n",
    "\n",
    "results_df_3.head()"
   ]
  },
  {
   "cell_type": "code",
   "execution_count": 33,
   "metadata": {},
   "outputs": [
    {
     "data": {
      "text/html": [
       "<div>\n",
       "<style scoped>\n",
       "    .dataframe tbody tr th:only-of-type {\n",
       "        vertical-align: middle;\n",
       "    }\n",
       "\n",
       "    .dataframe tbody tr th {\n",
       "        vertical-align: top;\n",
       "    }\n",
       "\n",
       "    .dataframe thead th {\n",
       "        text-align: right;\n",
       "    }\n",
       "</style>\n",
       "<table border=\"1\" class=\"dataframe\">\n",
       "  <thead>\n",
       "    <tr style=\"text-align: right;\">\n",
       "      <th></th>\n",
       "      <th>variable_params</th>\n",
       "      <th>accuracy</th>\n",
       "      <th>variables</th>\n",
       "      <th>count_vars</th>\n",
       "    </tr>\n",
       "  </thead>\n",
       "  <tbody>\n",
       "    <tr>\n",
       "      <th>14</th>\n",
       "      <td>{'max_depth': 6}</td>\n",
       "      <td>54.53</td>\n",
       "      <td>[incentive, no_of_workers]</td>\n",
       "      <td>2</td>\n",
       "    </tr>\n",
       "    <tr>\n",
       "      <th>7</th>\n",
       "      <td>{'max_depth': 6}</td>\n",
       "      <td>51.88</td>\n",
       "      <td>[over_time, incentive]</td>\n",
       "      <td>2</td>\n",
       "    </tr>\n",
       "  </tbody>\n",
       "</table>\n",
       "</div>"
      ],
      "text/plain": [
       "     variable_params  accuracy                   variables  count_vars\n",
       "14  {'max_depth': 6}     54.53  [incentive, no_of_workers]           2\n",
       "7   {'max_depth': 6}     51.88      [over_time, incentive]           2"
      ]
     },
     "execution_count": 33,
     "metadata": {},
     "output_type": "execute_result"
    }
   ],
   "source": [
    "best_classes_3 = results_df_3.query('accuracy > 50 & count_vars <= 2')\n",
    "\n",
    "best_classes_3"
   ]
  },
  {
   "cell_type": "markdown",
   "metadata": {},
   "source": [
    "When extending the target variable up to five subcategories (`classes`) we notice a substantial drop in the models accuracy, where the best models only scores around 54.5%. Analogously to `classes_2`, the best models with the least variables are the same, where the one that is composed of `incentive`, `no_of_workers` ranks slightly higher."
   ]
  },
  {
   "cell_type": "markdown",
   "metadata": {},
   "source": [
    "Resuming the findings."
   ]
  },
  {
   "cell_type": "code",
   "execution_count": 34,
   "metadata": {},
   "outputs": [
    {
     "data": {
      "text/html": [
       "<div>\n",
       "<style scoped>\n",
       "    .dataframe tbody tr th:only-of-type {\n",
       "        vertical-align: middle;\n",
       "    }\n",
       "\n",
       "    .dataframe tbody tr th {\n",
       "        vertical-align: top;\n",
       "    }\n",
       "\n",
       "    .dataframe thead th {\n",
       "        text-align: right;\n",
       "    }\n",
       "</style>\n",
       "<table border=\"1\" class=\"dataframe\">\n",
       "  <thead>\n",
       "    <tr style=\"text-align: right;\">\n",
       "      <th></th>\n",
       "      <th>variable_params</th>\n",
       "      <th>accuracy</th>\n",
       "      <th>variables</th>\n",
       "      <th>count_vars</th>\n",
       "      <th>classes</th>\n",
       "      <th>target</th>\n",
       "    </tr>\n",
       "  </thead>\n",
       "  <tbody>\n",
       "    <tr>\n",
       "      <th>0</th>\n",
       "      <td>{'max_depth': 4}</td>\n",
       "      <td>77.90</td>\n",
       "      <td>[incentive, no_of_workers]</td>\n",
       "      <td>2</td>\n",
       "      <td>2</td>\n",
       "      <td>classes_1</td>\n",
       "    </tr>\n",
       "    <tr>\n",
       "      <th>1</th>\n",
       "      <td>{'max_depth': 5}</td>\n",
       "      <td>72.01</td>\n",
       "      <td>[incentive, no_of_workers]</td>\n",
       "      <td>2</td>\n",
       "      <td>3</td>\n",
       "      <td>classes_2</td>\n",
       "    </tr>\n",
       "    <tr>\n",
       "      <th>2</th>\n",
       "      <td>{'max_depth': 5}</td>\n",
       "      <td>71.10</td>\n",
       "      <td>[over_time, incentive]</td>\n",
       "      <td>2</td>\n",
       "      <td>3</td>\n",
       "      <td>classes_2</td>\n",
       "    </tr>\n",
       "    <tr>\n",
       "      <th>3</th>\n",
       "      <td>{'max_depth': 6}</td>\n",
       "      <td>54.53</td>\n",
       "      <td>[incentive, no_of_workers]</td>\n",
       "      <td>2</td>\n",
       "      <td>5</td>\n",
       "      <td>classes_3</td>\n",
       "    </tr>\n",
       "    <tr>\n",
       "      <th>4</th>\n",
       "      <td>{'max_depth': 6}</td>\n",
       "      <td>51.88</td>\n",
       "      <td>[over_time, incentive]</td>\n",
       "      <td>2</td>\n",
       "      <td>5</td>\n",
       "      <td>classes_3</td>\n",
       "    </tr>\n",
       "  </tbody>\n",
       "</table>\n",
       "</div>"
      ],
      "text/plain": [
       "    variable_params  accuracy                   variables  count_vars  \\\n",
       "0  {'max_depth': 4}     77.90  [incentive, no_of_workers]           2   \n",
       "1  {'max_depth': 5}     72.01  [incentive, no_of_workers]           2   \n",
       "2  {'max_depth': 5}     71.10      [over_time, incentive]           2   \n",
       "3  {'max_depth': 6}     54.53  [incentive, no_of_workers]           2   \n",
       "4  {'max_depth': 6}     51.88      [over_time, incentive]           2   \n",
       "\n",
       "   classes     target  \n",
       "0        2  classes_1  \n",
       "1        3  classes_2  \n",
       "2        3  classes_2  \n",
       "3        5  classes_3  \n",
       "4        5  classes_3  "
      ]
     },
     "execution_count": 34,
     "metadata": {},
     "output_type": "execute_result"
    }
   ],
   "source": [
    "pd.options.mode.chained_assignment = None\n",
    "\n",
    "best_classes_1['classes'] = 2\n",
    "best_classes_2['classes'] = 3\n",
    "best_classes_3['classes'] = 5\n",
    "\n",
    "best_classes_1['target'] = 'classes_1'\n",
    "best_classes_2['target'] = 'classes_2'\n",
    "best_classes_3['target'] = 'classes_3'\n",
    "\n",
    "compare_best_grid = (\n",
    "    pd.concat(\n",
    "        [\n",
    "            best_classes_1,\n",
    "            best_classes_2,\n",
    "            best_classes_3,\n",
    "        ]\n",
    "    )\n",
    "    .reset_index(drop=True)\n",
    "    .sort_values('accuracy', ascending=False)\n",
    ")\n",
    "\n",
    "compare_best_grid"
   ]
  },
  {
   "cell_type": "markdown",
   "metadata": {},
   "source": [
    "## Building A Random Forest Classifier\n",
    "---\n",
    "In order to assess the robustness of the best estimations we were able to produce with the implementation of the tree classifier search grid, we can fit a random forest classifier with the best explanatory variables found earlier and check if the accuracy scores hold. Unlike the previous estimation process, we use the full DataFrame - `df2`, thus allowing the target classes to remain unbalanced. The number of estimations is set to 1000; the feature split criterion will remain entropy; and the train-test partition is 70-30% respectively."
   ]
  },
  {
   "cell_type": "code",
   "execution_count": 35,
   "metadata": {},
   "outputs": [],
   "source": [
    "def get_accuracy_forest(feats, target): \n",
    "    \n",
    "    X = df2[feats]\n",
    "    y = df2[target]\n",
    "    \n",
    "    X_train, X_test, y_train, y_test = split(\n",
    "        X,\n",
    "        y,\n",
    "        test_size=0.3,\n",
    "        random_state=22333,\n",
    "        shuffle=True\n",
    "        )\n",
    "    \n",
    "    classifier = RandomForestClassifier(\n",
    "        n_estimators=1000,\n",
    "        criterion='entropy',\n",
    "        max_depth=None,\n",
    "        max_features=None, \n",
    "        bootstrap=True,\n",
    "        oob_score=False,\n",
    "        n_jobs=-1,\n",
    "        random_state=4937\n",
    "        )\n",
    "\n",
    "    forest = classifier.fit(X_train, y_train)\n",
    "\n",
    "    accuracy = forest.score(X_test, y_test)*100\n",
    "    \n",
    "    return (forest, round(accuracy, 2))"
   ]
  },
  {
   "cell_type": "markdown",
   "metadata": {},
   "source": [
    "#### Accuracy comparison between models for the random forest classifier."
   ]
  },
  {
   "cell_type": "code",
   "execution_count": 36,
   "metadata": {},
   "outputs": [
    {
     "name": "stdout",
     "output_type": "stream",
     "text": [
      "Features: incentive, no_of_workers, winter:\n",
      "    - classes_1: 79.44%\n",
      "    - classes_2: 70.28%\n",
      "    - classes_3: 60.83%\n",
      "\n",
      "Features: incentive, no_of_workers, department_d:\n",
      "    - classes_1: 79.44%\n",
      "    - classes_2: 70.28%\n",
      "    - classes_3: 60.83%\n",
      "\n",
      "Features: incentive, no_of_workers, over_time:\n",
      "    - classes_1: 80.0%\n",
      "    - classes_2: 71.11%\n",
      "    - classes_3: 60.83%\n",
      "\n",
      "Features: incentive, no_of_workers:\n",
      "    - classes_1: 79.44%\n",
      "    - classes_2: 70.28%\n",
      "    - classes_3: 60.83%\n",
      "\n",
      "Features: incentive, overt_time:\n",
      "    - classes_1: 79.44%\n",
      "    - classes_2: 69.44%\n",
      "    - classes_3: 58.33%\n",
      "\n",
      "Features: incentive:\n",
      "    - classes_1: 76.94%\n",
      "    - classes_2: 64.44%\n",
      "    - classes_3: 56.11%\n"
     ]
    }
   ],
   "source": [
    "print('Features: incentive, no_of_workers, winter:')\n",
    "for i in [1, 2, 3]:\n",
    "    accuracy = get_accuracy_forest(['incentive', 'no_of_workers', 'winter'], f'classes_{i}')[1]\n",
    "    print(f'    - classes_{i}: {accuracy}%')\n",
    "    \n",
    "print('\\nFeatures: incentive, no_of_workers, department_d:')\n",
    "for i in [1, 2, 3]:\n",
    "    accuracy = get_accuracy_forest(['incentive', 'no_of_workers', 'department_d'], f'classes_{i}')[1]\n",
    "    print(f'    - classes_{i}: {accuracy}%')\n",
    "    \n",
    "print('\\nFeatures: incentive, no_of_workers, over_time:')\n",
    "for i in [1, 2, 3]:\n",
    "    accuracy = get_accuracy_forest(['incentive', 'no_of_workers', 'over_time'], f'classes_{i}')[1]\n",
    "    print(f'    - classes_{i}: {accuracy}%')\n",
    "    \n",
    "print('\\nFeatures: incentive, no_of_workers:')\n",
    "for i in [1, 2, 3]:\n",
    "    accuracy = get_accuracy_forest(['incentive', 'no_of_workers'], f'classes_{i}')[1]\n",
    "    print(f'    - classes_{i}: {accuracy}%')\n",
    "      \n",
    "print('\\nFeatures: incentive, overt_time:')\n",
    "for i in [1, 2, 3]:\n",
    "    accuracy = get_accuracy_forest(['incentive', 'over_time'], f'classes_{i}')[1]\n",
    "    print(f'    - classes_{i}: {accuracy}%')\n",
    "    \n",
    "print('\\nFeatures: incentive:')\n",
    "for i in [1, 2, 3]:\n",
    "    accuracy = get_accuracy_forest(['incentive'], f'classes_{i}')[1]\n",
    "    print(f'    - classes_{i}: {accuracy}%')"
   ]
  },
  {
   "cell_type": "markdown",
   "metadata": {},
   "source": [
    "From the results we can see that controlling for season (`winter`) and for department (`department_d`), does not yield better accuracy scores. On the other hand, `incentive` seems to be the best productivity predictor, whereas including either the number of workers (`no_of_workers`) or the over time (`over_time`) slightly improves the score. Including both `no_of_workers`, `over_time` to `incentive` has a negligible positive effect on the accuracy for `classes_1` and `classes_2`.\n",
    "\n",
    "When comparing the different estimation approaches for the best model (`incentive` and `no_of_workers`), we observe a small variation of about 2%  for `classes_1` and `classes_2`, and a substantial accuracy improvement of about 11.88% for the more complex target variable - `classes_3`: "
   ]
  },
  {
   "cell_type": "code",
   "execution_count": 37,
   "metadata": {},
   "outputs": [],
   "source": [
    "incentive_workers_grid_res = [\n",
    "    compare_best_grid.loc[i, 'accuracy'] for i in range(0,compare_best_grid.shape[0]) if compare_best_grid.loc[i, 'variables'] == ['incentive', 'no_of_workers']\n",
    "]\n",
    "\n",
    "compare_best = pd.DataFrame(\n",
    "    {\n",
    "        'grid search (balanced)': incentive_workers_grid_res,\n",
    "        'random forest (unbalanced)': [get_accuracy_forest(['incentive', 'no_of_workers'], f'classes_{i}')[1] for i in [1, 2, 3]]\n",
    "    },\n",
    "    index=[f'classes_{i}' for i in [1,2,3]]\n",
    ") "
   ]
  },
  {
   "cell_type": "code",
   "execution_count": 38,
   "metadata": {},
   "outputs": [
    {
     "data": {
      "text/html": [
       "<div>\n",
       "<style scoped>\n",
       "    .dataframe tbody tr th:only-of-type {\n",
       "        vertical-align: middle;\n",
       "    }\n",
       "\n",
       "    .dataframe tbody tr th {\n",
       "        vertical-align: top;\n",
       "    }\n",
       "\n",
       "    .dataframe thead th {\n",
       "        text-align: right;\n",
       "    }\n",
       "</style>\n",
       "<table border=\"1\" class=\"dataframe\">\n",
       "  <thead>\n",
       "    <tr style=\"text-align: right;\">\n",
       "      <th></th>\n",
       "      <th>grid search (balanced)</th>\n",
       "      <th>random forest (unbalanced)</th>\n",
       "      <th>perc_change</th>\n",
       "    </tr>\n",
       "  </thead>\n",
       "  <tbody>\n",
       "    <tr>\n",
       "      <th>classes_1</th>\n",
       "      <td>77.90</td>\n",
       "      <td>79.44</td>\n",
       "      <td>1.98</td>\n",
       "    </tr>\n",
       "    <tr>\n",
       "      <th>classes_2</th>\n",
       "      <td>72.01</td>\n",
       "      <td>70.28</td>\n",
       "      <td>-2.40</td>\n",
       "    </tr>\n",
       "    <tr>\n",
       "      <th>classes_3</th>\n",
       "      <td>54.53</td>\n",
       "      <td>60.83</td>\n",
       "      <td>11.55</td>\n",
       "    </tr>\n",
       "  </tbody>\n",
       "</table>\n",
       "</div>"
      ],
      "text/plain": [
       "           grid search (balanced)  random forest (unbalanced)  perc_change\n",
       "classes_1                   77.90                       79.44         1.98\n",
       "classes_2                   72.01                       70.28        -2.40\n",
       "classes_3                   54.53                       60.83        11.55"
      ]
     },
     "execution_count": 38,
     "metadata": {},
     "output_type": "execute_result"
    }
   ],
   "source": [
    "compare_best['perc_change'] = [compare_best.iloc[i, :1+1].pct_change()[1]*100 for i in [0, 1, 2]]\n",
    "\n",
    "compare_best['perc_change'] = compare_best['perc_change'].round(2)\n",
    "\n",
    "compare_best"
   ]
  },
  {
   "cell_type": "markdown",
   "metadata": {
    "heading_collapsed": true
   },
   "source": [
    "## Conclusion\n",
    "---\n",
    "We were able to predict the productivity class in a garments factory, presumably in Bangladesh, with an accuracy within 75 to 80% interval, when we use a binary classification spectrum (`classes_1`). Expectably, the accuracy level decreased substantially when we increased the complexity of the classification: `classes_2`, which has 3 classes, produces accuracy scores around 70%, whereas `classes_3`, with 5 classes, only achieves an accuracy between 54 and 61%. Despite of starting with 13 possible features and reducing them to 7 as a result of data processing, we found the best accuracy scores when using only `incentive`, `no_of_workers` and `over_time`. When comparing the results of the balanced target classifier (5 fold cross-validation grid search), which was estimated with a smaller sample of rows, versus the unbalanced target random forest classifier, which used the whole data set, we were not able to observe a great disparity between accuracy scores, to the exception of the 5-classes target - `classes_3`, which had a substantially better accuracy when using the random forest classifier (improvement of 11.5%).\n"
   ]
  }
 ],
 "metadata": {
  "hide_input": false,
  "kernelspec": {
   "display_name": "Python 3",
   "language": "python",
   "name": "python3"
  },
  "language_info": {
   "codemirror_mode": {
    "name": "ipython",
    "version": 3
   },
   "file_extension": ".py",
   "mimetype": "text/x-python",
   "name": "python",
   "nbconvert_exporter": "python",
   "pygments_lexer": "ipython3",
   "version": "3.9.2"
  },
  "varInspector": {
   "cols": {
    "lenName": 16,
    "lenType": 16,
    "lenVar": 40
   },
   "kernels_config": {
    "python": {
     "delete_cmd_postfix": "",
     "delete_cmd_prefix": "del ",
     "library": "var_list.py",
     "varRefreshCmd": "print(var_dic_list())"
    },
    "r": {
     "delete_cmd_postfix": ") ",
     "delete_cmd_prefix": "rm(",
     "library": "var_list.r",
     "varRefreshCmd": "cat(var_dic_list()) "
    }
   },
   "position": {
    "height": "544.85px",
    "left": "728.667px",
    "right": "20px",
    "top": "-1px",
    "width": "800px"
   },
   "types_to_exclude": [
    "module",
    "function",
    "builtin_function_or_method",
    "instance",
    "_Feature"
   ],
   "window_display": false
  }
 },
 "nbformat": 4,
 "nbformat_minor": 4
}
