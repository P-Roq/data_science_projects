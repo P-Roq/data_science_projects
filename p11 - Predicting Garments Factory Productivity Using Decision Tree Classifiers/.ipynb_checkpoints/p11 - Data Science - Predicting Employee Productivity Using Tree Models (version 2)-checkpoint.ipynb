{
 "cells": [
  {
   "cell_type": "markdown",
   "metadata": {},
   "source": [
    "# Data Science Project - Predicting Employee Productivity Using Tree Models\n",
    "\n",
    "**Version 2**: \n",
    "\n",
    "- in this version we make the tree estimation analysis more complex than the previous version by building three target variables and by using  a grid search cross-validation process instead of a single decision three per target variables. We also estimate a model for several combinations of features.\n",
    "\n",
    "\n",
    "- this version has proven to produce better predicting scores than the next versions - 3 and 4, therefore we improve this version. The main innovation in versions 3 and 4 was to convert continuous variables into ordinal ones (rankings), more specifically in the team size, incentive and overtime. None of the new ordinal variables produced prediction scores.\n",
    "\n",
    "\n",
    "- We include the most basic target variable (binary below or expected/above productivity) as in version 4.\n",
    "\n",
    "\n",
    "- trimming extreme outliers of continuous does not improve the accuracy of the estimations; although we can trim these values for visually display the frequency distribution.\n",
    "\n",
    "\n",
    "## Introduction\n",
    "---\n",
    "We are given a data set with information on the garment industry and we are asked to predicted the productivity delivered by the factory workers resorting to decision tree classifiers.\n",
    "\n",
    "\n",
    "Variable description ([source](https://archive.ics.uci.edu/ml/datasets/Productivity+Prediction+of+Garment+Employees)):\n",
    "\n",
    "| Column                   | Description|\n",
    "| ------------------------ | ---------- |\n",
    "| `date`                  | Date in MM-DD-YYYY.|\n",
    "| `day`                   | Day of the Week.|\n",
    "| `quarter`               | A portion of the month. A month was divided into four quarters.|\n",
    "| `department`            | Associated department with the instance.|\n",
    "| `team`               | Associated team number with the instance.|\n",
    "| `no_of_workers`         | Number of workers in each team.|\n",
    "| `no_of_style_change`    | Number of changes in the style of a particular product.|\n",
    "| `targeted_productivity` | Targeted productivity set by the Authority for each team for each day.|\n",
    "| `smv`                   | Standard Minute Value, it is the allocated time for a task.|\n",
    "| `wip`                   | Work in progress. Includes the number of unfinished items for products.|\n",
    "| `over_time`             | Represents the amount of overtime by each team in minutes.|\n",
    "| `incentive`             | Represents the amount of financial incentive (in Bangladeshi Taka - BDT) that enables or motivates a particular course of action. |\n",
    "| `idle_time`             | The amount of time when the production was interrupted due to several reasons.|\n",
    "| `idle_men`              | The number of workers who were idle due to production interruption.|\n",
    "| `actual_productivity`   | The actual % of productivity that was delivered by the workers. It ranges from 0-1.|\n",
    "\n",
    "## Exploratory Data Analysis\n",
    "---\n",
    "The following analysis of the data set intents to lay the ground for the variables to be used in the model estimation.\n",
    "\n",
    "- Time related variables (`date`, `day` and `quarter`):\n",
    "    - Productivity can change in relation to time, the season of the year can affect workers due to adversarial climate conditions (e.g. too much humidity, too much hot temperature, too cold, etc). We also know that as the working days go by, the productivity tends to drop from the first days after the previous day(s)-off up to the days before the next day(s)-off; therefore, we can explore the following time/date related variables:\n",
    "        - season of the year.\n",
    "        - day of the week.\n",
    "    - without any context the variable `quarter` (of the month) is not expected to render any particular insight into productivity levels because, therefore we remove it from the analysis.\n",
    "\n",
    "\n",
    "- Factory department (`department`):\n",
    "    - Different departments can have different measurements of 'actual' productivity, but we assume that the measurement used is standardized, so that we can actually differentiate worker by department. \n",
    "\n",
    "\n",
    "- Teams (`team` and `no_of_workers`):\n",
    "    - we can distinguish workers by teams since different team management can impact the workers' productivity. The number of workers for each team can have an impact on the productivity since large teams can be more difficult to coordinate and to assure rule compliance. \n",
    "\n",
    "\n",
    "- Allocated time for a task (`svm`):\n",
    "\t- without further context, this variable is not directly related to workers productivity, therefore we can drop it.\n",
    "\n",
    "\n",
    "- Work in progress (`wip`):\n",
    "\t- The number of finished products can be an indicative of productivity, but since many factors can affect the number of finished products - machines working at full capacity, reasonable deadlines, effective lower tier management, we will not include this variable.\n",
    "\n",
    "\n",
    "- Overtime (`over_time`):\n",
    "\t- Excess overtime can impact negatively the workers' productivity, both in the short and in the long term (depending on the of excess work), hence we can include this variable in the model.\n",
    "\n",
    "\n",
    "- Financial rewarding (`incentive`):\n",
    "\t- financial rewarding is expected to incentivize workers, therefore it is expected that well rewarded workers will have increased productivity.\n",
    "\n",
    "\n",
    "- Product complexity (`no_of_style_change`):\n",
    "\t- Augmenting the detail and modifications a product requires, can increase the risk of product faultiness, and delay productivity.\n",
    "\n",
    "\n",
    "- Delays registered:\n",
    "\t- If fews row register idle time (`idle_time`) we drop them as well as the associate number of idle workers (`idle_men`). We aim to analyze workers' productivity in normal conditions.  \n",
    "\n",
    "\n",
    "- Expected productivity and actual productivity (`targeted_productivity`, `actual_productivity`):\n",
    "\t- We can build a target variable for a regression tree which is given by the difference between the targeted (expected) and actual productivity, so that the model prediction reflects the productivity increase or decrease from the expected value. \n",
    "    "
   ]
  },
  {
   "cell_type": "code",
   "execution_count": 1,
   "metadata": {},
   "outputs": [],
   "source": [
    "import numpy as np\n",
    "import pandas as pd\n",
    "import re\n",
    "import matplotlib.pyplot as plt\n",
    "import seaborn as sns\n",
    "%matplotlib inline\n",
    "\n",
    "from sklearn.model_selection import train_test_split as split\n",
    "from sklearn.tree import DecisionTreeClassifier\n",
    "from sklearn.tree import plot_tree\n",
    "from sklearn.model_selection import GridSearchCV\n",
    "from itertools import combinations as cb"
   ]
  },
  {
   "cell_type": "code",
   "execution_count": 2,
   "metadata": {},
   "outputs": [
    {
     "name": "stdout",
     "output_type": "stream",
     "text": [
      "<class 'pandas.core.frame.DataFrame'>\n",
      "RangeIndex: 1197 entries, 0 to 1196\n",
      "Data columns (total 15 columns):\n",
      " #   Column                 Non-Null Count  Dtype  \n",
      "---  ------                 --------------  -----  \n",
      " 0   date                   1197 non-null   object \n",
      " 1   quarter                1197 non-null   object \n",
      " 2   department             1197 non-null   object \n",
      " 3   day                    1197 non-null   object \n",
      " 4   team                   1197 non-null   int64  \n",
      " 5   targeted_productivity  1197 non-null   float64\n",
      " 6   smv                    1197 non-null   float64\n",
      " 7   wip                    691 non-null    float64\n",
      " 8   over_time              1197 non-null   int64  \n",
      " 9   incentive              1197 non-null   int64  \n",
      " 10  idle_time              1197 non-null   float64\n",
      " 11  idle_men               1197 non-null   int64  \n",
      " 12  no_of_style_change     1197 non-null   int64  \n",
      " 13  no_of_workers          1197 non-null   float64\n",
      " 14  actual_productivity    1197 non-null   float64\n",
      "dtypes: float64(6), int64(5), object(4)\n",
      "memory usage: 140.4+ KB\n"
     ]
    }
   ],
   "source": [
    "df0 = pd.read_csv('garments_worker_productivity.csv')\n",
    "\n",
    "df0.info()"
   ]
  },
  {
   "cell_type": "code",
   "execution_count": 3,
   "metadata": {},
   "outputs": [
    {
     "data": {
      "text/html": [
       "<div>\n",
       "<style scoped>\n",
       "    .dataframe tbody tr th:only-of-type {\n",
       "        vertical-align: middle;\n",
       "    }\n",
       "\n",
       "    .dataframe tbody tr th {\n",
       "        vertical-align: top;\n",
       "    }\n",
       "\n",
       "    .dataframe thead th {\n",
       "        text-align: right;\n",
       "    }\n",
       "</style>\n",
       "<table border=\"1\" class=\"dataframe\">\n",
       "  <thead>\n",
       "    <tr style=\"text-align: right;\">\n",
       "      <th></th>\n",
       "      <th>date</th>\n",
       "      <th>quarter</th>\n",
       "      <th>department</th>\n",
       "      <th>day</th>\n",
       "      <th>team</th>\n",
       "      <th>targeted_productivity</th>\n",
       "      <th>smv</th>\n",
       "      <th>wip</th>\n",
       "      <th>over_time</th>\n",
       "      <th>incentive</th>\n",
       "      <th>idle_time</th>\n",
       "      <th>idle_men</th>\n",
       "      <th>no_of_style_change</th>\n",
       "      <th>no_of_workers</th>\n",
       "      <th>actual_productivity</th>\n",
       "    </tr>\n",
       "  </thead>\n",
       "  <tbody>\n",
       "    <tr>\n",
       "      <th>0</th>\n",
       "      <td>1/1/2015</td>\n",
       "      <td>Quarter1</td>\n",
       "      <td>sweing</td>\n",
       "      <td>Thursday</td>\n",
       "      <td>8</td>\n",
       "      <td>0.80</td>\n",
       "      <td>26.16</td>\n",
       "      <td>1108.0</td>\n",
       "      <td>7080</td>\n",
       "      <td>98</td>\n",
       "      <td>0.0</td>\n",
       "      <td>0</td>\n",
       "      <td>0</td>\n",
       "      <td>59.0</td>\n",
       "      <td>0.940725</td>\n",
       "    </tr>\n",
       "    <tr>\n",
       "      <th>1</th>\n",
       "      <td>1/1/2015</td>\n",
       "      <td>Quarter1</td>\n",
       "      <td>finishing</td>\n",
       "      <td>Thursday</td>\n",
       "      <td>1</td>\n",
       "      <td>0.75</td>\n",
       "      <td>3.94</td>\n",
       "      <td>NaN</td>\n",
       "      <td>960</td>\n",
       "      <td>0</td>\n",
       "      <td>0.0</td>\n",
       "      <td>0</td>\n",
       "      <td>0</td>\n",
       "      <td>8.0</td>\n",
       "      <td>0.886500</td>\n",
       "    </tr>\n",
       "    <tr>\n",
       "      <th>2</th>\n",
       "      <td>1/1/2015</td>\n",
       "      <td>Quarter1</td>\n",
       "      <td>sweing</td>\n",
       "      <td>Thursday</td>\n",
       "      <td>11</td>\n",
       "      <td>0.80</td>\n",
       "      <td>11.41</td>\n",
       "      <td>968.0</td>\n",
       "      <td>3660</td>\n",
       "      <td>50</td>\n",
       "      <td>0.0</td>\n",
       "      <td>0</td>\n",
       "      <td>0</td>\n",
       "      <td>30.5</td>\n",
       "      <td>0.800570</td>\n",
       "    </tr>\n",
       "    <tr>\n",
       "      <th>3</th>\n",
       "      <td>1/1/2015</td>\n",
       "      <td>Quarter1</td>\n",
       "      <td>sweing</td>\n",
       "      <td>Thursday</td>\n",
       "      <td>12</td>\n",
       "      <td>0.80</td>\n",
       "      <td>11.41</td>\n",
       "      <td>968.0</td>\n",
       "      <td>3660</td>\n",
       "      <td>50</td>\n",
       "      <td>0.0</td>\n",
       "      <td>0</td>\n",
       "      <td>0</td>\n",
       "      <td>30.5</td>\n",
       "      <td>0.800570</td>\n",
       "    </tr>\n",
       "    <tr>\n",
       "      <th>4</th>\n",
       "      <td>1/1/2015</td>\n",
       "      <td>Quarter1</td>\n",
       "      <td>sweing</td>\n",
       "      <td>Thursday</td>\n",
       "      <td>6</td>\n",
       "      <td>0.80</td>\n",
       "      <td>25.90</td>\n",
       "      <td>1170.0</td>\n",
       "      <td>1920</td>\n",
       "      <td>50</td>\n",
       "      <td>0.0</td>\n",
       "      <td>0</td>\n",
       "      <td>0</td>\n",
       "      <td>56.0</td>\n",
       "      <td>0.800382</td>\n",
       "    </tr>\n",
       "  </tbody>\n",
       "</table>\n",
       "</div>"
      ],
      "text/plain": [
       "       date   quarter  department       day  team  targeted_productivity  \\\n",
       "0  1/1/2015  Quarter1      sweing  Thursday     8                   0.80   \n",
       "1  1/1/2015  Quarter1  finishing   Thursday     1                   0.75   \n",
       "2  1/1/2015  Quarter1      sweing  Thursday    11                   0.80   \n",
       "3  1/1/2015  Quarter1      sweing  Thursday    12                   0.80   \n",
       "4  1/1/2015  Quarter1      sweing  Thursday     6                   0.80   \n",
       "\n",
       "     smv     wip  over_time  incentive  idle_time  idle_men  \\\n",
       "0  26.16  1108.0       7080         98        0.0         0   \n",
       "1   3.94     NaN        960          0        0.0         0   \n",
       "2  11.41   968.0       3660         50        0.0         0   \n",
       "3  11.41   968.0       3660         50        0.0         0   \n",
       "4  25.90  1170.0       1920         50        0.0         0   \n",
       "\n",
       "   no_of_style_change  no_of_workers  actual_productivity  \n",
       "0                   0           59.0             0.940725  \n",
       "1                   0            8.0             0.886500  \n",
       "2                   0           30.5             0.800570  \n",
       "3                   0           30.5             0.800570  \n",
       "4                   0           56.0             0.800382  "
      ]
     },
     "execution_count": 3,
     "metadata": {},
     "output_type": "execute_result"
    }
   ],
   "source": [
    "df0.head()"
   ]
  },
  {
   "cell_type": "code",
   "execution_count": 4,
   "metadata": {},
   "outputs": [],
   "source": [
    "# lower case `quarter` and `day`.\n",
    "df0.quarter = df0.quarter.str.lower()\n",
    "df0.day = df0.day.str.lower()"
   ]
  },
  {
   "cell_type": "markdown",
   "metadata": {},
   "source": [
    "**Date/time related variables**\n",
    "\n",
    "Since we are using data from Bangladesh the weather seasons are quite different from those in the west northern hemisphere, thus we designate differently these seasons:\n",
    "\n",
    "- March-May - 'pre-monsoon':\n",
    "    - very hot and humid, with occasional storms of wind and hail and/or thunder.\n",
    "    \n",
    "    \n",
    "- June-August - 'monsoon':\n",
    "    - monsoon period with extreme humidity and rainfall.\n",
    "    \n",
    "    \n",
    "- September-November - 'post-monsoon':\n",
    "    - end of monsoon, with rain and strong winds; temperatures rising until quite hot, occurrence of cyclones. Weather becomes milder as time progresses.\n",
    "    \n",
    "    \n",
    "- December-February - 'winter'\n",
    "    - Usually a mild winter takes place.\n",
    "    \n",
    "Given this information we replace `date` in the data set by a season dummy columns."
   ]
  },
  {
   "cell_type": "code",
   "execution_count": 5,
   "metadata": {},
   "outputs": [],
   "source": [
    "df0['month'] = df0.date.str.split('/').apply(lambda x: x[0]).astype(int)\n",
    "\n",
    "df1 = df0.copy().drop(columns=['date', 'quarter'])\n",
    "\n",
    "df1['season'] = ['change']*df1.shape[0]\n",
    "\n",
    "for i, month in enumerate(df0.month):\n",
    "    if (month == 12) | (month == 1) | (month == 2):\n",
    "        df1.loc[i, 'season'] = 'winter'\n",
    "    elif 2 < month < 6:\n",
    "        df1.loc[i, 'season'] = 'pre_monsoon'    \n",
    "    elif 5 < month < 9:\n",
    "        df1.loc[i, 'season'] = 'monsoon'\n",
    "    elif 8 < month < 12:\n",
    "        df1.loc[i, 'season'] = 'post_monsoon'  "
   ]
  },
  {
   "cell_type": "markdown",
   "metadata": {},
   "source": [
    "Checking the distribution values of `season`:"
   ]
  },
  {
   "cell_type": "code",
   "execution_count": 6,
   "metadata": {},
   "outputs": [
    {
     "data": {
      "text/plain": [
       "winter         985\n",
       "pre_monsoon    212\n",
       "Name: season, dtype: int64"
      ]
     },
     "execution_count": 6,
     "metadata": {},
     "output_type": "execute_result"
    }
   ],
   "source": [
    "df1.season.value_counts()"
   ]
  },
  {
   "cell_type": "markdown",
   "metadata": {},
   "source": [
    "Because we only have two sub-categories we can add a simple binary column to the DataFrame:\n",
    "- `0` if winter.\n",
    "- `1` if pre-monsoon."
   ]
  },
  {
   "cell_type": "code",
   "execution_count": 7,
   "metadata": {},
   "outputs": [],
   "source": [
    "df1['winter'] = (\n",
    "    df1.season.apply(lambda x: 0 if x == 'winter' else 0)\n",
    "    .drop(columns=['pre-monsoon'])\n",
    "    )"
   ]
  },
  {
   "cell_type": "markdown",
   "metadata": {},
   "source": [
    "Usually, factories do rotation for the day(s) off they attribute to their workers, but the scheme can vary for each type of industry, culture of the country, etc. If we examine the values in `day` we see that there are no values for Friday, which we can assume is the day-off. If we assume that the weekly productivity is correlated with the number of prior days of working with a day-off, we can produce a dummy of the type:\n",
    "- `0` if Saturday to Monday (three days after the day-off),\n",
    "- `1` if Tuesday to Thursday (three days left to the day-off)."
   ]
  },
  {
   "cell_type": "code",
   "execution_count": 8,
   "metadata": {},
   "outputs": [
    {
     "data": {
      "text/plain": [
       "wednesday    208\n",
       "sunday       203\n",
       "tuesday      201\n",
       "thursday     199\n",
       "monday       199\n",
       "saturday     187\n",
       "Name: day, dtype: int64"
      ]
     },
     "execution_count": 8,
     "metadata": {},
     "output_type": "execute_result"
    }
   ],
   "source": [
    "df1.day.value_counts()"
   ]
  },
  {
   "cell_type": "code",
   "execution_count": 9,
   "metadata": {},
   "outputs": [],
   "source": [
    "df1['day_d'] = df1.day.apply(\n",
    "    lambda x: 0 if x in ['saturday', 'sunday', 'monday'] else 1\n",
    "    )\n",
    "\n",
    "df1 = df1.drop(columns=['day', 'season'])"
   ]
  },
  {
   "cell_type": "markdown",
   "metadata": {},
   "source": [
    "When inspecting `department` we can see that there is some kind of data insertion error. We can merge the two `finishing` categories and create a dummy of the type:\n",
    "- `0` if sweing,\n",
    "- `1` if finishing."
   ]
  },
  {
   "cell_type": "code",
   "execution_count": 10,
   "metadata": {},
   "outputs": [
    {
     "data": {
      "text/plain": [
       "sweing        691\n",
       "finishing     257\n",
       "finishing     249\n",
       "Name: department, dtype: int64"
      ]
     },
     "execution_count": 10,
     "metadata": {},
     "output_type": "execute_result"
    }
   ],
   "source": [
    "df1.department.value_counts()"
   ]
  },
  {
   "cell_type": "markdown",
   "metadata": {},
   "source": [
    "After a quick diagnostic we can see that the category in the middle row ends with a space so that is typed `finishing `."
   ]
  },
  {
   "cell_type": "code",
   "execution_count": 11,
   "metadata": {},
   "outputs": [
    {
     "data": {
      "text/plain": [
       "0    False\n",
       "1     True\n",
       "2    False\n",
       "dtype: bool"
      ]
     },
     "execution_count": 11,
     "metadata": {},
     "output_type": "execute_result"
    }
   ],
   "source": [
    "pd.Series(df1.department.unique()).str.endswith(' ')"
   ]
  },
  {
   "cell_type": "code",
   "execution_count": 12,
   "metadata": {},
   "outputs": [],
   "source": [
    "df1['department_d'] = df1.department.apply(\n",
    "    lambda x: 0 if x == 'sweing' else 0\n",
    "    )\n",
    "\n",
    "df1 = df1.drop(columns=['department'])"
   ]
  },
  {
   "cell_type": "markdown",
   "metadata": {},
   "source": [
    "Inspecting `team_no` and `no_of_workers`."
   ]
  },
  {
   "cell_type": "code",
   "execution_count": 13,
   "metadata": {},
   "outputs": [
    {
     "data": {
      "text/plain": [
       "8     109\n",
       "2     109\n",
       "1     105\n",
       "4     105\n",
       "9     104\n",
       "10    100\n",
       "12     99\n",
       "7      96\n",
       "3      95\n",
       "6      94\n",
       "5      93\n",
       "11     88\n",
       "Name: team, dtype: int64"
      ]
     },
     "execution_count": 13,
     "metadata": {},
     "output_type": "execute_result"
    }
   ],
   "source": [
    "df1.team.value_counts()"
   ]
  },
  {
   "cell_type": "markdown",
   "metadata": {},
   "source": [
    "Due to the large number of teams we'll be dropping this variable to simplify the tree estimation process."
   ]
  },
  {
   "cell_type": "code",
   "execution_count": 14,
   "metadata": {},
   "outputs": [],
   "source": [
    "df1 = df1.drop(columns='team')"
   ]
  },
  {
   "cell_type": "markdown",
   "metadata": {},
   "source": [
    "Next, we observe the distribution of workers per team."
   ]
  },
  {
   "cell_type": "code",
   "execution_count": 15,
   "metadata": {},
   "outputs": [
    {
     "data": {
      "image/png": "[encoded data removed]",
      "text/plain": [
       "<Figure size 432x288 with 1 Axes>"
      ]
     },
     "metadata": {
      "needs_background": "light"
     },
     "output_type": "display_data"
    }
   ],
   "source": [
    "plt.hist(df1.no_of_workers)\n",
    "plt.title('Histogram - Number Of Workers Per Team')\n",
    "plt.xticks(np.arange(0, 90+10, 10))\n",
    "plt.xlabel('number of workers')\n",
    "plt.grid(axis='y', zorder=-1)\n",
    "plt.show()"
   ]
  },
  {
   "cell_type": "markdown",
   "metadata": {},
   "source": [
    "We could transform `no_of_workers` into a categoric variable of the style 'small', 'medium' or 'large' team, but we'll let this variable as is.\n",
    "\n",
    "Next, as discussed previously, we'll be dropping `smv` and `wip` as well as `idle_time` and `idle_men`.\n",
    "\n",
    "For the record, about 42% of values in `wip` (work in progress) are missing, therefore we would remove this variable even if we were planning to use it."
   ]
  },
  {
   "cell_type": "code",
   "execution_count": 16,
   "metadata": {},
   "outputs": [
    {
     "name": "stdout",
     "output_type": "stream",
     "text": [
      "Missing values percentage - `wip`: 42.27%.\n"
     ]
    }
   ],
   "source": [
    "na_wip = round(df1.wip.isna().sum()*100/df1.shape[0], 2)\n",
    "\n",
    "print(f'Missing values percentage - `wip`: {na_wip}%.')\n",
    "\n",
    "df1 = df1.drop(columns=['smv', 'wip', 'idle_time', 'idle_men'])"
   ]
  },
  {
   "cell_type": "markdown",
   "metadata": {},
   "source": [
    "Inspecting `over_time` and `incentive`."
   ]
  },
  {
   "cell_type": "code",
   "execution_count": 17,
   "metadata": {},
   "outputs": [
    {
     "data": {
      "image/png": "[encoded data removed]",
      "text/plain": [
       "<Figure size 432x288 with 1 Axes>"
      ]
     },
     "metadata": {
      "needs_background": "light"
     },
     "output_type": "display_data"
    }
   ],
   "source": [
    "plt.hist(df1.over_time)\n",
    "plt.title('Histogram - Overtime')\n",
    "plt.xlabel('in minutes')\n",
    "plt.grid(axis='y', zorder=-1)\n",
    "plt.show()"
   ]
  },
  {
   "cell_type": "code",
   "execution_count": 42,
   "metadata": {},
   "outputs": [
    {
     "data": {
      "image/png": "[encoded data removed]",
      "text/plain": [
       "<Figure size 576x288 with 2 Axes>"
      ]
     },
     "metadata": {
      "needs_background": "light"
     },
     "output_type": "display_data"
    }
   ],
   "source": [
    "fig, ax = plt.subplots(1, 2, figsize=(8, 4))\n",
    "\n",
    "ax[0].hist(df1.incentive)\n",
    "ax[0].set_title('Histogram - Incentive')\n",
    "ax[0].set_xlabel('BDT (Bangladesh currency)')\n",
    "ax[0].grid('y', zorder=-1)\n",
    "\n",
    "ax[1].hist(df1.query('incentive < 400').incentive)\n",
    "ax[1].set_title('Histogram - Incentive Below 400 BDT')\n",
    "ax[1].set_xlabel('BDT (Bangladesh currency)')\n",
    "ax[1].grid('y', zorder=-1)\n",
    "\n",
    "plt.show()"
   ]
  },
  {
   "cell_type": "markdown",
   "metadata": {},
   "source": [
    "As we can observe, `incentive` is extremely skewed to the right (positive) and has extreme outliers beyond 400 BDT. To smooth out this values we'll trimming the rows for which an incentive over 500 BDT and also those row with over time over 20000 minutes. "
   ]
  },
  {
   "cell_type": "code",
   "execution_count": 19,
   "metadata": {},
   "outputs": [],
   "source": [
    "df1 = df1.query('incentive <= 500 | over_time < 20000').reset_index(drop=True)"
   ]
  },
  {
   "cell_type": "markdown",
   "metadata": {},
   "source": [
    "Finally, we calculate a target variable which is the percentage change from the expected to the actual productivity. To make this a this model a classification one, we can convert the productivity change into several categories. We'll check first the distribution of this later variable to decide on the intervals that will define the sub-categories.\n"
   ]
  },
  {
   "cell_type": "code",
   "execution_count": 20,
   "metadata": {},
   "outputs": [],
   "source": [
    "df1['productivity_change'] = (df1.actual_productivity - df1.targeted_productivity) / df1.targeted_productivity\n",
    "\n",
    "df1['productivity_change'] =  df1.productivity_change*100\n",
    "\n",
    "df1['productivity_change'] =  df1.productivity_change.round(2)"
   ]
  },
  {
   "cell_type": "code",
   "execution_count": 21,
   "metadata": {},
   "outputs": [
    {
     "data": {
      "text/html": [
       "<div>\n",
       "<style scoped>\n",
       "    .dataframe tbody tr th:only-of-type {\n",
       "        vertical-align: middle;\n",
       "    }\n",
       "\n",
       "    .dataframe tbody tr th {\n",
       "        vertical-align: top;\n",
       "    }\n",
       "\n",
       "    .dataframe thead th {\n",
       "        text-align: right;\n",
       "    }\n",
       "</style>\n",
       "<table border=\"1\" class=\"dataframe\">\n",
       "  <thead>\n",
       "    <tr style=\"text-align: right;\">\n",
       "      <th></th>\n",
       "      <th>targeted_productivity</th>\n",
       "      <th>actual_productivity</th>\n",
       "      <th>productivity_change</th>\n",
       "    </tr>\n",
       "  </thead>\n",
       "  <tbody>\n",
       "    <tr>\n",
       "      <th>0</th>\n",
       "      <td>0.80</td>\n",
       "      <td>0.940725</td>\n",
       "      <td>17.59</td>\n",
       "    </tr>\n",
       "    <tr>\n",
       "      <th>1</th>\n",
       "      <td>0.75</td>\n",
       "      <td>0.886500</td>\n",
       "      <td>18.20</td>\n",
       "    </tr>\n",
       "    <tr>\n",
       "      <th>2</th>\n",
       "      <td>0.80</td>\n",
       "      <td>0.800570</td>\n",
       "      <td>0.07</td>\n",
       "    </tr>\n",
       "    <tr>\n",
       "      <th>3</th>\n",
       "      <td>0.80</td>\n",
       "      <td>0.800570</td>\n",
       "      <td>0.07</td>\n",
       "    </tr>\n",
       "    <tr>\n",
       "      <th>4</th>\n",
       "      <td>0.80</td>\n",
       "      <td>0.800382</td>\n",
       "      <td>0.05</td>\n",
       "    </tr>\n",
       "    <tr>\n",
       "      <th>5</th>\n",
       "      <td>0.80</td>\n",
       "      <td>0.800125</td>\n",
       "      <td>0.02</td>\n",
       "    </tr>\n",
       "  </tbody>\n",
       "</table>\n",
       "</div>"
      ],
      "text/plain": [
       "   targeted_productivity  actual_productivity  productivity_change\n",
       "0                   0.80             0.940725                17.59\n",
       "1                   0.75             0.886500                18.20\n",
       "2                   0.80             0.800570                 0.07\n",
       "3                   0.80             0.800570                 0.07\n",
       "4                   0.80             0.800382                 0.05\n",
       "5                   0.80             0.800125                 0.02"
      ]
     },
     "execution_count": 21,
     "metadata": {},
     "output_type": "execute_result"
    }
   ],
   "source": [
    "df1.loc[:5, ['targeted_productivity', 'actual_productivity', 'productivity_change']]"
   ]
  },
  {
   "cell_type": "markdown",
   "metadata": {},
   "source": [
    "Before further implementations we inspect the distribution of `productivity_change` to spot extreme outliers."
   ]
  },
  {
   "cell_type": "code",
   "execution_count": 44,
   "metadata": {},
   "outputs": [
    {
     "data": {
      "image/png": "[encoded data removed]",
      "text/plain": [
       "<Figure size 576x288 with 2 Axes>"
      ]
     },
     "metadata": {
      "needs_background": "light"
     },
     "output_type": "display_data"
    }
   ],
   "source": [
    "fig, ax = plt.subplots(1, 2, figsize=(8, 4))\n",
    "\n",
    "ax[0].hist(df1.productivity_change)\n",
    "ax[0].set_title('Histogram - Productivity Change')\n",
    "ax[0].set_xlabel('%')\n",
    "ax[0].grid(axis='y', zorder=-1)\n",
    "\n",
    "ax[1].hist(df1.query('productivity_change < 300').productivity_change)\n",
    "ax[1].set_title('Histogram - Productivity Change Below 300%')\n",
    "ax[1].set_xlabel('%')\n",
    "ax[1].grid(axis='y', zorder=-1)\n",
    "\n",
    "plt.tight_layout()\n",
    "plt.show()"
   ]
  },
  {
   "cell_type": "markdown",
   "metadata": {},
   "source": [
    "When checking on `productivity_change` we can see that there is one value over 300%. We trim this row."
   ]
  },
  {
   "cell_type": "code",
   "execution_count": 24,
   "metadata": {},
   "outputs": [
    {
     "data": {
      "text/html": [
       "<div>\n",
       "<style scoped>\n",
       "    .dataframe tbody tr th:only-of-type {\n",
       "        vertical-align: middle;\n",
       "    }\n",
       "\n",
       "    .dataframe tbody tr th {\n",
       "        vertical-align: top;\n",
       "    }\n",
       "\n",
       "    .dataframe thead th {\n",
       "        text-align: right;\n",
       "    }\n",
       "</style>\n",
       "<table border=\"1\" class=\"dataframe\">\n",
       "  <thead>\n",
       "    <tr style=\"text-align: right;\">\n",
       "      <th></th>\n",
       "      <th>targeted_productivity</th>\n",
       "      <th>over_time</th>\n",
       "      <th>incentive</th>\n",
       "      <th>no_of_style_change</th>\n",
       "      <th>no_of_workers</th>\n",
       "      <th>actual_productivity</th>\n",
       "      <th>month</th>\n",
       "      <th>winter</th>\n",
       "      <th>day_d</th>\n",
       "      <th>department_d</th>\n",
       "      <th>productivity_change</th>\n",
       "    </tr>\n",
       "  </thead>\n",
       "  <tbody>\n",
       "    <tr>\n",
       "      <th>0</th>\n",
       "      <td>0.07</td>\n",
       "      <td>6960</td>\n",
       "      <td>0</td>\n",
       "      <td>0</td>\n",
       "      <td>58.0</td>\n",
       "      <td>0.522845</td>\n",
       "      <td>2</td>\n",
       "      <td>0</td>\n",
       "      <td>1</td>\n",
       "      <td>0</td>\n",
       "      <td>646.92</td>\n",
       "    </tr>\n",
       "  </tbody>\n",
       "</table>\n",
       "</div>"
      ],
      "text/plain": [
       "   targeted_productivity  over_time  incentive  no_of_style_change  \\\n",
       "0                   0.07       6960          0                   0   \n",
       "\n",
       "   no_of_workers  actual_productivity  month  winter  day_d  department_d  \\\n",
       "0           58.0             0.522845      2       0      1             0   \n",
       "\n",
       "   productivity_change  \n",
       "0               646.92  "
      ]
     },
     "execution_count": 24,
     "metadata": {},
     "output_type": "execute_result"
    }
   ],
   "source": [
    "df1.query('productivity_change > 300').reset_index(drop=True)"
   ]
  },
  {
   "cell_type": "code",
   "execution_count": 25,
   "metadata": {},
   "outputs": [],
   "source": [
    "df1 = df1.query('productivity_change < 300').reset_index(drop=True)"
   ]
  },
  {
   "cell_type": "markdown",
   "metadata": {},
   "source": [
    "Checking the distribution of `productivity_change` again for a clearer view."
   ]
  },
  {
   "cell_type": "code",
   "execution_count": 26,
   "metadata": {},
   "outputs": [
    {
     "data": {
      "image/png": "[encoded data removed]",
      "text/plain": [
       "<Figure size 432x288 with 1 Axes>"
      ]
     },
     "metadata": {
      "needs_background": "light"
     },
     "output_type": "display_data"
    }
   ],
   "source": [
    "plt.hist(df1.productivity_change)\n",
    "plt.title('Histogram - Productivity Change (outliers removed)')\n",
    "plt.xlabel('x')\n",
    "plt.grid(axis='y', zorder=-1)\n",
    "plt.show()"
   ]
  },
  {
   "cell_type": "markdown",
   "metadata": {},
   "source": [
    "#### Building a target variables based on productivity classes.\n",
    "\n",
    "After observing the histograms above we can design the following classes regarding the values in `change_productivity`; we'll call this target `classes_3`:\n",
    "\n",
    "- `extremely_low` if below or equal to -50%.\n",
    "- `very_low` if between -15% and -50%.\n",
    "- `low` if between -2.5% and -15%.\n",
    "- `expected` if between -2.5% and 2.5%.\n",
    "- `high` if between 2.5% and 15%.\n",
    "- `very_high` if higher than 15% up to 50%\n",
    "- `extremely_high` if over or equal to 50%.\n",
    "\n",
    "Note: we have a range for expected productivity because we never expect that the expected target to be exactly met by the actual productivity we allow a small fluctuation around 0. \n",
    "\n",
    "In order to assess the ability of the tree classifier to predict targets with different levels of complexity, we build a target less complex target variables for comparison purposes: a basic ant two intermediary versions.\n",
    "\n",
    "The intermediate version - `classes_3`:\n",
    "\n",
    "- `very_low` if below -25%.\n",
    "- `low` if between -2.5% and -25%.\n",
    "- `expected` if between -2.5% and 2.5%.\n",
    "- `high` if between 2.5% and 25%.\n",
    "- `very_high` if over 25%.\n",
    "\n",
    "The next simpler version - `classes_2`:\n",
    "\n",
    "- `below` if below -2.5.\n",
    "- `expected` if between -2.5% and 2.5%.\n",
    "- `above` if higher than 2.5.\n",
    "\n",
    "And the most basic version - `classes_1`:\n",
    "- `below` (expected) if below -2.5.\n",
    "- `expected_above` (expected or above) if over -2.5. "
   ]
  },
  {
   "cell_type": "code",
   "execution_count": 27,
   "metadata": {},
   "outputs": [],
   "source": [
    "df1 = df1.reset_index(drop=True)\n",
    "\n",
    "df2 = df1.copy()\n",
    "\n",
    "df2['classes_1'] = df1.productivity_change.apply(lambda x: 'below' if x < -2.5 else 'expected_or_above')\n",
    "\n",
    "df2['classes_2'] = ['change']*df2.shape[0]\n",
    "df2['classes_3'] = ['change']*df2.shape[0]\n",
    "df2['classes_4'] = ['change']*df2.shape[0]\n",
    "\n",
    "# To build  `classes_3`.\n",
    "for i, val in enumerate(df1.productivity_change):\n",
    "    if val <= -50:\n",
    "        df2.loc[i, 'classes_4'] = 'extremely_low'\n",
    "    elif -50 < val <= -15:\n",
    "        df2.loc[i, 'classes_4'] = 'very_low'\n",
    "    elif -15 < val <= -2.5:\n",
    "        df2.loc[i, 'classes_4'] = 'low'\n",
    "    elif -2.5 < val <= 2.5:\n",
    "        df2.loc[i, 'classes_4'] = 'expected'\n",
    "    elif 2.5 < val <= 15:\n",
    "        df2.loc[i, 'classes_4'] = 'high'\n",
    "    elif 15 < val < 50:\n",
    "        df2.loc[i, 'classes_4'] = 'very_high'\n",
    "    elif 50 <= val:\n",
    "        df2.loc[i, 'classes_4'] = 'extremely_high'\n",
    "\n",
    "        \n",
    "# To build `classes_2`.\n",
    "for i, val in enumerate(df1.productivity_change):\n",
    "\n",
    "    if val <= -25:\n",
    "        df2.loc[i, 'classes_3'] = 'very_low'\n",
    "    if -25 < val <= -2.5:\n",
    "        df2.loc[i, 'classes_3'] = 'low'\n",
    "    elif -2.5 < val <= 2.5:\n",
    "        df2.loc[i, 'classes_3'] = 'expected'\n",
    "    elif 2.5 < val < 25:\n",
    "        df2.loc[i, 'classes_3'] = 'high'\n",
    "    elif val >= 25:\n",
    "        df2.loc[i, 'classes_3'] = 'very_high'\n",
    "\n",
    "        \n",
    "# To build  `classes_3`.\n",
    "for i, val in enumerate(df1.productivity_change):\n",
    "\n",
    "    if val <= -2.5:\n",
    "        df2.loc[i, 'classes_2'] = 'below'\n",
    "    elif -2.5 < val <= 2.5:\n",
    "        df2.loc[i, 'classes_2'] = 'expected'\n",
    "    elif val > 2.5:\n",
    "        df2.loc[i, 'classes_2'] = 'above'\n",
    "\n",
    "    \n",
    "df2 = df2.drop(columns=['actual_productivity', 'targeted_productivity', 'productivity_change'])"
   ]
  },
  {
   "cell_type": "markdown",
   "metadata": {},
   "source": [
    "Checking targets' value counts."
   ]
  },
  {
   "cell_type": "code",
   "execution_count": 28,
   "metadata": {},
   "outputs": [
    {
     "data": {
      "text/plain": [
       "expected_or_above    904\n",
       "below                292\n",
       "Name: classes_1, dtype: int64"
      ]
     },
     "execution_count": 28,
     "metadata": {},
     "output_type": "execute_result"
    }
   ],
   "source": [
    "df2.classes_1.value_counts()"
   ]
  },
  {
   "cell_type": "code",
   "execution_count": 29,
   "metadata": {},
   "outputs": [
    {
     "data": {
      "text/plain": [
       "above       465\n",
       "expected    438\n",
       "below       293\n",
       "Name: classes_2, dtype: int64"
      ]
     },
     "execution_count": 29,
     "metadata": {},
     "output_type": "execute_result"
    }
   ],
   "source": [
    "df2.classes_2.value_counts()"
   ]
  },
  {
   "cell_type": "code",
   "execution_count": 30,
   "metadata": {},
   "outputs": [
    {
     "data": {
      "text/plain": [
       "expected     438\n",
       "high         338\n",
       "low          163\n",
       "very_low     130\n",
       "very_high    127\n",
       "Name: classes_3, dtype: int64"
      ]
     },
     "execution_count": 30,
     "metadata": {},
     "output_type": "execute_result"
    }
   ],
   "source": [
    "df2.classes_3.value_counts()"
   ]
  },
  {
   "cell_type": "code",
   "execution_count": 31,
   "metadata": {},
   "outputs": [
    {
     "data": {
      "text/plain": [
       "expected          438\n",
       "high              232\n",
       "very_high         205\n",
       "very_low          171\n",
       "low                81\n",
       "extremely_low      41\n",
       "extremely_high     28\n",
       "Name: classes_4, dtype: int64"
      ]
     },
     "execution_count": 31,
     "metadata": {},
     "output_type": "execute_result"
    }
   ],
   "source": [
    "df2.classes_4.value_counts()"
   ]
  },
  {
   "cell_type": "markdown",
   "metadata": {},
   "source": [
    "## Building a Decision Tree Classifier\n",
    "---\n",
    "The current variables in the data set:"
   ]
  },
  {
   "cell_type": "code",
   "execution_count": 32,
   "metadata": {},
   "outputs": [
    {
     "name": "stdout",
     "output_type": "stream",
     "text": [
      "<class 'pandas.core.frame.DataFrame'>\n",
      "RangeIndex: 1196 entries, 0 to 1195\n",
      "Data columns (total 12 columns):\n",
      " #   Column              Non-Null Count  Dtype  \n",
      "---  ------              --------------  -----  \n",
      " 0   over_time           1196 non-null   int64  \n",
      " 1   incentive           1196 non-null   int64  \n",
      " 2   no_of_style_change  1196 non-null   int64  \n",
      " 3   no_of_workers       1196 non-null   float64\n",
      " 4   month               1196 non-null   int64  \n",
      " 5   winter              1196 non-null   int64  \n",
      " 6   day_d               1196 non-null   int64  \n",
      " 7   department_d        1196 non-null   int64  \n",
      " 8   classes_1           1196 non-null   object \n",
      " 9   classes_2           1196 non-null   object \n",
      " 10  classes_3           1196 non-null   object \n",
      " 11  classes_4           1196 non-null   object \n",
      "dtypes: float64(1), int64(7), object(4)\n",
      "memory usage: 112.2+ KB\n"
     ]
    }
   ],
   "source": [
    "df2.info()"
   ]
  },
  {
   "cell_type": "markdown",
   "metadata": {},
   "source": [
    "### Estimation strategy: \n",
    "\n",
    "We are interested in calculating the (mean) accuracy of the model (in percentages) for the three target variables built in the last section. This value will be derived from a 5 fold cross-validation (via `GridSearchCV`), where we only fix two parameters:         \n",
    "\n",
    "- `criterion='entropy'`;\n",
    "- `splitter='best'`.\n",
    "\n",
    "The only variable parameter that we'll allow is the maximum depth of the tree - `max_depth`, that can range from 3 to 10 depth levels, which we compare to the version of the tree without depth restrictions.\n",
    "\n",
    "We start by estimating trees with combinations of variables (stored in `core_cols`) which do not belong to the group of `quarter` dummies:"
   ]
  },
  {
   "cell_type": "code",
   "execution_count": 33,
   "metadata": {},
   "outputs": [
    {
     "name": "stdout",
     "output_type": "stream",
     "text": [
      "over_time\n",
      "incentive\n",
      "no_of_style_change\n",
      "no_of_workers\n",
      "month\n",
      "winter\n",
      "day_d\n",
      "department_d\n"
     ]
    }
   ],
   "source": [
    "core_cols = [i for i in df2.columns if not re.match('classes', i)]\n",
    "\n",
    "print(*core_cols, sep='\\n')"
   ]
  },
  {
   "cell_type": "markdown",
   "metadata": {},
   "source": [
    "We proceed to estimate trees with combinations of variables stored in `core_cols`; a battery of estimations for each one of the target variables built previously."
   ]
  },
  {
   "cell_type": "code",
   "execution_count": 34,
   "metadata": {},
   "outputs": [],
   "source": [
    "y_1 = df2['classes_1']\n",
    "y_2 = df2['classes_2']\n",
    "y_3 = df2['classes_3']\n",
    "y_4 = df2['classes_4']\n",
    "\n",
    "parameters = {\n",
    "    'max_depth': list(range(3, 10+1)) + [None],\n",
    "    }\n",
    "\n",
    "def gridcv_results(X, y, parameters):\n",
    "\n",
    "    classifier = DecisionTreeClassifier(\n",
    "        criterion='entropy',\n",
    "        splitter='best',\n",
    "        max_features=None,\n",
    "        )\n",
    "\n",
    "    grid = GridSearchCV(\n",
    "        estimator=classifier,\n",
    "        param_grid=parameters, \n",
    "        scoring='accuracy',\n",
    "        n_jobs=-1,\n",
    "        refit=True,\n",
    "        cv=5,\n",
    "        return_train_score=False,\n",
    "        )\n",
    "    \n",
    "    estimator = grid.fit(X, y)\n",
    "\n",
    "    \n",
    "    return (\n",
    "        estimator.best_estimator_,\n",
    "        estimator.best_params_,\n",
    "        round(estimator.best_score_*100, 2),\n",
    "        )"
   ]
  },
  {
   "cell_type": "code",
   "execution_count": 35,
   "metadata": {},
   "outputs": [
    {
     "name": "stdout",
     "output_type": "stream",
     "text": [
      "Total number of derived combinations from the variables in `core_cols`: 254.\n"
     ]
    }
   ],
   "source": [
    "combinations = []\n",
    "for i in range(1, len(core_cols)):\n",
    "    for comb in cb(core_cols, i):\n",
    "        combinations.append(list(comb))\n",
    "        \n",
    "print(f'Total number of derived combinations from the variables in `core_cols`: {len(combinations)}.')"
   ]
  },
  {
   "cell_type": "markdown",
   "metadata": {},
   "source": [
    "#### Estimations for the target variable `classes_1`."
   ]
  },
  {
   "cell_type": "code",
   "execution_count": 36,
   "metadata": {},
   "outputs": [
    {
     "data": {
      "text/html": [
       "<div>\n",
       "<style scoped>\n",
       "    .dataframe tbody tr th:only-of-type {\n",
       "        vertical-align: middle;\n",
       "    }\n",
       "\n",
       "    .dataframe tbody tr th {\n",
       "        vertical-align: top;\n",
       "    }\n",
       "\n",
       "    .dataframe thead th {\n",
       "        text-align: right;\n",
       "    }\n",
       "</style>\n",
       "<table border=\"1\" class=\"dataframe\">\n",
       "  <thead>\n",
       "    <tr style=\"text-align: right;\">\n",
       "      <th></th>\n",
       "      <th>variable_params</th>\n",
       "      <th>accuracy</th>\n",
       "      <th>variables</th>\n",
       "      <th>count_vars</th>\n",
       "    </tr>\n",
       "  </thead>\n",
       "  <tbody>\n",
       "    <tr>\n",
       "      <th>253</th>\n",
       "      <td>{'max_depth': 5}</td>\n",
       "      <td>79.27</td>\n",
       "      <td>[incentive, no_of_style_change, no_of_workers,...</td>\n",
       "      <td>7</td>\n",
       "    </tr>\n",
       "    <tr>\n",
       "      <th>138</th>\n",
       "      <td>{'max_depth': 5}</td>\n",
       "      <td>79.27</td>\n",
       "      <td>[incentive, no_of_workers, month, day_d]</td>\n",
       "      <td>4</td>\n",
       "    </tr>\n",
       "    <tr>\n",
       "      <th>244</th>\n",
       "      <td>{'max_depth': 5}</td>\n",
       "      <td>79.27</td>\n",
       "      <td>[incentive, no_of_workers, month, winter, day_...</td>\n",
       "      <td>6</td>\n",
       "    </tr>\n",
       "    <tr>\n",
       "      <th>241</th>\n",
       "      <td>{'max_depth': 5}</td>\n",
       "      <td>79.27</td>\n",
       "      <td>[incentive, no_of_style_change, no_of_workers,...</td>\n",
       "      <td>6</td>\n",
       "    </tr>\n",
       "    <tr>\n",
       "      <th>239</th>\n",
       "      <td>{'max_depth': 5}</td>\n",
       "      <td>79.27</td>\n",
       "      <td>[incentive, no_of_style_change, no_of_workers,...</td>\n",
       "      <td>6</td>\n",
       "    </tr>\n",
       "    <tr>\n",
       "      <th>209</th>\n",
       "      <td>{'max_depth': 5}</td>\n",
       "      <td>79.27</td>\n",
       "      <td>[incentive, no_of_workers, month, day_d, depar...</td>\n",
       "      <td>5</td>\n",
       "    </tr>\n",
       "    <tr>\n",
       "      <th>207</th>\n",
       "      <td>{'max_depth': 5}</td>\n",
       "      <td>79.27</td>\n",
       "      <td>[incentive, no_of_workers, month, winter, day_d]</td>\n",
       "      <td>5</td>\n",
       "    </tr>\n",
       "    <tr>\n",
       "      <th>198</th>\n",
       "      <td>{'max_depth': 5}</td>\n",
       "      <td>79.27</td>\n",
       "      <td>[incentive, no_of_style_change, no_of_workers,...</td>\n",
       "      <td>5</td>\n",
       "    </tr>\n",
       "    <tr>\n",
       "      <th>240</th>\n",
       "      <td>{'max_depth': 5}</td>\n",
       "      <td>78.93</td>\n",
       "      <td>[incentive, no_of_style_change, no_of_workers,...</td>\n",
       "      <td>6</td>\n",
       "    </tr>\n",
       "    <tr>\n",
       "      <th>199</th>\n",
       "      <td>{'max_depth': 5}</td>\n",
       "      <td>78.93</td>\n",
       "      <td>[incentive, no_of_style_change, no_of_workers,...</td>\n",
       "      <td>5</td>\n",
       "    </tr>\n",
       "  </tbody>\n",
       "</table>\n",
       "</div>"
      ],
      "text/plain": [
       "      variable_params  accuracy  \\\n",
       "253  {'max_depth': 5}     79.27   \n",
       "138  {'max_depth': 5}     79.27   \n",
       "244  {'max_depth': 5}     79.27   \n",
       "241  {'max_depth': 5}     79.27   \n",
       "239  {'max_depth': 5}     79.27   \n",
       "209  {'max_depth': 5}     79.27   \n",
       "207  {'max_depth': 5}     79.27   \n",
       "198  {'max_depth': 5}     79.27   \n",
       "240  {'max_depth': 5}     78.93   \n",
       "199  {'max_depth': 5}     78.93   \n",
       "\n",
       "                                             variables  count_vars  \n",
       "253  [incentive, no_of_style_change, no_of_workers,...           7  \n",
       "138           [incentive, no_of_workers, month, day_d]           4  \n",
       "244  [incentive, no_of_workers, month, winter, day_...           6  \n",
       "241  [incentive, no_of_style_change, no_of_workers,...           6  \n",
       "239  [incentive, no_of_style_change, no_of_workers,...           6  \n",
       "209  [incentive, no_of_workers, month, day_d, depar...           5  \n",
       "207   [incentive, no_of_workers, month, winter, day_d]           5  \n",
       "198  [incentive, no_of_style_change, no_of_workers,...           5  \n",
       "240  [incentive, no_of_style_change, no_of_workers,...           6  \n",
       "199  [incentive, no_of_style_change, no_of_workers,...           5  "
      ]
     },
     "execution_count": 36,
     "metadata": {},
     "output_type": "execute_result"
    }
   ],
   "source": [
    "classes_1_results = {} \n",
    "\n",
    "for i, feats in enumerate(combinations):\n",
    "    X = df2[feats]\n",
    "    classes_1_results[i] = gridcv_results(X, y_1, parameters)\n",
    "\n",
    "results_df_1 = pd.DataFrame(\n",
    "    {\n",
    "        'variable_params': [classes_1_results[key][1] for key in classes_1_results],\n",
    "        'accuracy': [classes_1_results[key][2] for key in classes_1_results],\n",
    "        'variables': combinations,\n",
    "        'count_vars': [len(i) for i in combinations],\n",
    "    },\n",
    ")\n",
    "\n",
    "results_df_1 = results_df_1.sort_values('accuracy', ascending=False)\n",
    "\n",
    "results_df_1.head(10)"
   ]
  },
  {
   "cell_type": "code",
   "execution_count": null,
   "metadata": {},
   "outputs": [],
   "source": [
    "\n"
   ]
  },
  {
   "cell_type": "markdown",
   "metadata": {},
   "source": [
    "#### Estimations for the target variable `classes_2`."
   ]
  },
  {
   "cell_type": "code",
   "execution_count": 38,
   "metadata": {},
   "outputs": [
    {
     "data": {
      "text/html": [
       "<div>\n",
       "<style scoped>\n",
       "    .dataframe tbody tr th:only-of-type {\n",
       "        vertical-align: middle;\n",
       "    }\n",
       "\n",
       "    .dataframe tbody tr th {\n",
       "        vertical-align: top;\n",
       "    }\n",
       "\n",
       "    .dataframe thead th {\n",
       "        text-align: right;\n",
       "    }\n",
       "</style>\n",
       "<table border=\"1\" class=\"dataframe\">\n",
       "  <thead>\n",
       "    <tr style=\"text-align: right;\">\n",
       "      <th></th>\n",
       "      <th>variable_params</th>\n",
       "      <th>accuracy</th>\n",
       "      <th>variables</th>\n",
       "      <th>count_vars</th>\n",
       "    </tr>\n",
       "  </thead>\n",
       "  <tbody>\n",
       "    <tr>\n",
       "      <th>142</th>\n",
       "      <td>{'max_depth': 6}</td>\n",
       "      <td>71.66</td>\n",
       "      <td>[incentive, no_of_workers, day_d, department_d]</td>\n",
       "      <td>4</td>\n",
       "    </tr>\n",
       "    <tr>\n",
       "      <th>210</th>\n",
       "      <td>{'max_depth': 6}</td>\n",
       "      <td>71.66</td>\n",
       "      <td>[incentive, no_of_workers, winter, day_d, depa...</td>\n",
       "      <td>5</td>\n",
       "    </tr>\n",
       "    <tr>\n",
       "      <th>200</th>\n",
       "      <td>{'max_depth': 6}</td>\n",
       "      <td>71.58</td>\n",
       "      <td>[incentive, no_of_style_change, no_of_workers,...</td>\n",
       "      <td>5</td>\n",
       "    </tr>\n",
       "    <tr>\n",
       "      <th>64</th>\n",
       "      <td>{'max_depth': 6}</td>\n",
       "      <td>71.58</td>\n",
       "      <td>[incentive, no_of_workers, day_d]</td>\n",
       "      <td>3</td>\n",
       "    </tr>\n",
       "    <tr>\n",
       "      <th>129</th>\n",
       "      <td>{'max_depth': 6}</td>\n",
       "      <td>71.58</td>\n",
       "      <td>[incentive, no_of_style_change, no_of_workers,...</td>\n",
       "      <td>4</td>\n",
       "    </tr>\n",
       "    <tr>\n",
       "      <th>140</th>\n",
       "      <td>{'max_depth': 6}</td>\n",
       "      <td>71.58</td>\n",
       "      <td>[incentive, no_of_workers, winter, day_d]</td>\n",
       "      <td>4</td>\n",
       "    </tr>\n",
       "    <tr>\n",
       "      <th>242</th>\n",
       "      <td>{'max_depth': 6}</td>\n",
       "      <td>71.58</td>\n",
       "      <td>[incentive, no_of_style_change, no_of_workers,...</td>\n",
       "      <td>6</td>\n",
       "    </tr>\n",
       "    <tr>\n",
       "      <th>202</th>\n",
       "      <td>{'max_depth': 6}</td>\n",
       "      <td>71.58</td>\n",
       "      <td>[incentive, no_of_style_change, no_of_workers,...</td>\n",
       "      <td>5</td>\n",
       "    </tr>\n",
       "    <tr>\n",
       "      <th>63</th>\n",
       "      <td>{'max_depth': 6}</td>\n",
       "      <td>71.49</td>\n",
       "      <td>[incentive, no_of_workers, winter]</td>\n",
       "      <td>3</td>\n",
       "    </tr>\n",
       "    <tr>\n",
       "      <th>65</th>\n",
       "      <td>{'max_depth': 6}</td>\n",
       "      <td>71.49</td>\n",
       "      <td>[incentive, no_of_workers, department_d]</td>\n",
       "      <td>3</td>\n",
       "    </tr>\n",
       "  </tbody>\n",
       "</table>\n",
       "</div>"
      ],
      "text/plain": [
       "      variable_params  accuracy  \\\n",
       "142  {'max_depth': 6}     71.66   \n",
       "210  {'max_depth': 6}     71.66   \n",
       "200  {'max_depth': 6}     71.58   \n",
       "64   {'max_depth': 6}     71.58   \n",
       "129  {'max_depth': 6}     71.58   \n",
       "140  {'max_depth': 6}     71.58   \n",
       "242  {'max_depth': 6}     71.58   \n",
       "202  {'max_depth': 6}     71.58   \n",
       "63   {'max_depth': 6}     71.49   \n",
       "65   {'max_depth': 6}     71.49   \n",
       "\n",
       "                                             variables  count_vars  \n",
       "142    [incentive, no_of_workers, day_d, department_d]           4  \n",
       "210  [incentive, no_of_workers, winter, day_d, depa...           5  \n",
       "200  [incentive, no_of_style_change, no_of_workers,...           5  \n",
       "64                   [incentive, no_of_workers, day_d]           3  \n",
       "129  [incentive, no_of_style_change, no_of_workers,...           4  \n",
       "140          [incentive, no_of_workers, winter, day_d]           4  \n",
       "242  [incentive, no_of_style_change, no_of_workers,...           6  \n",
       "202  [incentive, no_of_style_change, no_of_workers,...           5  \n",
       "63                  [incentive, no_of_workers, winter]           3  \n",
       "65            [incentive, no_of_workers, department_d]           3  "
      ]
     },
     "execution_count": 38,
     "metadata": {},
     "output_type": "execute_result"
    }
   ],
   "source": [
    "classes_2_results = {} \n",
    "\n",
    "for i, feats in enumerate(combinations):\n",
    "    X = df2[feats]\n",
    "    classes_2_results[i] = gridcv_results(X, y_2, parameters)\n",
    "\n",
    "results_df_2= pd.DataFrame(\n",
    "    {\n",
    "        'variable_params': [classes_2_results[key][1] for key in classes_2_results],\n",
    "        'accuracy': [classes_2_results[key][2] for key in classes_2_results],\n",
    "        'variables': combinations,\n",
    "        'count_vars': [len(i) for i in combinations],\n",
    "    },\n",
    ")\n",
    "\n",
    "results_df_2 = results_df_2.sort_values('accuracy', ascending=False)\n",
    "\n",
    "results_df_2.head(10)"
   ]
  },
  {
   "cell_type": "code",
   "execution_count": null,
   "metadata": {},
   "outputs": [],
   "source": []
  },
  {
   "cell_type": "markdown",
   "metadata": {},
   "source": [
    "#### Estimations for the target variable `classes_3`."
   ]
  },
  {
   "cell_type": "code",
   "execution_count": 39,
   "metadata": {},
   "outputs": [
    {
     "data": {
      "text/html": [
       "<div>\n",
       "<style scoped>\n",
       "    .dataframe tbody tr th:only-of-type {\n",
       "        vertical-align: middle;\n",
       "    }\n",
       "\n",
       "    .dataframe tbody tr th {\n",
       "        vertical-align: top;\n",
       "    }\n",
       "\n",
       "    .dataframe thead th {\n",
       "        text-align: right;\n",
       "    }\n",
       "</style>\n",
       "<table border=\"1\" class=\"dataframe\">\n",
       "  <thead>\n",
       "    <tr style=\"text-align: right;\">\n",
       "      <th></th>\n",
       "      <th>variable_params</th>\n",
       "      <th>accuracy</th>\n",
       "      <th>variables</th>\n",
       "      <th>count_vars</th>\n",
       "    </tr>\n",
       "  </thead>\n",
       "  <tbody>\n",
       "    <tr>\n",
       "      <th>177</th>\n",
       "      <td>{'max_depth': 6}</td>\n",
       "      <td>60.29</td>\n",
       "      <td>[over_time, incentive, no_of_workers, day_d, d...</td>\n",
       "      <td>5</td>\n",
       "    </tr>\n",
       "    <tr>\n",
       "      <th>99</th>\n",
       "      <td>{'max_depth': 6}</td>\n",
       "      <td>60.21</td>\n",
       "      <td>[over_time, incentive, no_of_workers, day_d]</td>\n",
       "      <td>4</td>\n",
       "    </tr>\n",
       "    <tr>\n",
       "      <th>231</th>\n",
       "      <td>{'max_depth': 6}</td>\n",
       "      <td>60.21</td>\n",
       "      <td>[over_time, incentive, no_of_workers, winter, ...</td>\n",
       "      <td>6</td>\n",
       "    </tr>\n",
       "    <tr>\n",
       "      <th>100</th>\n",
       "      <td>{'max_depth': 6}</td>\n",
       "      <td>60.04</td>\n",
       "      <td>[over_time, incentive, no_of_workers, departme...</td>\n",
       "      <td>4</td>\n",
       "    </tr>\n",
       "    <tr>\n",
       "      <th>176</th>\n",
       "      <td>{'max_depth': 6}</td>\n",
       "      <td>60.04</td>\n",
       "      <td>[over_time, incentive, no_of_workers, winter, ...</td>\n",
       "      <td>5</td>\n",
       "    </tr>\n",
       "    <tr>\n",
       "      <th>98</th>\n",
       "      <td>{'max_depth': 5}</td>\n",
       "      <td>59.87</td>\n",
       "      <td>[over_time, incentive, no_of_workers, winter]</td>\n",
       "      <td>4</td>\n",
       "    </tr>\n",
       "    <tr>\n",
       "      <th>222</th>\n",
       "      <td>{'max_depth': 5}</td>\n",
       "      <td>59.87</td>\n",
       "      <td>[over_time, incentive, no_of_style_change, no_...</td>\n",
       "      <td>6</td>\n",
       "    </tr>\n",
       "    <tr>\n",
       "      <th>173</th>\n",
       "      <td>{'max_depth': 5}</td>\n",
       "      <td>59.87</td>\n",
       "      <td>[over_time, incentive, no_of_workers, month, d...</td>\n",
       "      <td>5</td>\n",
       "    </tr>\n",
       "    <tr>\n",
       "      <th>228</th>\n",
       "      <td>{'max_depth': 5}</td>\n",
       "      <td>59.87</td>\n",
       "      <td>[over_time, incentive, no_of_workers, month, w...</td>\n",
       "      <td>6</td>\n",
       "    </tr>\n",
       "    <tr>\n",
       "      <th>175</th>\n",
       "      <td>{'max_depth': 6}</td>\n",
       "      <td>59.87</td>\n",
       "      <td>[over_time, incentive, no_of_workers, winter, ...</td>\n",
       "      <td>5</td>\n",
       "    </tr>\n",
       "  </tbody>\n",
       "</table>\n",
       "</div>"
      ],
      "text/plain": [
       "      variable_params  accuracy  \\\n",
       "177  {'max_depth': 6}     60.29   \n",
       "99   {'max_depth': 6}     60.21   \n",
       "231  {'max_depth': 6}     60.21   \n",
       "100  {'max_depth': 6}     60.04   \n",
       "176  {'max_depth': 6}     60.04   \n",
       "98   {'max_depth': 5}     59.87   \n",
       "222  {'max_depth': 5}     59.87   \n",
       "173  {'max_depth': 5}     59.87   \n",
       "228  {'max_depth': 5}     59.87   \n",
       "175  {'max_depth': 6}     59.87   \n",
       "\n",
       "                                             variables  count_vars  \n",
       "177  [over_time, incentive, no_of_workers, day_d, d...           5  \n",
       "99        [over_time, incentive, no_of_workers, day_d]           4  \n",
       "231  [over_time, incentive, no_of_workers, winter, ...           6  \n",
       "100  [over_time, incentive, no_of_workers, departme...           4  \n",
       "176  [over_time, incentive, no_of_workers, winter, ...           5  \n",
       "98       [over_time, incentive, no_of_workers, winter]           4  \n",
       "222  [over_time, incentive, no_of_style_change, no_...           6  \n",
       "173  [over_time, incentive, no_of_workers, month, d...           5  \n",
       "228  [over_time, incentive, no_of_workers, month, w...           6  \n",
       "175  [over_time, incentive, no_of_workers, winter, ...           5  "
      ]
     },
     "execution_count": 39,
     "metadata": {},
     "output_type": "execute_result"
    }
   ],
   "source": [
    "classes_3_results = {} \n",
    "\n",
    "for i, feats in enumerate(combinations):\n",
    "    X = df2[feats]\n",
    "    classes_3_results[i] = gridcv_results(X, y_3, parameters)\n",
    "\n",
    "results_df_3 = pd.DataFrame(\n",
    "    {\n",
    "        'variable_params': [classes_3_results[key][1] for key in classes_3_results],\n",
    "        'accuracy': [classes_3_results[key][2] for key in classes_3_results],\n",
    "        'variables': combinations,\n",
    "        'count_vars': [len(i) for i in combinations],\n",
    "    },\n",
    ")\n",
    "\n",
    "results_df_3 = results_df_3.sort_values('accuracy', ascending=False)\n",
    "\n",
    "results_df_3.head(10)"
   ]
  },
  {
   "cell_type": "markdown",
   "metadata": {},
   "source": [
    "#### Estimations for the target variable `classes_4`."
   ]
  },
  {
   "cell_type": "code",
   "execution_count": 40,
   "metadata": {},
   "outputs": [
    {
     "data": {
      "text/html": [
       "<div>\n",
       "<style scoped>\n",
       "    .dataframe tbody tr th:only-of-type {\n",
       "        vertical-align: middle;\n",
       "    }\n",
       "\n",
       "    .dataframe tbody tr th {\n",
       "        vertical-align: top;\n",
       "    }\n",
       "\n",
       "    .dataframe thead th {\n",
       "        text-align: right;\n",
       "    }\n",
       "</style>\n",
       "<table border=\"1\" class=\"dataframe\">\n",
       "  <thead>\n",
       "    <tr style=\"text-align: right;\">\n",
       "      <th></th>\n",
       "      <th>variable_params</th>\n",
       "      <th>accuracy</th>\n",
       "      <th>variables</th>\n",
       "      <th>count_vars</th>\n",
       "    </tr>\n",
       "  </thead>\n",
       "  <tbody>\n",
       "    <tr>\n",
       "      <th>140</th>\n",
       "      <td>{'max_depth': 7}</td>\n",
       "      <td>58.70</td>\n",
       "      <td>[incentive, no_of_workers, winter, day_d]</td>\n",
       "      <td>4</td>\n",
       "    </tr>\n",
       "    <tr>\n",
       "      <th>210</th>\n",
       "      <td>{'max_depth': 7}</td>\n",
       "      <td>58.70</td>\n",
       "      <td>[incentive, no_of_workers, winter, day_d, depa...</td>\n",
       "      <td>5</td>\n",
       "    </tr>\n",
       "    <tr>\n",
       "      <th>142</th>\n",
       "      <td>{'max_depth': 7}</td>\n",
       "      <td>58.70</td>\n",
       "      <td>[incentive, no_of_workers, day_d, department_d]</td>\n",
       "      <td>4</td>\n",
       "    </tr>\n",
       "    <tr>\n",
       "      <th>64</th>\n",
       "      <td>{'max_depth': 7}</td>\n",
       "      <td>58.61</td>\n",
       "      <td>[incentive, no_of_workers, day_d]</td>\n",
       "      <td>3</td>\n",
       "    </tr>\n",
       "    <tr>\n",
       "      <th>128</th>\n",
       "      <td>{'max_depth': 5}</td>\n",
       "      <td>58.37</td>\n",
       "      <td>[incentive, no_of_style_change, no_of_workers,...</td>\n",
       "      <td>4</td>\n",
       "    </tr>\n",
       "    <tr>\n",
       "      <th>57</th>\n",
       "      <td>{'max_depth': 5}</td>\n",
       "      <td>58.37</td>\n",
       "      <td>[incentive, no_of_style_change, no_of_workers]</td>\n",
       "      <td>3</td>\n",
       "    </tr>\n",
       "    <tr>\n",
       "      <th>130</th>\n",
       "      <td>{'max_depth': 5}</td>\n",
       "      <td>58.37</td>\n",
       "      <td>[incentive, no_of_style_change, no_of_workers,...</td>\n",
       "      <td>4</td>\n",
       "    </tr>\n",
       "    <tr>\n",
       "      <th>201</th>\n",
       "      <td>{'max_depth': 5}</td>\n",
       "      <td>58.37</td>\n",
       "      <td>[incentive, no_of_style_change, no_of_workers,...</td>\n",
       "      <td>5</td>\n",
       "    </tr>\n",
       "    <tr>\n",
       "      <th>16</th>\n",
       "      <td>{'max_depth': 7}</td>\n",
       "      <td>58.28</td>\n",
       "      <td>[incentive, no_of_workers]</td>\n",
       "      <td>2</td>\n",
       "    </tr>\n",
       "    <tr>\n",
       "      <th>141</th>\n",
       "      <td>{'max_depth': 7}</td>\n",
       "      <td>58.28</td>\n",
       "      <td>[incentive, no_of_workers, winter, department_d]</td>\n",
       "      <td>4</td>\n",
       "    </tr>\n",
       "  </tbody>\n",
       "</table>\n",
       "</div>"
      ],
      "text/plain": [
       "      variable_params  accuracy  \\\n",
       "140  {'max_depth': 7}     58.70   \n",
       "210  {'max_depth': 7}     58.70   \n",
       "142  {'max_depth': 7}     58.70   \n",
       "64   {'max_depth': 7}     58.61   \n",
       "128  {'max_depth': 5}     58.37   \n",
       "57   {'max_depth': 5}     58.37   \n",
       "130  {'max_depth': 5}     58.37   \n",
       "201  {'max_depth': 5}     58.37   \n",
       "16   {'max_depth': 7}     58.28   \n",
       "141  {'max_depth': 7}     58.28   \n",
       "\n",
       "                                             variables  count_vars  \n",
       "140          [incentive, no_of_workers, winter, day_d]           4  \n",
       "210  [incentive, no_of_workers, winter, day_d, depa...           5  \n",
       "142    [incentive, no_of_workers, day_d, department_d]           4  \n",
       "64                   [incentive, no_of_workers, day_d]           3  \n",
       "128  [incentive, no_of_style_change, no_of_workers,...           4  \n",
       "57      [incentive, no_of_style_change, no_of_workers]           3  \n",
       "130  [incentive, no_of_style_change, no_of_workers,...           4  \n",
       "201  [incentive, no_of_style_change, no_of_workers,...           5  \n",
       "16                          [incentive, no_of_workers]           2  \n",
       "141   [incentive, no_of_workers, winter, department_d]           4  "
      ]
     },
     "execution_count": 40,
     "metadata": {},
     "output_type": "execute_result"
    }
   ],
   "source": [
    "classes_4_results = {} \n",
    "\n",
    "for i, feats in enumerate(combinations):\n",
    "    X = df2[feats]\n",
    "    classes_4_results[i] = gridcv_results(X, y_4, parameters)\n",
    "\n",
    "results_df_4 = pd.DataFrame(\n",
    "    {\n",
    "        'variable_params': [classes_4_results[key][1] for key in classes_4_results],\n",
    "        'accuracy': [classes_4_results[key][2] for key in classes_4_results],\n",
    "        'variables': combinations,\n",
    "        'count_vars': [len(i) for i in combinations],\n",
    "    },\n",
    ")\n",
    "\n",
    "results_df_4 = results_df_4.sort_values('accuracy', ascending=False)\n",
    "\n",
    "results_df_4.head(10)"
   ]
  },
  {
   "cell_type": "markdown",
   "metadata": {},
   "source": [
    "**`tree_1` visualization - relative to model 1 (target: `classes_1`)**"
   ]
  },
  {
   "cell_type": "code",
   "execution_count": 41,
   "metadata": {},
   "outputs": [
    {
     "ename": "AttributeError",
     "evalue": "'numpy.int64' object has no attribute 'split'",
     "output_type": "error",
     "traceback": [
      "\u001b[0;31m---------------------------------------------------------------------------\u001b[0m",
      "\u001b[0;31mAttributeError\u001b[0m                            Traceback (most recent call last)",
      "\u001b[0;32m<ipython-input-41-8d3adaacc1e4>\u001b[0m in \u001b[0;36m<module>\u001b[0;34m\u001b[0m\n\u001b[1;32m      5\u001b[0m tree_graph = plot_tree(\n\u001b[1;32m      6\u001b[0m     \u001b[0mbest_tree_1\u001b[0m\u001b[0;34m,\u001b[0m\u001b[0;34m\u001b[0m\u001b[0;34m\u001b[0m\u001b[0m\n\u001b[0;32m----> 7\u001b[0;31m     \u001b[0mfeature_names\u001b[0m \u001b[0;34m=\u001b[0m \u001b[0mresults_df_1\u001b[0m\u001b[0;34m.\u001b[0m\u001b[0mindex\u001b[0m\u001b[0;34m[\u001b[0m\u001b[0;36m0\u001b[0m\u001b[0;34m]\u001b[0m\u001b[0;34m.\u001b[0m\u001b[0msplit\u001b[0m\u001b[0;34m(\u001b[0m\u001b[0;34m', '\u001b[0m\u001b[0;34m)\u001b[0m\u001b[0;34m,\u001b[0m\u001b[0;34m\u001b[0m\u001b[0;34m\u001b[0m\u001b[0m\n\u001b[0m\u001b[1;32m      8\u001b[0m     \u001b[0mclass_names\u001b[0m \u001b[0;34m=\u001b[0m \u001b[0mbest_tree_1\u001b[0m\u001b[0;34m.\u001b[0m\u001b[0mclasses_\u001b[0m\u001b[0;34m,\u001b[0m\u001b[0;34m\u001b[0m\u001b[0;34m\u001b[0m\u001b[0m\n\u001b[1;32m      9\u001b[0m     \u001b[0mfilled\u001b[0m \u001b[0;34m=\u001b[0m \u001b[0;32mTrue\u001b[0m\u001b[0;34m,\u001b[0m\u001b[0;34m\u001b[0m\u001b[0;34m\u001b[0m\u001b[0m\n",
      "\u001b[0;31mAttributeError\u001b[0m: 'numpy.int64' object has no attribute 'split'"
     ]
    },
    {
     "data": {
      "text/plain": [
       "<Figure size 1728x576 with 0 Axes>"
      ]
     },
     "metadata": {},
     "output_type": "display_data"
    }
   ],
   "source": [
    "best_tree_1 = classes_1_results[0][0]\n",
    "\n",
    "plt.figure(figsize = [24.0, 8.0])\n",
    "\n",
    "tree_graph = plot_tree(\n",
    "    best_tree_1,\n",
    "    feature_names = results_df_1.index[0].split(', '),\n",
    "    class_names = best_tree_1.classes_,\n",
    "    filled = True,\n",
    "    proportion = False,\n",
    "    precision = 3,\n",
    "    rounded = True,\n",
    "    fontsize = 11)\n",
    "\n",
    "plt.show()"
   ]
  },
  {
   "cell_type": "markdown",
   "metadata": {},
   "source": [
    "As we can see, because this tree was design with few restrictions it grew to the point that it become illegible. \n",
    "\n",
    "#### Accuracy comparison between models for the decision tree classifier."
   ]
  },
  {
   "cell_type": "code",
   "execution_count": null,
   "metadata": {},
   "outputs": [],
   "source": [
    "print(f'Model 1 (\"classes_1\"): {get_accuracy_tree(X, y_1)[1]}%')\n",
    "print(f'Model 2 (\"classes_2\"): {get_accuracy_tree(X, y_2)[1]}%')"
   ]
  },
  {
   "cell_type": "markdown",
   "metadata": {},
   "source": [
    "## Building A Random Forest Classifier\n",
    "---\n",
    "Now, that we have scores for two tree classifiers we can assess their robustness against a forest classifier."
   ]
  },
  {
   "cell_type": "code",
   "execution_count": null,
   "metadata": {},
   "outputs": [],
   "source": [
    "from sklearn.ensemble import RandomForestClassifier\n",
    "\n",
    "\n",
    "def get_accuracy_forest(X, y): \n",
    "    \n",
    "    X_train, X_test, y_train, y_test = split(\n",
    "        X,\n",
    "        y,\n",
    "        test_size=0.3,\n",
    "        random_state=22333,\n",
    "        shuffle=True\n",
    "        )\n",
    "    \n",
    "    classifier = RandomForestClassifier(\n",
    "        n_estimators=100,\n",
    "        criterion='entropy',\n",
    "        max_depth=None,\n",
    "        max_features='sqrt', \n",
    "        bootstrap=True,\n",
    "        oob_score=False,\n",
    "        n_jobs=-1,\n",
    "        random_state=4937\n",
    "        )\n",
    "\n",
    "    forest = classifier.fit(X_train, y_train)\n",
    "\n",
    "    accuracy = forest.score(X_test, y_test)*100\n",
    "    \n",
    "    return (forest, round(accuracy, 2))"
   ]
  },
  {
   "cell_type": "markdown",
   "metadata": {},
   "source": [
    "#### Accuracy comparison between models for the random forest classifier."
   ]
  },
  {
   "cell_type": "code",
   "execution_count": null,
   "metadata": {},
   "outputs": [],
   "source": [
    "print(f'Model 1 (\"classes_1\"): {get_accuracy_forest(X, y_1)[1]}%')\n",
    "print(f'Model 2 (\"classes_2\"): {get_accuracy_forest(X, y_2)[1]}%')"
   ]
  },
  {
   "cell_type": "markdown",
   "metadata": {},
   "source": [
    "## Conclusion\n",
    "---\n",
    "We were able to predict the productivity class of a garments factory worker, presumably in Bangladesh, with an accuracy around 70% when we use a simpler classification spectrum (`classes_1`) - 'below', 'on par' and 'above' expected productivity. Expectably, the accuracy level decreased substantially (down to 56%) when we increased the complexity of that classification (`classes_2`). In order to to improve both the readability/interpretability and the accuracy of the classifier, we can try to limit the number of variables fitted into the model, namely those related with the season of the year, or to restrict the depth and portion of observations by leave."
   ]
  }
 ],
 "metadata": {
  "hide_input": false,
  "kernelspec": {
   "display_name": "Python 3",
   "language": "python",
   "name": "python3"
  },
  "language_info": {
   "codemirror_mode": {
    "name": "ipython",
    "version": 3
   },
   "file_extension": ".py",
   "mimetype": "text/x-python",
   "name": "python",
   "nbconvert_exporter": "python",
   "pygments_lexer": "ipython3",
   "version": "3.9.2"
  },
  "varInspector": {
   "cols": {
    "lenName": 16,
    "lenType": 16,
    "lenVar": 40
   },
   "kernels_config": {
    "python": {
     "delete_cmd_postfix": "",
     "delete_cmd_prefix": "del ",
     "library": "var_list.py",
     "varRefreshCmd": "print(var_dic_list())"
    },
    "r": {
     "delete_cmd_postfix": ") ",
     "delete_cmd_prefix": "rm(",
     "library": "var_list.r",
     "varRefreshCmd": "cat(var_dic_list()) "
    }
   },
   "position": {
    "height": "544.85px",
    "left": "728.667px",
    "right": "20px",
    "top": "-1px",
    "width": "800px"
   },
   "types_to_exclude": [
    "module",
    "function",
    "builtin_function_or_method",
    "instance",
    "_Feature"
   ],
   "window_display": false
  }
 },
 "nbformat": 4,
 "nbformat_minor": 4
}
