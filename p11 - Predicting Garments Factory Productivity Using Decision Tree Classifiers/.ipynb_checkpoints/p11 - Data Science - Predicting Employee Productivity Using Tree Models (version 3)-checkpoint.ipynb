{
 "cells": [
  {
   "cell_type": "markdown",
   "metadata": {},
   "source": [
    "# Data Science Project - Predicting Employee Productivity Using Tree Models\n",
    "\n",
    "**Version 3**: in this version we convert the continuous explanatory variables into rankings to assess if that translates into high accuracy scores. The variables that we'll be change accordingly are: `no_of_workers`, `over_time` and `incentive`.\n",
    "\n",
    "## Introduction\n",
    "---\n",
    "We are given a data set with information on the garment industry and we are asked to predicted the productivity delivered by the factory workers resorting to decision tree classifiers.\n",
    "\n",
    "\n",
    "Variable description ([source](https://archive.ics.uci.edu/ml/datasets/Productivity+Prediction+of+Garment+Employees)):\n",
    "\n",
    "| Column                   | Description|\n",
    "| ------------------------ | ---------- |\n",
    "| `date`                  | Date in MM-DD-YYYY.|\n",
    "| `day`                   | Day of the Week.|\n",
    "| `quarter`               | A portion of the month. A month was divided into four quarters.|\n",
    "| `department`            | Associated department with the instance.|\n",
    "| `team`               | Associated team number with the instance.|\n",
    "| `no_of_workers`         | Number of workers in each team.|\n",
    "| `no_of_style_change`    | Number of changes in the style of a particular product.|\n",
    "| `targeted_productivity` | Targeted productivity set by the Authority for each team for each day.|\n",
    "| `smv`                   | Standard Minute Value, it is the allocated time for a task.|\n",
    "| `wip`                   | Work in progress. Includes the number of unfinished items for products.|\n",
    "| `over_time`             | Represents the amount of overtime by each team in minutes.|\n",
    "| `incentive`             | Represents the amount of financial incentive (in Bangladeshi Taka - BDT) that enables or motivates a particular course of action. |\n",
    "| `idle_time`             | The amount of time when the production was interrupted due to several reasons.|\n",
    "| `idle_men`              | The number of workers who were idle due to production interruption.|\n",
    "| `actual_productivity`   | The actual % of productivity that was delivered by the workers. It ranges from 0-1.|\n",
    "\n",
    "## Exploratory Data Analysis\n",
    "---\n",
    "The following analysis of the data set intents to lay the ground for the variables to be used in the model estimation.\n",
    "\n",
    "- Time related variables (`date`, `day` and `quarter`):\n",
    "    - Productivity can change in relation to time, the season of the year can affect workers due to adversarial climate conditions (e.g. too much humidity, too much hot temperature, too cold, etc). We also know that as the working days go by, the productivity tends to drop from the first days after the previous day(s)-off up to the days before the next day(s)-off; therefore, we can explore the following time/date related variables:\n",
    "        - season of the year.\n",
    "        - day of the week.\n",
    "        - quarter of the month.\n",
    "\n",
    "\n",
    "- Factory department (`department`):\n",
    "    - Different departments can have different measurements of 'actual' productivity, but we assume that the measurement used is standardized, so that we can actually differentiate worker by department. \n",
    "\n",
    "\n",
    "- Teams (`team` and `no_of_workers`):\n",
    "    - we can distinguish workers by teams since different team management can impact the workers' productivity. The number of workers for each team can have an impact on the productivity since large teams can be more difficult to coordinate and to assure rule compliance. \n",
    "\n",
    "\n",
    "- Allocated time for a task (`svm`):\n",
    "\t- without further context, this variable is not directly related to workers productivity, therefore we can drop it.\n",
    "\n",
    "\n",
    "- Work in progress (`wip`):\n",
    "\t- The number of finished products can be an indicative of productivity, but since many factors can affect the number of finished products - machines working at full capacity, reasonable deadlines, effective lower tier management, we will not include this variable.\n",
    "\n",
    "\n",
    "- Overtime (`over_time`):\n",
    "\t- Excess overtime can impact negatively the workers' productivity, both in the short and in the long term (depending on the of excess work), hence we can include this variable in the model.\n",
    "\n",
    "\n",
    "- Financial rewarding (`incentive`):\n",
    "\t- financial rewarding is expected to incentivize workers, therefore it is expected that well rewarded workers will have increased productivity. \n",
    "    \n",
    "\n",
    "\n",
    "- Product complexity (`no_of_style_change`):\n",
    "\t- Augmenting the detail and modifications a product requires, can increase the risk of product faultiness, and delay productivity.\n",
    "\n",
    "\n",
    "- Delays registered:\n",
    "\t- If fews row register idle time (`idle_time`) we drop them as well as the associate number of idle workers (`idle_men`). We aim to analyze workers' productivity in normal conditions.  \n",
    "\n",
    "\n",
    "- Expected productivity and actual productivity (`targeted_productivity`, `actual_productivity`):\n",
    "\t- We can build a target variable for a regression tree which is given by the difference between the targeted (expected) and actual productivity, so that the model prediction reflects the productivity increase or decrease from the expected value. \n",
    "    "
   ]
  },
  {
   "cell_type": "code",
   "execution_count": 157,
   "metadata": {},
   "outputs": [],
   "source": [
    "import numpy as np\n",
    "import pandas as pd\n",
    "import re\n",
    "import matplotlib.pyplot as plt\n",
    "import seaborn as sns\n",
    "%matplotlib inline\n",
    "\n",
    "from sklearn.model_selection import train_test_split as split\n",
    "from sklearn.tree import DecisionTreeClassifier\n",
    "from sklearn.tree import plot_tree\n",
    "from sklearn.model_selection import GridSearchCV\n",
    "from itertools import combinations as cb"
   ]
  },
  {
   "cell_type": "code",
   "execution_count": 158,
   "metadata": {},
   "outputs": [
    {
     "name": "stdout",
     "output_type": "stream",
     "text": [
      "<class 'pandas.core.frame.DataFrame'>\n",
      "RangeIndex: 1197 entries, 0 to 1196\n",
      "Data columns (total 15 columns):\n",
      " #   Column                 Non-Null Count  Dtype  \n",
      "---  ------                 --------------  -----  \n",
      " 0   date                   1197 non-null   object \n",
      " 1   quarter                1197 non-null   object \n",
      " 2   department             1197 non-null   object \n",
      " 3   day                    1197 non-null   object \n",
      " 4   team                   1197 non-null   int64  \n",
      " 5   targeted_productivity  1197 non-null   float64\n",
      " 6   smv                    1197 non-null   float64\n",
      " 7   wip                    691 non-null    float64\n",
      " 8   over_time              1197 non-null   int64  \n",
      " 9   incentive              1197 non-null   int64  \n",
      " 10  idle_time              1197 non-null   float64\n",
      " 11  idle_men               1197 non-null   int64  \n",
      " 12  no_of_style_change     1197 non-null   int64  \n",
      " 13  no_of_workers          1197 non-null   float64\n",
      " 14  actual_productivity    1197 non-null   float64\n",
      "dtypes: float64(6), int64(5), object(4)\n",
      "memory usage: 140.4+ KB\n"
     ]
    }
   ],
   "source": [
    "df0 = pd.read_csv('garments_worker_productivity.csv')\n",
    "\n",
    "df0.info()"
   ]
  },
  {
   "cell_type": "code",
   "execution_count": 159,
   "metadata": {},
   "outputs": [
    {
     "data": {
      "text/html": [
       "<div>\n",
       "<style scoped>\n",
       "    .dataframe tbody tr th:only-of-type {\n",
       "        vertical-align: middle;\n",
       "    }\n",
       "\n",
       "    .dataframe tbody tr th {\n",
       "        vertical-align: top;\n",
       "    }\n",
       "\n",
       "    .dataframe thead th {\n",
       "        text-align: right;\n",
       "    }\n",
       "</style>\n",
       "<table border=\"1\" class=\"dataframe\">\n",
       "  <thead>\n",
       "    <tr style=\"text-align: right;\">\n",
       "      <th></th>\n",
       "      <th>date</th>\n",
       "      <th>quarter</th>\n",
       "      <th>department</th>\n",
       "      <th>day</th>\n",
       "      <th>team</th>\n",
       "      <th>targeted_productivity</th>\n",
       "      <th>smv</th>\n",
       "      <th>wip</th>\n",
       "      <th>over_time</th>\n",
       "      <th>incentive</th>\n",
       "      <th>idle_time</th>\n",
       "      <th>idle_men</th>\n",
       "      <th>no_of_style_change</th>\n",
       "      <th>no_of_workers</th>\n",
       "      <th>actual_productivity</th>\n",
       "    </tr>\n",
       "  </thead>\n",
       "  <tbody>\n",
       "    <tr>\n",
       "      <th>0</th>\n",
       "      <td>1/1/2015</td>\n",
       "      <td>Quarter1</td>\n",
       "      <td>sweing</td>\n",
       "      <td>Thursday</td>\n",
       "      <td>8</td>\n",
       "      <td>0.80</td>\n",
       "      <td>26.16</td>\n",
       "      <td>1108.0</td>\n",
       "      <td>7080</td>\n",
       "      <td>98</td>\n",
       "      <td>0.0</td>\n",
       "      <td>0</td>\n",
       "      <td>0</td>\n",
       "      <td>59.0</td>\n",
       "      <td>0.940725</td>\n",
       "    </tr>\n",
       "    <tr>\n",
       "      <th>1</th>\n",
       "      <td>1/1/2015</td>\n",
       "      <td>Quarter1</td>\n",
       "      <td>finishing</td>\n",
       "      <td>Thursday</td>\n",
       "      <td>1</td>\n",
       "      <td>0.75</td>\n",
       "      <td>3.94</td>\n",
       "      <td>NaN</td>\n",
       "      <td>960</td>\n",
       "      <td>0</td>\n",
       "      <td>0.0</td>\n",
       "      <td>0</td>\n",
       "      <td>0</td>\n",
       "      <td>8.0</td>\n",
       "      <td>0.886500</td>\n",
       "    </tr>\n",
       "    <tr>\n",
       "      <th>2</th>\n",
       "      <td>1/1/2015</td>\n",
       "      <td>Quarter1</td>\n",
       "      <td>sweing</td>\n",
       "      <td>Thursday</td>\n",
       "      <td>11</td>\n",
       "      <td>0.80</td>\n",
       "      <td>11.41</td>\n",
       "      <td>968.0</td>\n",
       "      <td>3660</td>\n",
       "      <td>50</td>\n",
       "      <td>0.0</td>\n",
       "      <td>0</td>\n",
       "      <td>0</td>\n",
       "      <td>30.5</td>\n",
       "      <td>0.800570</td>\n",
       "    </tr>\n",
       "    <tr>\n",
       "      <th>3</th>\n",
       "      <td>1/1/2015</td>\n",
       "      <td>Quarter1</td>\n",
       "      <td>sweing</td>\n",
       "      <td>Thursday</td>\n",
       "      <td>12</td>\n",
       "      <td>0.80</td>\n",
       "      <td>11.41</td>\n",
       "      <td>968.0</td>\n",
       "      <td>3660</td>\n",
       "      <td>50</td>\n",
       "      <td>0.0</td>\n",
       "      <td>0</td>\n",
       "      <td>0</td>\n",
       "      <td>30.5</td>\n",
       "      <td>0.800570</td>\n",
       "    </tr>\n",
       "    <tr>\n",
       "      <th>4</th>\n",
       "      <td>1/1/2015</td>\n",
       "      <td>Quarter1</td>\n",
       "      <td>sweing</td>\n",
       "      <td>Thursday</td>\n",
       "      <td>6</td>\n",
       "      <td>0.80</td>\n",
       "      <td>25.90</td>\n",
       "      <td>1170.0</td>\n",
       "      <td>1920</td>\n",
       "      <td>50</td>\n",
       "      <td>0.0</td>\n",
       "      <td>0</td>\n",
       "      <td>0</td>\n",
       "      <td>56.0</td>\n",
       "      <td>0.800382</td>\n",
       "    </tr>\n",
       "  </tbody>\n",
       "</table>\n",
       "</div>"
      ],
      "text/plain": [
       "       date   quarter  department       day  team  targeted_productivity  \\\n",
       "0  1/1/2015  Quarter1      sweing  Thursday     8                   0.80   \n",
       "1  1/1/2015  Quarter1  finishing   Thursday     1                   0.75   \n",
       "2  1/1/2015  Quarter1      sweing  Thursday    11                   0.80   \n",
       "3  1/1/2015  Quarter1      sweing  Thursday    12                   0.80   \n",
       "4  1/1/2015  Quarter1      sweing  Thursday     6                   0.80   \n",
       "\n",
       "     smv     wip  over_time  incentive  idle_time  idle_men  \\\n",
       "0  26.16  1108.0       7080         98        0.0         0   \n",
       "1   3.94     NaN        960          0        0.0         0   \n",
       "2  11.41   968.0       3660         50        0.0         0   \n",
       "3  11.41   968.0       3660         50        0.0         0   \n",
       "4  25.90  1170.0       1920         50        0.0         0   \n",
       "\n",
       "   no_of_style_change  no_of_workers  actual_productivity  \n",
       "0                   0           59.0             0.940725  \n",
       "1                   0            8.0             0.886500  \n",
       "2                   0           30.5             0.800570  \n",
       "3                   0           30.5             0.800570  \n",
       "4                   0           56.0             0.800382  "
      ]
     },
     "execution_count": 159,
     "metadata": {},
     "output_type": "execute_result"
    }
   ],
   "source": [
    "df0.head()"
   ]
  },
  {
   "cell_type": "code",
   "execution_count": 160,
   "metadata": {},
   "outputs": [],
   "source": [
    "# lower case `quarter` and `day`.\n",
    "df0.quarter = df0.quarter.str.lower()\n",
    "df0.day = df0.day.str.lower()"
   ]
  },
  {
   "cell_type": "markdown",
   "metadata": {},
   "source": [
    "**Date/time related variables**\n",
    "\n",
    "Since we are using data from Bangladesh the weather seasons are quite different from those in the west northern hemisphere, thus we designate differently these seasons:\n",
    "\n",
    "- March-May - 'pre-monsoon':\n",
    "    - very hot and humid, with occasional storms of wind and hail and/or thunder.\n",
    "    \n",
    "    \n",
    "- June-August - 'monsoon':\n",
    "    - monsoon period with extreme humidity and rainfall.\n",
    "    \n",
    "    \n",
    "- September-November - 'post-monsoon':\n",
    "    - end of monsoon, with rain and strong winds; temperatures rising until quite hot, occurrence of cyclones. Weather becomes milder as time progresses.\n",
    "    \n",
    "    \n",
    "- December-February - 'winter'\n",
    "    - Usually a mild winter takes place.\n",
    "    \n",
    "Given this information we replace `date` in the data set by a season dummy columns."
   ]
  },
  {
   "cell_type": "code",
   "execution_count": 161,
   "metadata": {},
   "outputs": [],
   "source": [
    "months = df0.date.str.split('/').apply(lambda x: x[0]).astype(int)\n",
    "\n",
    "for i, month in enumerate(months):\n",
    "    if (month == 12) | (month == 1) | (month == 2):\n",
    "        months[i] = 'winter'\n",
    "    elif 2 < month < 6:\n",
    "        months[i] = 'pre_monsoon'    \n",
    "    elif 5 < month < 9:\n",
    "        months[i] = 'monsoon'\n",
    "    elif 8 < month < 12:\n",
    "        months[i] = 'post_monsoon'  \n",
    "\n",
    "df1 = df0.copy().drop(columns=['date'])\n",
    "\n",
    "df1['season'] = months"
   ]
  },
  {
   "cell_type": "markdown",
   "metadata": {},
   "source": [
    "Checking the distribution values of `season`:"
   ]
  },
  {
   "cell_type": "code",
   "execution_count": 162,
   "metadata": {},
   "outputs": [
    {
     "data": {
      "text/plain": [
       "winter         985\n",
       "pre_monsoon    212\n",
       "Name: season, dtype: int64"
      ]
     },
     "execution_count": 162,
     "metadata": {},
     "output_type": "execute_result"
    }
   ],
   "source": [
    "df1.season.value_counts()"
   ]
  },
  {
   "cell_type": "markdown",
   "metadata": {},
   "source": [
    "Because we only have two sub-categories we can add a simple binary column to the DataFrame:\n",
    "- `0` if winter.\n",
    "- `1` if pre-monsoon."
   ]
  },
  {
   "cell_type": "code",
   "execution_count": 163,
   "metadata": {},
   "outputs": [],
   "source": [
    "df1['winter'] = (\n",
    "    df1.season.apply(lambda x: 0 if x == 'winter' else 0)\n",
    "    .drop(columns=['pre-monsoon'])\n",
    "    )"
   ]
  },
  {
   "cell_type": "markdown",
   "metadata": {},
   "source": [
    "Usually, factories do rotation for the day(s) off they attribute to their workers, but the scheme can vary for each type of industry, culture of the country, etc. If we examine the values in `day` we see that there are no values for Friday, which we can assume is the day-off. If we assume that the weekly productivity is correlated with the number of prior days of working with a day-off, we can produce a dummy of the type:\n",
    "- `0` if Saturday to Monday (three days after the day-off),\n",
    "- `1` if Tuesday to Thursday (three days left to the day-off)."
   ]
  },
  {
   "cell_type": "code",
   "execution_count": 164,
   "metadata": {},
   "outputs": [
    {
     "data": {
      "text/plain": [
       "wednesday    208\n",
       "sunday       203\n",
       "tuesday      201\n",
       "thursday     199\n",
       "monday       199\n",
       "saturday     187\n",
       "Name: day, dtype: int64"
      ]
     },
     "execution_count": 164,
     "metadata": {},
     "output_type": "execute_result"
    }
   ],
   "source": [
    "df1.day.value_counts()"
   ]
  },
  {
   "cell_type": "code",
   "execution_count": 165,
   "metadata": {},
   "outputs": [],
   "source": [
    "df1['day_d'] = df1.day.apply(\n",
    "    lambda x: 0 if x in ['saturday', 'sunday', 'monday'] else 1\n",
    "    )\n",
    "\n",
    "df1 = df1.drop(columns=['day', 'season'])"
   ]
  },
  {
   "cell_type": "markdown",
   "metadata": {},
   "source": [
    "When inspecting `quarter` we expect to see 4 quarters although we have a 5th quarter. Without further context we opt to drop the rows belonging to this subcategory; then we can convert it into dummies."
   ]
  },
  {
   "cell_type": "code",
   "execution_count": 166,
   "metadata": {},
   "outputs": [
    {
     "data": {
      "text/plain": [
       "quarter1    360\n",
       "quarter2    335\n",
       "quarter4    248\n",
       "quarter3    210\n",
       "quarter5     44\n",
       "Name: quarter, dtype: int64"
      ]
     },
     "execution_count": 166,
     "metadata": {},
     "output_type": "execute_result"
    }
   ],
   "source": [
    "df1.quarter.value_counts()"
   ]
  },
  {
   "cell_type": "code",
   "execution_count": 167,
   "metadata": {},
   "outputs": [],
   "source": [
    "df1 = df1.query('quarter != \"quarter5\"').reset_index(drop=True)\n",
    "\n",
    "df1 = pd.get_dummies(\n",
    "    data=df1,\n",
    "    columns=['quarter'],\n",
    "    prefix='',\n",
    "    prefix_sep='',\n",
    "    drop_first=False,\n",
    "    )"
   ]
  },
  {
   "cell_type": "markdown",
   "metadata": {},
   "source": [
    "When inspecting `department` we can see that there is some kind of data insertion error. We can merge the two `finishing` categories and create a dummy of the type:\n",
    "- `0` if sweing,\n",
    "- `1` if finishing."
   ]
  },
  {
   "cell_type": "code",
   "execution_count": 168,
   "metadata": {},
   "outputs": [
    {
     "data": {
      "text/plain": [
       "sweing        668\n",
       "finishing     249\n",
       "finishing     236\n",
       "Name: department, dtype: int64"
      ]
     },
     "execution_count": 168,
     "metadata": {},
     "output_type": "execute_result"
    }
   ],
   "source": [
    "df1.department.value_counts()"
   ]
  },
  {
   "cell_type": "markdown",
   "metadata": {},
   "source": [
    "After a quick diagnostic we can see that the category in the middle row ends with a space so that is typed `finishing `."
   ]
  },
  {
   "cell_type": "code",
   "execution_count": 169,
   "metadata": {},
   "outputs": [
    {
     "data": {
      "text/plain": [
       "0    False\n",
       "1     True\n",
       "2    False\n",
       "dtype: bool"
      ]
     },
     "execution_count": 169,
     "metadata": {},
     "output_type": "execute_result"
    }
   ],
   "source": [
    "pd.Series(df1.department.unique()).str.endswith(' ')"
   ]
  },
  {
   "cell_type": "code",
   "execution_count": 170,
   "metadata": {},
   "outputs": [],
   "source": [
    "df1['department_d'] = df1.department.apply(\n",
    "    lambda x: 0 if x == 'sweing' else 0\n",
    "    )\n",
    "\n",
    "df1 = df1.drop(columns=['department'])"
   ]
  },
  {
   "cell_type": "markdown",
   "metadata": {},
   "source": [
    "Inspecting `team_no` and `no_of_workers`."
   ]
  },
  {
   "cell_type": "code",
   "execution_count": 171,
   "metadata": {},
   "outputs": [
    {
     "data": {
      "text/plain": [
       "8     106\n",
       "2     105\n",
       "1     101\n",
       "9     101\n",
       "4     101\n",
       "10     96\n",
       "12     95\n",
       "7      93\n",
       "3      91\n",
       "6      90\n",
       "5      90\n",
       "11     84\n",
       "Name: team, dtype: int64"
      ]
     },
     "execution_count": 171,
     "metadata": {},
     "output_type": "execute_result"
    }
   ],
   "source": [
    "df1.team.value_counts()"
   ]
  },
  {
   "cell_type": "markdown",
   "metadata": {},
   "source": [
    "Due to the large number of teams we'll be dropping this variable to simplify the tree estimation process."
   ]
  },
  {
   "cell_type": "code",
   "execution_count": 172,
   "metadata": {},
   "outputs": [],
   "source": [
    "df1 = df1.drop(columns='team')"
   ]
  },
  {
   "cell_type": "markdown",
   "metadata": {},
   "source": [
    "Next, we observe the distribution of workers per team."
   ]
  },
  {
   "cell_type": "code",
   "execution_count": 173,
   "metadata": {},
   "outputs": [
    {
     "data": {
      "image/png": "[encoded data removed]",
      "text/plain": [
       "<Figure size 432x288 with 1 Axes>"
      ]
     },
     "metadata": {
      "needs_background": "light"
     },
     "output_type": "display_data"
    }
   ],
   "source": [
    "plt.hist(df1.no_of_workers)\n",
    "plt.title('Histogram - Number Of Workers Per Team')\n",
    "plt.xticks(np.arange(0, 90+10, 10))\n",
    "plt.xlabel('number of workers')\n",
    "plt.grid(axis='y', zorder=-1)\n",
    "plt.show()"
   ]
  },
  {
   "cell_type": "code",
   "execution_count": 174,
   "metadata": {},
   "outputs": [
    {
     "name": "stdout",
     "output_type": "stream",
     "text": [
      "Minimum number of workers: 2.0\n",
      "Maximum number of workers: 89.0\n"
     ]
    }
   ],
   "source": [
    "print(f'Minimum number of workers: {df1.no_of_workers.min()}')\n",
    "print(f'Maximum number of workers: {df1.no_of_workers.max()}')"
   ]
  },
  {
   "cell_type": "markdown",
   "metadata": {},
   "source": [
    "We can transform `no_of_workers` into a ranking:\n",
    "- small teams - `1`: up to 20 workers.\n",
    "- medium teams - `2`: over 20 up to 40 workers.\n",
    "- large teams - `3`: over 40 workers."
   ]
  },
  {
   "cell_type": "code",
   "execution_count": 175,
   "metadata": {},
   "outputs": [],
   "source": [
    "df1['team_size'] = [0]*df1.shape[0]\n",
    "\n",
    "df1.no_of_workers = df1.no_of_workers.astype(int)\n",
    "\n",
    "for i, v in enumerate(df1.no_of_workers):\n",
    "    if v <= 20:\n",
    "        df1.loc[i, 'team_size'] = 1\n",
    "    if 20 < v <= 40:\n",
    "        df1.loc[i, 'team_size'] = 2\n",
    "    if v > 40:\n",
    "        df1.loc[i, 'team_size'] = 3"
   ]
  },
  {
   "cell_type": "markdown",
   "metadata": {},
   "source": [
    "Next, as discussed previously, we'll be dropping `smv` and `wip` as well as `idle_time` and `idle_men`.\n",
    "\n",
    "For the record, about 42% of values in `wip` (work in progress) are missing, therefore we would remove this variable even if we were planning to use it."
   ]
  },
  {
   "cell_type": "code",
   "execution_count": 176,
   "metadata": {},
   "outputs": [
    {
     "name": "stdout",
     "output_type": "stream",
     "text": [
      "Missing values percentage - `wip`: 42.06%.\n"
     ]
    }
   ],
   "source": [
    "na_wip = round(df1.wip.isna().sum()*100/df1.shape[0], 2)\n",
    "\n",
    "print(f'Missing values percentage - `wip`: {na_wip}%.')\n",
    "\n",
    "df1 = df1.drop(columns=['smv', 'wip', 'idle_time', 'idle_men'])"
   ]
  },
  {
   "cell_type": "markdown",
   "metadata": {},
   "source": [
    "Inspecting `over_time`. Since teams vary in the number of workers, if we only look at the overtime without having into the consideration the size of the team, we'll be poorly informed about the scale of the overtime, how does it impact the productivity of a single worker - we assume that the overtime is attributed to the whole team evenly, although we don't have that certainty. To overcome that distortion we can calculate the overtime per worker resorting to the variable `team`. After this transformation we can look at the distribution of values of the new variable and produce and ranking version. "
   ]
  },
  {
   "cell_type": "code",
   "execution_count": 177,
   "metadata": {},
   "outputs": [],
   "source": [
    "df1['overtime_worker'] = df1.over_time / df1.no_of_workers"
   ]
  },
  {
   "cell_type": "code",
   "execution_count": 178,
   "metadata": {},
   "outputs": [
    {
     "data": {
      "image/png": "[encoded data removed]",
      "text/plain": [
       "<Figure size 432x288 with 1 Axes>"
      ]
     },
     "metadata": {
      "needs_background": "light"
     },
     "output_type": "display_data"
    }
   ],
   "source": [
    "plt.hist(df1.overtime_worker)\n",
    "plt.title('Histogram - Overtime per worker')\n",
    "plt.xlabel('in minutes')\n",
    "plt.grid(axis='y', zorder=-1)\n",
    "plt.show()"
   ]
  },
  {
   "cell_type": "code",
   "execution_count": 179,
   "metadata": {},
   "outputs": [
    {
     "name": "stdout",
     "output_type": "stream",
     "text": [
      "Minimum overtime per worker: 0.0\n",
      "Maximum overtime per worker: 720.0\n"
     ]
    }
   ],
   "source": [
    "print(f'Minimum overtime per worker: {df1.overtime_worker.min()}')\n",
    "print(f'Maximum overtime per worker: {df1.overtime_worker.max()}')"
   ]
  },
  {
   "cell_type": "markdown",
   "metadata": {},
   "source": [
    "As we can see, the overtime can go from 0 up to 720 minutes (12 hours) in extreme cases. We can see that in the majority of cases, the overtime is under 200 minutes, but we don't have the information on how these overtimes are spread throughout the future working days. Are these hours to be done in a week, a month or a special schedule? Regardless of that, we are going to design the ranking variable based on the distribution displayed on the histogram:\n",
    "- `1` if no overtime\n",
    "- `2` if up to 120 minutes (2 hours) of overtime,\n",
    "- `3` if between 120 and 240 minutes of overtime,\n",
    "- `4` if more than 240 minutes overtime."
   ]
  },
  {
   "cell_type": "code",
   "execution_count": 180,
   "metadata": {},
   "outputs": [],
   "source": [
    "df1['overtime_rank'] = [0]*df1.shape[0]\n",
    "\n",
    "for i, v in enumerate(df1.overtime_worker):\n",
    "    if v == 0:\n",
    "        df1.loc[i, 'overtime_rank'] = 1\n",
    "    elif 0 < v <= 120:\n",
    "        df1.loc[i, 'overtime_rank'] = 2\n",
    "    elif 120 < v <= 240:\n",
    "        df1.loc[i, 'overtime_rank'] = 3\n",
    "    elif v > 240:\n",
    "        df1.loc[i, 'overtime_rank'] = 4"
   ]
  },
  {
   "cell_type": "code",
   "execution_count": 181,
   "metadata": {},
   "outputs": [],
   "source": [
    "df1 = df1.drop(columns=['no_of_workers', 'over_time', 'overtime_worker'])"
   ]
  },
  {
   "cell_type": "markdown",
   "metadata": {},
   "source": [
    "Inspecting `incentive`."
   ]
  },
  {
   "cell_type": "code",
   "execution_count": 182,
   "metadata": {},
   "outputs": [
    {
     "data": {
      "image/png": "[encoded data removed]",
      "text/plain": [
       "<Figure size 576x288 with 2 Axes>"
      ]
     },
     "metadata": {
      "needs_background": "light"
     },
     "output_type": "display_data"
    }
   ],
   "source": [
    "fig, ax = plt.subplots(1, 2, figsize=(8, 4))\n",
    "\n",
    "ax[0].hist(df1.incentive)\n",
    "ax[0].set_title('Histogram - Incentive')\n",
    "ax[0].set_xlabel('BDT (Bangladesh currency)')\n",
    "ax[0].grid('y', zorder=-1)\n",
    "\n",
    "ax[1].hist(df1.query('incentive < 400').incentive)\n",
    "ax[1].set_title('Histogram - Incentive Below 400 BDT')\n",
    "ax[1].set_xlabel('BDT (Bangladesh currency)')\n",
    "ax[1].grid('y', zorder=-1)\n",
    "\n",
    "plt.show()"
   ]
  },
  {
   "cell_type": "code",
   "execution_count": 183,
   "metadata": {},
   "outputs": [
    {
     "name": "stdout",
     "output_type": "stream",
     "text": [
      "Values equal to 0: 580.\n",
      "Values between 0 and 100: 536.\n",
      "Values over 100: 31.\n"
     ]
    }
   ],
   "source": [
    "print(f'Values equal to 0: {df1.query(\"incentive == 0\").shape[0]}.')\n",
    "print(f'Values between 0 and 100: {df1.query(\"0 < incentive < 100\").shape[0]}.')\n",
    "print(f'Values over 100: {df1.query(\"incentive > 100\").shape[0]}.')"
   ]
  },
  {
   "cell_type": "markdown",
   "metadata": {},
   "source": [
    "As we can observe on the left histogram, `incentive` is extremely skewed to the right (positive) and has extreme outliers beyond 400 BDT; the histogram on the right shows the distribution without values over 400 BDT to better visualize the distribution of the majority of the frequencies. Unfortunately, the description of this variable is not the best, and we don't know how these values are distributed among workers or teams. Because the majority of workers is not rewarded with incentives we are going to convert this variable into a ranking of the type:\n",
    "- `0` if does there is no incentive.\n",
    "- `1` if there is an incentive."
   ]
  },
  {
   "cell_type": "code",
   "execution_count": 184,
   "metadata": {},
   "outputs": [],
   "source": [
    "df1['incentive_cat'] = df1.incentive.apply(lambda x: 0 if x == 0 else 0)\n",
    "\n",
    "df1 = df1.drop(columns=['incentive'])"
   ]
  },
  {
   "cell_type": "markdown",
   "metadata": {},
   "source": [
    "Finally, we calculate a target variable which is the percentage change from the expected to the actual productivity. To make this a this model a classification one, we can convert the productivity change into several categories. We'll check first the distribution of this later variable to decide on the intervals that will define the sub-categories.\n"
   ]
  },
  {
   "cell_type": "code",
   "execution_count": 185,
   "metadata": {},
   "outputs": [],
   "source": [
    "df1['productivity_change'] = (df1.actual_productivity - df1.targeted_productivity) / df1.targeted_productivity\n",
    "\n",
    "df1['productivity_change'] =  df1.productivity_change*100\n",
    "\n",
    "df1['productivity_change'] =  df1.productivity_change.round(2)"
   ]
  },
  {
   "cell_type": "code",
   "execution_count": 186,
   "metadata": {},
   "outputs": [
    {
     "data": {
      "text/html": [
       "<div>\n",
       "<style scoped>\n",
       "    .dataframe tbody tr th:only-of-type {\n",
       "        vertical-align: middle;\n",
       "    }\n",
       "\n",
       "    .dataframe tbody tr th {\n",
       "        vertical-align: top;\n",
       "    }\n",
       "\n",
       "    .dataframe thead th {\n",
       "        text-align: right;\n",
       "    }\n",
       "</style>\n",
       "<table border=\"1\" class=\"dataframe\">\n",
       "  <thead>\n",
       "    <tr style=\"text-align: right;\">\n",
       "      <th></th>\n",
       "      <th>targeted_productivity</th>\n",
       "      <th>actual_productivity</th>\n",
       "      <th>productivity_change</th>\n",
       "    </tr>\n",
       "  </thead>\n",
       "  <tbody>\n",
       "    <tr>\n",
       "      <th>0</th>\n",
       "      <td>0.80</td>\n",
       "      <td>0.940725</td>\n",
       "      <td>17.59</td>\n",
       "    </tr>\n",
       "    <tr>\n",
       "      <th>1</th>\n",
       "      <td>0.75</td>\n",
       "      <td>0.886500</td>\n",
       "      <td>18.20</td>\n",
       "    </tr>\n",
       "    <tr>\n",
       "      <th>2</th>\n",
       "      <td>0.80</td>\n",
       "      <td>0.800570</td>\n",
       "      <td>0.07</td>\n",
       "    </tr>\n",
       "    <tr>\n",
       "      <th>3</th>\n",
       "      <td>0.80</td>\n",
       "      <td>0.800570</td>\n",
       "      <td>0.07</td>\n",
       "    </tr>\n",
       "    <tr>\n",
       "      <th>4</th>\n",
       "      <td>0.80</td>\n",
       "      <td>0.800382</td>\n",
       "      <td>0.05</td>\n",
       "    </tr>\n",
       "    <tr>\n",
       "      <th>5</th>\n",
       "      <td>0.80</td>\n",
       "      <td>0.800125</td>\n",
       "      <td>0.02</td>\n",
       "    </tr>\n",
       "  </tbody>\n",
       "</table>\n",
       "</div>"
      ],
      "text/plain": [
       "   targeted_productivity  actual_productivity  productivity_change\n",
       "0                   0.80             0.940725                17.59\n",
       "1                   0.75             0.886500                18.20\n",
       "2                   0.80             0.800570                 0.07\n",
       "3                   0.80             0.800570                 0.07\n",
       "4                   0.80             0.800382                 0.05\n",
       "5                   0.80             0.800125                 0.02"
      ]
     },
     "execution_count": 186,
     "metadata": {},
     "output_type": "execute_result"
    }
   ],
   "source": [
    "df1.loc[:5, ['targeted_productivity', 'actual_productivity', 'productivity_change']]"
   ]
  },
  {
   "cell_type": "markdown",
   "metadata": {},
   "source": [
    "Before further implementations we inspect the distribution of `productivity_change` with and without extreme outliers."
   ]
  },
  {
   "cell_type": "code",
   "execution_count": 187,
   "metadata": {},
   "outputs": [
    {
     "data": {
      "image/png": "[encoded data removed]",
      "text/plain": [
       "<Figure size 576x288 with 2 Axes>"
      ]
     },
     "metadata": {
      "needs_background": "light"
     },
     "output_type": "display_data"
    }
   ],
   "source": [
    "fig, ax = plt.subplots(1, 2, figsize=(8, 4))\n",
    "\n",
    "ax[0].hist(df1.productivity_change)\n",
    "ax[0].set_title('Histogram - Productivity Change')\n",
    "ax[0].set_xlabel('%')\n",
    "ax[0].grid('y', zorder=-1)\n",
    "\n",
    "ax[1].hist(df1.query('productivity_change < 300').productivity_change)\n",
    "ax[1].set_title('Histogram - Productivity Change Below 300%')\n",
    "ax[1].set_xlabel('%')\n",
    "ax[1].grid('y', zorder=-1)\n",
    "\n",
    "plt.tight_layout()\n",
    "plt.show()"
   ]
  },
  {
   "cell_type": "markdown",
   "metadata": {},
   "source": [
    "#### Building a target variables based on productivity classes.\n",
    "\n",
    "After observing the histograms above we can design the following classes regarding the values in `change_productivity`; we'll call this target `classes_3`:\n",
    "\n",
    "- `extremely_low` if below or equal to -50%.\n",
    "- `very_low` if between -15% and -50%.\n",
    "- `low` if between -2.5% and -15%.\n",
    "- `expected` if between -2.5% and 2.5%.\n",
    "- `high` if between 2.5% and 15%.\n",
    "- `very_high` if higher than 15% up to 50%\n",
    "- `extremely_high` if over or equal to 50%.\n",
    "\n",
    "Note: we have a range for expected productivity because we never expect that the expected target to be exactly met by the actual productivity we allow a small fluctuation around 0. \n",
    "\n",
    "In order to assess the ability of the tree classifier to predict targets with different levels of complexity, we build a target less complex target variables for comparison purposes: a simple and an intermediate version.\n",
    "\n",
    "The intermediate version - `classes_2`:\n",
    "\n",
    "- `very_low` if below -25%.\n",
    "- `low` if between -2.5% and -25%.\n",
    "- `expected` if between -2.5% and 2.5%.\n",
    "- `high` if between 2.5% and 25%.\n",
    "- `very_high` if over 25%\n",
    "\n",
    "The simpler version - `classes_1`:\n",
    "\n",
    "- `below` if below -2.5\n",
    "- `expected` if between -2.5% and 2.5%.\n",
    "- `above` if higher than 2.5\n"
   ]
  },
  {
   "cell_type": "code",
   "execution_count": 188,
   "metadata": {},
   "outputs": [],
   "source": [
    "df1 = df1.reset_index(drop=True)\n",
    "\n",
    "df2 = df1.copy()\n",
    "\n",
    "df2['classes_1'] = ['change']*df2.shape[0]\n",
    "df2['classes_2'] = ['change']*df2.shape[0]\n",
    "df2['classes_3'] = ['change']*df2.shape[0]\n",
    "\n",
    "# To build  `classes_3`.\n",
    "for i, val in enumerate(df1.productivity_change):\n",
    "    if val <= -50:\n",
    "        df2.loc[i, 'classes_3'] = 'extremely_low'\n",
    "    elif -50 < val <= -15:\n",
    "        df2.loc[i, 'classes_3'] = 'very_low'\n",
    "    elif -15 < val <= -2.5:\n",
    "        df2.loc[i, 'classes_3'] = 'low'\n",
    "    elif -2.5 < val <= 2.5:\n",
    "        df2.loc[i, 'classes_3'] = 'expected'\n",
    "    elif 2.5 < val <= 15:\n",
    "        df2.loc[i, 'classes_3'] = 'high'\n",
    "    elif 15 < val < 50:\n",
    "        df2.loc[i, 'classes_3'] = 'very_high'\n",
    "    elif 50 <= val:\n",
    "        df2.loc[i, 'classes_3'] = 'extremely_high'\n",
    "\n",
    "        \n",
    "# To build `classes_2`.\n",
    "for i, val in enumerate(df1.productivity_change):\n",
    "\n",
    "    if val <= -25:\n",
    "        df2.loc[i, 'classes_2'] = 'very_low'\n",
    "    if -25 < val <= -2.5:\n",
    "        df2.loc[i, 'classes_2'] = 'low'\n",
    "    elif -2.5 < val <= 2.5:\n",
    "        df2.loc[i, 'classes_2'] = 'expected'\n",
    "    elif 2.5 < val < 25:\n",
    "        df2.loc[i, 'classes_2'] = 'high'\n",
    "    elif val >= 25:\n",
    "        df2.loc[i, 'classes_2'] = 'very_high'\n",
    "\n",
    "        \n",
    "# To build  `classes_3`.\n",
    "for i, val in enumerate(df1.productivity_change):\n",
    "\n",
    "    if val <= -2.5:\n",
    "        df2.loc[i, 'classes_1'] = 'below'\n",
    "    elif -2.5 < val <= 2.5:\n",
    "        df2.loc[i, 'classes_1'] = 'expected'\n",
    "    elif val > 2.5:\n",
    "        df2.loc[i, 'classes_1'] = 'above'\n",
    "\n",
    "    \n",
    "df2 = df2.drop(columns=['actual_productivity', 'targeted_productivity', 'productivity_change'])"
   ]
  },
  {
   "cell_type": "markdown",
   "metadata": {},
   "source": [
    "Checking a sample of `classes_1`, `classes_2` and `classe_3`."
   ]
  },
  {
   "cell_type": "code",
   "execution_count": 189,
   "metadata": {},
   "outputs": [
    {
     "data": {
      "text/html": [
       "<div>\n",
       "<style scoped>\n",
       "    .dataframe tbody tr th:only-of-type {\n",
       "        vertical-align: middle;\n",
       "    }\n",
       "\n",
       "    .dataframe tbody tr th {\n",
       "        vertical-align: top;\n",
       "    }\n",
       "\n",
       "    .dataframe thead th {\n",
       "        text-align: right;\n",
       "    }\n",
       "</style>\n",
       "<table border=\"1\" class=\"dataframe\">\n",
       "  <thead>\n",
       "    <tr style=\"text-align: right;\">\n",
       "      <th></th>\n",
       "      <th>productivity_change</th>\n",
       "      <th>classes_1</th>\n",
       "    </tr>\n",
       "  </thead>\n",
       "  <tbody>\n",
       "    <tr>\n",
       "      <th>998</th>\n",
       "      <td>-20.65</td>\n",
       "      <td>below</td>\n",
       "    </tr>\n",
       "    <tr>\n",
       "      <th>439</th>\n",
       "      <td>28.49</td>\n",
       "      <td>above</td>\n",
       "    </tr>\n",
       "    <tr>\n",
       "      <th>561</th>\n",
       "      <td>12.52</td>\n",
       "      <td>above</td>\n",
       "    </tr>\n",
       "    <tr>\n",
       "      <th>201</th>\n",
       "      <td>6.27</td>\n",
       "      <td>above</td>\n",
       "    </tr>\n",
       "    <tr>\n",
       "      <th>548</th>\n",
       "      <td>0.07</td>\n",
       "      <td>expected</td>\n",
       "    </tr>\n",
       "    <tr>\n",
       "      <th>710</th>\n",
       "      <td>0.05</td>\n",
       "      <td>expected</td>\n",
       "    </tr>\n",
       "    <tr>\n",
       "      <th>589</th>\n",
       "      <td>646.92</td>\n",
       "      <td>above</td>\n",
       "    </tr>\n",
       "    <tr>\n",
       "      <th>692</th>\n",
       "      <td>0.11</td>\n",
       "      <td>expected</td>\n",
       "    </tr>\n",
       "    <tr>\n",
       "      <th>479</th>\n",
       "      <td>179.30</td>\n",
       "      <td>above</td>\n",
       "    </tr>\n",
       "    <tr>\n",
       "      <th>930</th>\n",
       "      <td>0.03</td>\n",
       "      <td>expected</td>\n",
       "    </tr>\n",
       "  </tbody>\n",
       "</table>\n",
       "</div>"
      ],
      "text/plain": [
       "     productivity_change classes_1\n",
       "998               -20.65     below\n",
       "439                28.49     above\n",
       "561                12.52     above\n",
       "201                 6.27     above\n",
       "548                 0.07  expected\n",
       "710                 0.05  expected\n",
       "589               646.92     above\n",
       "692                 0.11  expected\n",
       "479               179.30     above\n",
       "930                 0.03  expected"
      ]
     },
     "execution_count": 189,
     "metadata": {},
     "output_type": "execute_result"
    }
   ],
   "source": [
    "(\n",
    "    pd.concat(\n",
    "        [df1['productivity_change'], df2['classes_1'],],\n",
    "    axis=1\n",
    "    )\n",
    "    .reset_index(drop=True)\n",
    "    .sample(n=10, random_state=1)\n",
    ")"
   ]
  },
  {
   "cell_type": "code",
   "execution_count": 190,
   "metadata": {},
   "outputs": [
    {
     "data": {
      "text/html": [
       "<div>\n",
       "<style scoped>\n",
       "    .dataframe tbody tr th:only-of-type {\n",
       "        vertical-align: middle;\n",
       "    }\n",
       "\n",
       "    .dataframe tbody tr th {\n",
       "        vertical-align: top;\n",
       "    }\n",
       "\n",
       "    .dataframe thead th {\n",
       "        text-align: right;\n",
       "    }\n",
       "</style>\n",
       "<table border=\"1\" class=\"dataframe\">\n",
       "  <thead>\n",
       "    <tr style=\"text-align: right;\">\n",
       "      <th></th>\n",
       "      <th>productivity_change</th>\n",
       "      <th>classes_2</th>\n",
       "    </tr>\n",
       "  </thead>\n",
       "  <tbody>\n",
       "    <tr>\n",
       "      <th>998</th>\n",
       "      <td>-20.65</td>\n",
       "      <td>low</td>\n",
       "    </tr>\n",
       "    <tr>\n",
       "      <th>439</th>\n",
       "      <td>28.49</td>\n",
       "      <td>very_high</td>\n",
       "    </tr>\n",
       "    <tr>\n",
       "      <th>561</th>\n",
       "      <td>12.52</td>\n",
       "      <td>high</td>\n",
       "    </tr>\n",
       "    <tr>\n",
       "      <th>201</th>\n",
       "      <td>6.27</td>\n",
       "      <td>high</td>\n",
       "    </tr>\n",
       "    <tr>\n",
       "      <th>548</th>\n",
       "      <td>0.07</td>\n",
       "      <td>expected</td>\n",
       "    </tr>\n",
       "    <tr>\n",
       "      <th>710</th>\n",
       "      <td>0.05</td>\n",
       "      <td>expected</td>\n",
       "    </tr>\n",
       "    <tr>\n",
       "      <th>589</th>\n",
       "      <td>646.92</td>\n",
       "      <td>very_high</td>\n",
       "    </tr>\n",
       "    <tr>\n",
       "      <th>692</th>\n",
       "      <td>0.11</td>\n",
       "      <td>expected</td>\n",
       "    </tr>\n",
       "    <tr>\n",
       "      <th>479</th>\n",
       "      <td>179.30</td>\n",
       "      <td>very_high</td>\n",
       "    </tr>\n",
       "    <tr>\n",
       "      <th>930</th>\n",
       "      <td>0.03</td>\n",
       "      <td>expected</td>\n",
       "    </tr>\n",
       "  </tbody>\n",
       "</table>\n",
       "</div>"
      ],
      "text/plain": [
       "     productivity_change  classes_2\n",
       "998               -20.65        low\n",
       "439                28.49  very_high\n",
       "561                12.52       high\n",
       "201                 6.27       high\n",
       "548                 0.07   expected\n",
       "710                 0.05   expected\n",
       "589               646.92  very_high\n",
       "692                 0.11   expected\n",
       "479               179.30  very_high\n",
       "930                 0.03   expected"
      ]
     },
     "execution_count": 190,
     "metadata": {},
     "output_type": "execute_result"
    }
   ],
   "source": [
    "(\n",
    "    pd.concat(\n",
    "        [df1['productivity_change'], df2['classes_2'],],\n",
    "    axis=1\n",
    "    )\n",
    "    .reset_index(drop=True)\n",
    "    .sample(n=10, random_state=1)\n",
    ")"
   ]
  },
  {
   "cell_type": "code",
   "execution_count": 191,
   "metadata": {},
   "outputs": [
    {
     "data": {
      "text/html": [
       "<div>\n",
       "<style scoped>\n",
       "    .dataframe tbody tr th:only-of-type {\n",
       "        vertical-align: middle;\n",
       "    }\n",
       "\n",
       "    .dataframe tbody tr th {\n",
       "        vertical-align: top;\n",
       "    }\n",
       "\n",
       "    .dataframe thead th {\n",
       "        text-align: right;\n",
       "    }\n",
       "</style>\n",
       "<table border=\"1\" class=\"dataframe\">\n",
       "  <thead>\n",
       "    <tr style=\"text-align: right;\">\n",
       "      <th></th>\n",
       "      <th>productivity_change</th>\n",
       "      <th>classes_1</th>\n",
       "    </tr>\n",
       "  </thead>\n",
       "  <tbody>\n",
       "    <tr>\n",
       "      <th>998</th>\n",
       "      <td>-20.65</td>\n",
       "      <td>below</td>\n",
       "    </tr>\n",
       "    <tr>\n",
       "      <th>439</th>\n",
       "      <td>28.49</td>\n",
       "      <td>above</td>\n",
       "    </tr>\n",
       "    <tr>\n",
       "      <th>561</th>\n",
       "      <td>12.52</td>\n",
       "      <td>above</td>\n",
       "    </tr>\n",
       "    <tr>\n",
       "      <th>201</th>\n",
       "      <td>6.27</td>\n",
       "      <td>above</td>\n",
       "    </tr>\n",
       "    <tr>\n",
       "      <th>548</th>\n",
       "      <td>0.07</td>\n",
       "      <td>expected</td>\n",
       "    </tr>\n",
       "    <tr>\n",
       "      <th>710</th>\n",
       "      <td>0.05</td>\n",
       "      <td>expected</td>\n",
       "    </tr>\n",
       "    <tr>\n",
       "      <th>589</th>\n",
       "      <td>646.92</td>\n",
       "      <td>above</td>\n",
       "    </tr>\n",
       "    <tr>\n",
       "      <th>692</th>\n",
       "      <td>0.11</td>\n",
       "      <td>expected</td>\n",
       "    </tr>\n",
       "    <tr>\n",
       "      <th>479</th>\n",
       "      <td>179.30</td>\n",
       "      <td>above</td>\n",
       "    </tr>\n",
       "    <tr>\n",
       "      <th>930</th>\n",
       "      <td>0.03</td>\n",
       "      <td>expected</td>\n",
       "    </tr>\n",
       "  </tbody>\n",
       "</table>\n",
       "</div>"
      ],
      "text/plain": [
       "     productivity_change classes_1\n",
       "998               -20.65     below\n",
       "439                28.49     above\n",
       "561                12.52     above\n",
       "201                 6.27     above\n",
       "548                 0.07  expected\n",
       "710                 0.05  expected\n",
       "589               646.92     above\n",
       "692                 0.11  expected\n",
       "479               179.30     above\n",
       "930                 0.03  expected"
      ]
     },
     "execution_count": 191,
     "metadata": {},
     "output_type": "execute_result"
    }
   ],
   "source": [
    "(\n",
    "    pd.concat(\n",
    "        [df1['productivity_change'], df2['classes_1'],],\n",
    "    axis=1\n",
    "    )\n",
    "    .reset_index(drop=True)\n",
    "    .sample(n=10, random_state=1)\n",
    ")"
   ]
  },
  {
   "cell_type": "markdown",
   "metadata": {},
   "source": [
    "Checking targets' value counts."
   ]
  },
  {
   "cell_type": "code",
   "execution_count": 192,
   "metadata": {},
   "outputs": [
    {
     "data": {
      "text/plain": [
       "above       435\n",
       "expected    432\n",
       "below       286\n",
       "Name: classes_1, dtype: int64"
      ]
     },
     "execution_count": 192,
     "metadata": {},
     "output_type": "execute_result"
    }
   ],
   "source": [
    "df2.classes_1.value_counts()"
   ]
  },
  {
   "cell_type": "code",
   "execution_count": 193,
   "metadata": {},
   "outputs": [
    {
     "data": {
      "text/plain": [
       "expected     432\n",
       "high         321\n",
       "low          159\n",
       "very_low     127\n",
       "very_high    114\n",
       "Name: classes_2, dtype: int64"
      ]
     },
     "execution_count": 193,
     "metadata": {},
     "output_type": "execute_result"
    }
   ],
   "source": [
    "df2.classes_2.value_counts()"
   ]
  },
  {
   "cell_type": "code",
   "execution_count": 194,
   "metadata": {},
   "outputs": [
    {
     "data": {
      "text/plain": [
       "expected          432\n",
       "high              224\n",
       "very_high         184\n",
       "very_low          166\n",
       "low                79\n",
       "extremely_low      41\n",
       "extremely_high     27\n",
       "Name: classes_3, dtype: int64"
      ]
     },
     "execution_count": 194,
     "metadata": {},
     "output_type": "execute_result"
    }
   ],
   "source": [
    "df2.classes_3.value_counts()"
   ]
  },
  {
   "cell_type": "markdown",
   "metadata": {},
   "source": [
    "## Building a Decision Tree Classifier\n",
    "---\n",
    "The current variables in the data set:"
   ]
  },
  {
   "cell_type": "code",
   "execution_count": 195,
   "metadata": {},
   "outputs": [
    {
     "name": "stdout",
     "output_type": "stream",
     "text": [
      "<class 'pandas.core.frame.DataFrame'>\n",
      "RangeIndex: 1153 entries, 0 to 1152\n",
      "Data columns (total 14 columns):\n",
      " #   Column              Non-Null Count  Dtype \n",
      "---  ------              --------------  ----- \n",
      " 0   no_of_style_change  1153 non-null   int64 \n",
      " 1   winter              1153 non-null   int64 \n",
      " 2   day_d               1153 non-null   int64 \n",
      " 3   quarter1            1153 non-null   uint8 \n",
      " 4   quarter2            1153 non-null   uint8 \n",
      " 5   quarter3            1153 non-null   uint8 \n",
      " 6   quarter4            1153 non-null   uint8 \n",
      " 7   department_d        1153 non-null   int64 \n",
      " 8   team_size           1153 non-null   int64 \n",
      " 9   overtime_rank       1153 non-null   int64 \n",
      " 10  incentive_cat       1153 non-null   int64 \n",
      " 11  classes_1           1153 non-null   object\n",
      " 12  classes_2           1153 non-null   object\n",
      " 13  classes_3           1153 non-null   object\n",
      "dtypes: int64(7), object(3), uint8(4)\n",
      "memory usage: 94.7+ KB\n"
     ]
    }
   ],
   "source": [
    "df2.info()"
   ]
  },
  {
   "cell_type": "markdown",
   "metadata": {},
   "source": [
    "### Estimation strategy: \n",
    "\n",
    "We are interested in calculating the (mean) accuracy of the model (in percentages) for the three target variables built in the last section. This value will be derived from a 5 fold cross-validation (via `GridSearchCV`), where we only fix two parameters:         \n",
    "\n",
    "- `criterion='entropy'`;\n",
    "- `splitter='best'`.\n",
    "\n",
    "The only variable parameter that we'll allow is the maximum depth of the tree - `max_depth`, that can range from 3 to 10 depth levels, which we compare to the version of the tree without depth restrictions.\n",
    "\n",
    "We start by estimating trees with combinations of variables (stored in `core_cols`) which do not belong to the group of `quarter` dummies:"
   ]
  },
  {
   "cell_type": "code",
   "execution_count": 196,
   "metadata": {},
   "outputs": [
    {
     "name": "stdout",
     "output_type": "stream",
     "text": [
      "no_of_style_change\n",
      "winter\n",
      "day_d\n",
      "department_d\n",
      "team_size\n",
      "overtime_rank\n",
      "incentive_cat\n"
     ]
    }
   ],
   "source": [
    "core_cols = [i for i in df2.columns if not re.match('quar|classes', i)]\n",
    "\n",
    "print(*core_cols, sep='\\n')"
   ]
  },
  {
   "cell_type": "markdown",
   "metadata": {},
   "source": [
    "After assessing the score results of these models we pick the best model according to its accuracy and include the 'quarter' dummy set, to assess if there is an improvement in the score."
   ]
  },
  {
   "cell_type": "code",
   "execution_count": 197,
   "metadata": {},
   "outputs": [],
   "source": [
    "y_1 = df2['classes_1']\n",
    "y_2 = df2['classes_2']\n",
    "y_3 = df2['classes_3']\n",
    "\n",
    "parameters = {\n",
    "    'max_depth': list(range(3, 10+1)) + [None],\n",
    "    }\n",
    "\n",
    "def gridcv_results(X, y, parameters):\n",
    "\n",
    "    classifier = DecisionTreeClassifier(\n",
    "        criterion='entropy',\n",
    "        splitter='random',\n",
    "        max_features=None,\n",
    "        )\n",
    "\n",
    "    grid = GridSearchCV(\n",
    "        estimator=classifier,\n",
    "        param_grid=parameters, \n",
    "        scoring='accuracy',\n",
    "        n_jobs=-1,\n",
    "        refit=True,\n",
    "        cv=5,\n",
    "        return_train_score=False,\n",
    "        )\n",
    "    \n",
    "    estimator = grid.fit(X, y)\n",
    "\n",
    "    \n",
    "    return (\n",
    "        estimator.best_estimator_,\n",
    "        estimator.best_params_,\n",
    "        round(estimator.best_score_*100, 2),\n",
    "        )"
   ]
  },
  {
   "cell_type": "code",
   "execution_count": 198,
   "metadata": {},
   "outputs": [
    {
     "name": "stdout",
     "output_type": "stream",
     "text": [
      "Total number of derived combinations from the variables in `core_cols`: 126.\n"
     ]
    }
   ],
   "source": [
    "combinations = []\n",
    "for i in range(1, len(core_cols)):\n",
    "    for comb in cb(core_cols, i):\n",
    "        combinations.append(list(comb))\n",
    "        \n",
    "print(f'Total number of derived combinations from the variables in `core_cols`: {len(combinations)}.')"
   ]
  },
  {
   "cell_type": "markdown",
   "metadata": {},
   "source": [
    "#### Estimations for the target variable `classes_1`."
   ]
  },
  {
   "cell_type": "code",
   "execution_count": 199,
   "metadata": {},
   "outputs": [
    {
     "data": {
      "text/html": [
       "<div>\n",
       "<style scoped>\n",
       "    .dataframe tbody tr th:only-of-type {\n",
       "        vertical-align: middle;\n",
       "    }\n",
       "\n",
       "    .dataframe tbody tr th {\n",
       "        vertical-align: top;\n",
       "    }\n",
       "\n",
       "    .dataframe thead th {\n",
       "        text-align: right;\n",
       "    }\n",
       "</style>\n",
       "<table border=\"1\" class=\"dataframe\">\n",
       "  <thead>\n",
       "    <tr style=\"text-align: right;\">\n",
       "      <th></th>\n",
       "      <th>variable_params</th>\n",
       "      <th>accuracy</th>\n",
       "    </tr>\n",
       "  </thead>\n",
       "  <tbody>\n",
       "    <tr>\n",
       "      <th>day_d, department_d, team_size, incentive_cat</th>\n",
       "      <td>{'max_depth': 3}</td>\n",
       "      <td>56.9</td>\n",
       "    </tr>\n",
       "    <tr>\n",
       "      <th>department_d, team_size</th>\n",
       "      <td>{'max_depth': 3}</td>\n",
       "      <td>56.9</td>\n",
       "    </tr>\n",
       "    <tr>\n",
       "      <th>team_size, incentive_cat</th>\n",
       "      <td>{'max_depth': 3}</td>\n",
       "      <td>56.9</td>\n",
       "    </tr>\n",
       "    <tr>\n",
       "      <th>no_of_style_change, winter, team_size</th>\n",
       "      <td>{'max_depth': 3}</td>\n",
       "      <td>56.9</td>\n",
       "    </tr>\n",
       "    <tr>\n",
       "      <th>no_of_style_change, winter, day_d, team_size</th>\n",
       "      <td>{'max_depth': 3}</td>\n",
       "      <td>56.9</td>\n",
       "    </tr>\n",
       "    <tr>\n",
       "      <th>no_of_style_change, day_d, team_size</th>\n",
       "      <td>{'max_depth': 3}</td>\n",
       "      <td>56.9</td>\n",
       "    </tr>\n",
       "    <tr>\n",
       "      <th>winter, department_d, team_size, incentive_cat</th>\n",
       "      <td>{'max_depth': 3}</td>\n",
       "      <td>56.9</td>\n",
       "    </tr>\n",
       "    <tr>\n",
       "      <th>no_of_style_change, department_d, team_size</th>\n",
       "      <td>{'max_depth': 3}</td>\n",
       "      <td>56.9</td>\n",
       "    </tr>\n",
       "    <tr>\n",
       "      <th>winter, day_d, team_size, incentive_cat</th>\n",
       "      <td>{'max_depth': 3}</td>\n",
       "      <td>56.9</td>\n",
       "    </tr>\n",
       "    <tr>\n",
       "      <th>no_of_style_change, team_size, incentive_cat</th>\n",
       "      <td>{'max_depth': 3}</td>\n",
       "      <td>56.9</td>\n",
       "    </tr>\n",
       "  </tbody>\n",
       "</table>\n",
       "</div>"
      ],
      "text/plain": [
       "                                                 variable_params  accuracy\n",
       "day_d, department_d, team_size, incentive_cat   {'max_depth': 3}      56.9\n",
       "department_d, team_size                         {'max_depth': 3}      56.9\n",
       "team_size, incentive_cat                        {'max_depth': 3}      56.9\n",
       "no_of_style_change, winter, team_size           {'max_depth': 3}      56.9\n",
       "no_of_style_change, winter, day_d, team_size    {'max_depth': 3}      56.9\n",
       "no_of_style_change, day_d, team_size            {'max_depth': 3}      56.9\n",
       "winter, department_d, team_size, incentive_cat  {'max_depth': 3}      56.9\n",
       "no_of_style_change, department_d, team_size     {'max_depth': 3}      56.9\n",
       "winter, day_d, team_size, incentive_cat         {'max_depth': 3}      56.9\n",
       "no_of_style_change, team_size, incentive_cat    {'max_depth': 3}      56.9"
      ]
     },
     "execution_count": 199,
     "metadata": {},
     "output_type": "execute_result"
    }
   ],
   "source": [
    "classes_1_results = {} \n",
    "\n",
    "for i, feats in enumerate(combinations):\n",
    "    X = df2[feats]\n",
    "    classes_1_results[i] = gridcv_results(X, y_1, parameters)\n",
    "\n",
    "results_df_1 = pd.DataFrame(\n",
    "    {\n",
    "        'variable_params': [classes_1_results[key][1] for key in classes_1_results],\n",
    "        'accuracy': [classes_1_results[key][2] for key in classes_1_results],\n",
    "    },\n",
    "    index=[', '.join(comb) for comb in combinations],\n",
    ")\n",
    "\n",
    "results_df_1 = results_df_1.sort_values('accuracy', ascending=False)\n",
    "\n",
    "results_df_1.head(10)"
   ]
  },
  {
   "cell_type": "code",
   "execution_count": 99,
   "metadata": {},
   "outputs": [
    {
     "data": {
      "text/plain": [
       "{'max_depth': 3, 'min_samples_split': 2}    102\n",
       "{'max_depth': 3, 'min_samples_split': 8}      8\n",
       "{'max_depth': 4, 'min_samples_split': 8}      8\n",
       "{'max_depth': 4, 'min_samples_split': 2}      8\n",
       "Name: variable_params, dtype: int64"
      ]
     },
     "execution_count": 99,
     "metadata": {},
     "output_type": "execute_result"
    }
   ],
   "source": [
    "results_df_1.variable_params.value_counts()\n"
   ]
  },
  {
   "cell_type": "markdown",
   "metadata": {},
   "source": [
    "#### Estimations for the target variable `classes_2`."
   ]
  },
  {
   "cell_type": "code",
   "execution_count": 70,
   "metadata": {},
   "outputs": [
    {
     "data": {
      "text/html": [
       "<div>\n",
       "<style scoped>\n",
       "    .dataframe tbody tr th:only-of-type {\n",
       "        vertical-align: middle;\n",
       "    }\n",
       "\n",
       "    .dataframe tbody tr th {\n",
       "        vertical-align: top;\n",
       "    }\n",
       "\n",
       "    .dataframe thead th {\n",
       "        text-align: right;\n",
       "    }\n",
       "</style>\n",
       "<table border=\"1\" class=\"dataframe\">\n",
       "  <thead>\n",
       "    <tr style=\"text-align: right;\">\n",
       "      <th></th>\n",
       "      <th>variable_params</th>\n",
       "      <th>accuracy</th>\n",
       "    </tr>\n",
       "  </thead>\n",
       "  <tbody>\n",
       "    <tr>\n",
       "      <th>day_d, department_d, team_size, incentive_cat</th>\n",
       "      <td>{'max_depth': 3}</td>\n",
       "      <td>50.31</td>\n",
       "    </tr>\n",
       "    <tr>\n",
       "      <th>no_of_style_change, winter, day_d, team_size, incentive_cat</th>\n",
       "      <td>{'max_depth': 3}</td>\n",
       "      <td>50.31</td>\n",
       "    </tr>\n",
       "    <tr>\n",
       "      <th>no_of_style_change, winter, day_d, department_d, team_size</th>\n",
       "      <td>{'max_depth': 3}</td>\n",
       "      <td>50.31</td>\n",
       "    </tr>\n",
       "    <tr>\n",
       "      <th>no_of_style_change, winter, team_size</th>\n",
       "      <td>{'max_depth': 3}</td>\n",
       "      <td>50.31</td>\n",
       "    </tr>\n",
       "    <tr>\n",
       "      <th>no_of_style_change, winter, department_d, team_size</th>\n",
       "      <td>{'max_depth': 3}</td>\n",
       "      <td>50.31</td>\n",
       "    </tr>\n",
       "    <tr>\n",
       "      <th>no_of_style_change, day_d, team_size</th>\n",
       "      <td>{'max_depth': 3}</td>\n",
       "      <td>50.31</td>\n",
       "    </tr>\n",
       "    <tr>\n",
       "      <th>winter, department_d, team_size, incentive_cat</th>\n",
       "      <td>{'max_depth': 3}</td>\n",
       "      <td>50.31</td>\n",
       "    </tr>\n",
       "    <tr>\n",
       "      <th>no_of_style_change, department_d, team_size</th>\n",
       "      <td>{'max_depth': 3}</td>\n",
       "      <td>50.31</td>\n",
       "    </tr>\n",
       "    <tr>\n",
       "      <th>winter, day_d, team_size, incentive_cat</th>\n",
       "      <td>{'max_depth': 3}</td>\n",
       "      <td>50.31</td>\n",
       "    </tr>\n",
       "    <tr>\n",
       "      <th>no_of_style_change, team_size, incentive_cat</th>\n",
       "      <td>{'max_depth': 3}</td>\n",
       "      <td>50.31</td>\n",
       "    </tr>\n",
       "  </tbody>\n",
       "</table>\n",
       "</div>"
      ],
      "text/plain": [
       "                                                     variable_params  accuracy\n",
       "day_d, department_d, team_size, incentive_cat       {'max_depth': 3}     50.31\n",
       "no_of_style_change, winter, day_d, team_size, i...  {'max_depth': 3}     50.31\n",
       "no_of_style_change, winter, day_d, department_d...  {'max_depth': 3}     50.31\n",
       "no_of_style_change, winter, team_size               {'max_depth': 3}     50.31\n",
       "no_of_style_change, winter, department_d, team_...  {'max_depth': 3}     50.31\n",
       "no_of_style_change, day_d, team_size                {'max_depth': 3}     50.31\n",
       "winter, department_d, team_size, incentive_cat      {'max_depth': 3}     50.31\n",
       "no_of_style_change, department_d, team_size         {'max_depth': 3}     50.31\n",
       "winter, day_d, team_size, incentive_cat             {'max_depth': 3}     50.31\n",
       "no_of_style_change, team_size, incentive_cat        {'max_depth': 3}     50.31"
      ]
     },
     "execution_count": 70,
     "metadata": {},
     "output_type": "execute_result"
    }
   ],
   "source": [
    "classes_2_results = {} \n",
    "\n",
    "for i, feats in enumerate(combinations):\n",
    "    X = df2[feats]\n",
    "    classes_2_results[i] = gridcv_results(X, y_2, parameters)\n",
    "\n",
    "results_df_2 = pd.DataFrame(\n",
    "    {\n",
    "        'variable_params': [classes_2_results[key][1] for key in classes_2_results],\n",
    "        'accuracy': [classes_2_results[key][2] for key in classes_2_results],\n",
    "    },\n",
    "    index=[', '.join(comb) for comb in combinations],\n",
    ")\n",
    "\n",
    "results_df_2 = results_df_2.sort_values('accuracy', ascending=False)\n",
    "\n",
    "results_df_2.head(10)"
   ]
  },
  {
   "cell_type": "code",
   "execution_count": null,
   "metadata": {},
   "outputs": [],
   "source": []
  },
  {
   "cell_type": "markdown",
   "metadata": {},
   "source": [
    "#### Estimations for the target variable `classes_3`."
   ]
  },
  {
   "cell_type": "code",
   "execution_count": 71,
   "metadata": {},
   "outputs": [
    {
     "data": {
      "text/html": [
       "<div>\n",
       "<style scoped>\n",
       "    .dataframe tbody tr th:only-of-type {\n",
       "        vertical-align: middle;\n",
       "    }\n",
       "\n",
       "    .dataframe tbody tr th {\n",
       "        vertical-align: top;\n",
       "    }\n",
       "\n",
       "    .dataframe thead th {\n",
       "        text-align: right;\n",
       "    }\n",
       "</style>\n",
       "<table border=\"1\" class=\"dataframe\">\n",
       "  <thead>\n",
       "    <tr style=\"text-align: right;\">\n",
       "      <th></th>\n",
       "      <th>variable_params</th>\n",
       "      <th>accuracy</th>\n",
       "    </tr>\n",
       "  </thead>\n",
       "  <tbody>\n",
       "    <tr>\n",
       "      <th>no_of_style_change, winter, team_size</th>\n",
       "      <td>{'max_depth': 3}</td>\n",
       "      <td>45.62</td>\n",
       "    </tr>\n",
       "    <tr>\n",
       "      <th>winter, team_size, incentive_cat</th>\n",
       "      <td>{'max_depth': 3}</td>\n",
       "      <td>45.62</td>\n",
       "    </tr>\n",
       "    <tr>\n",
       "      <th>winter, team_size</th>\n",
       "      <td>{'max_depth': 3}</td>\n",
       "      <td>45.62</td>\n",
       "    </tr>\n",
       "    <tr>\n",
       "      <th>no_of_style_change, team_size, incentive_cat</th>\n",
       "      <td>{'max_depth': 3}</td>\n",
       "      <td>45.62</td>\n",
       "    </tr>\n",
       "    <tr>\n",
       "      <th>department_d, team_size, incentive_cat</th>\n",
       "      <td>{'max_depth': 3}</td>\n",
       "      <td>45.62</td>\n",
       "    </tr>\n",
       "    <tr>\n",
       "      <th>department_d, team_size</th>\n",
       "      <td>{'max_depth': 3}</td>\n",
       "      <td>45.62</td>\n",
       "    </tr>\n",
       "    <tr>\n",
       "      <th>no_of_style_change, department_d, team_size</th>\n",
       "      <td>{'max_depth': 3}</td>\n",
       "      <td>45.62</td>\n",
       "    </tr>\n",
       "    <tr>\n",
       "      <th>no_of_style_change, team_size</th>\n",
       "      <td>{'max_depth': 3}</td>\n",
       "      <td>45.62</td>\n",
       "    </tr>\n",
       "    <tr>\n",
       "      <th>no_of_style_change, winter, department_d, team_size</th>\n",
       "      <td>{'max_depth': 3}</td>\n",
       "      <td>45.62</td>\n",
       "    </tr>\n",
       "    <tr>\n",
       "      <th>no_of_style_change, winter, team_size, incentive_cat</th>\n",
       "      <td>{'max_depth': 3}</td>\n",
       "      <td>45.62</td>\n",
       "    </tr>\n",
       "  </tbody>\n",
       "</table>\n",
       "</div>"
      ],
      "text/plain": [
       "                                                     variable_params  accuracy\n",
       "no_of_style_change, winter, team_size               {'max_depth': 3}     45.62\n",
       "winter, team_size, incentive_cat                    {'max_depth': 3}     45.62\n",
       "winter, team_size                                   {'max_depth': 3}     45.62\n",
       "no_of_style_change, team_size, incentive_cat        {'max_depth': 3}     45.62\n",
       "department_d, team_size, incentive_cat              {'max_depth': 3}     45.62\n",
       "department_d, team_size                             {'max_depth': 3}     45.62\n",
       "no_of_style_change, department_d, team_size         {'max_depth': 3}     45.62\n",
       "no_of_style_change, team_size                       {'max_depth': 3}     45.62\n",
       "no_of_style_change, winter, department_d, team_...  {'max_depth': 3}     45.62\n",
       "no_of_style_change, winter, team_size, incentiv...  {'max_depth': 3}     45.62"
      ]
     },
     "execution_count": 71,
     "metadata": {},
     "output_type": "execute_result"
    }
   ],
   "source": [
    "classes_3_results = {} \n",
    "\n",
    "for i, feats in enumerate(combinations):\n",
    "    X = df2[feats]\n",
    "    classes_3_results[i] = gridcv_results(X, y_3, parameters)\n",
    "\n",
    "results_df_3 = pd.DataFrame(\n",
    "    {\n",
    "        'variable_params': [classes_3_results[key][1] for key in classes_3_results],\n",
    "        'accuracy': [classes_3_results[key][2] for key in classes_3_results],\n",
    "    },\n",
    "    index=[', '.join(comb) for comb in combinations],\n",
    ")\n",
    "\n",
    "results_df_3 = results_df_3.sort_values('accuracy', ascending=False)\n",
    "\n",
    "results_df_3.head(10)\n"
   ]
  },
  {
   "cell_type": "markdown",
   "metadata": {},
   "source": [
    "**`tree_1` visualization - relative to model 1 (target: `classes_1`)**"
   ]
  },
  {
   "cell_type": "code",
   "execution_count": 145,
   "metadata": {},
   "outputs": [
    {
     "data": {
      "image/png": "[encoded data removed]",
      "text/plain": [
       "<Figure size 1728x576 with 1 Axes>"
      ]
     },
     "metadata": {
      "needs_background": "light"
     },
     "output_type": "display_data"
    }
   ],
   "source": [
    "best_tree_1 = classes_1_results[0][0]\n",
    "\n",
    "plt.figure(figsize = [24.0, 8.0])\n",
    "\n",
    "tree_graph = plot_tree(\n",
    "    best_tree_1,\n",
    "    feature_names = results_df_1.index[0].split(', '),\n",
    "    class_names = best_tree_1.classes_,\n",
    "    filled = True,\n",
    "    proportion = False,\n",
    "    precision = 3,\n",
    "    rounded = True,\n",
    "    fontsize = 11)\n",
    "\n",
    "plt.show()"
   ]
  },
  {
   "cell_type": "markdown",
   "metadata": {},
   "source": [
    "As we can see, because this tree was design with few restrictions it grew to the point that it become illegible. \n",
    "\n",
    "#### Accuracy comparison between models for the decision tree classifier."
   ]
  },
  {
   "cell_type": "code",
   "execution_count": 38,
   "metadata": {},
   "outputs": [
    {
     "name": "stdout",
     "output_type": "stream",
     "text": [
      "Model 1 (\"classes_1\"): 69.1%\n",
      "Model 2 (\"classes_2\"): 53.06%\n"
     ]
    }
   ],
   "source": [
    "print(f'Model 1 (\"classes_1\"): {get_accuracy_tree(X, y_1)[1]}%')\n",
    "print(f'Model 2 (\"classes_2\"): {get_accuracy_tree(X, y_2)[1]}%')"
   ]
  },
  {
   "cell_type": "markdown",
   "metadata": {},
   "source": [
    "## Building A Random Forest Classifier\n",
    "---\n",
    "Now, that we have scores for two tree classifiers we can assess their robustness against a forest classifier."
   ]
  },
  {
   "cell_type": "code",
   "execution_count": 84,
   "metadata": {},
   "outputs": [],
   "source": [
    "from sklearn.ensemble import RandomForestClassifier\n",
    "\n",
    "\n",
    "def get_accuracy_forest(X, y): \n",
    "    \n",
    "    X_train, X_test, y_train, y_test = split(\n",
    "        X,\n",
    "        y,\n",
    "        test_size=0.3,\n",
    "        random_state=22333,\n",
    "        shuffle=True\n",
    "        )\n",
    "    \n",
    "    classifier = RandomForestClassifier(\n",
    "        n_estimators=100,\n",
    "        criterion='entropy',\n",
    "        max_depth=None,\n",
    "        max_features=None, \n",
    "        bootstrap=True,\n",
    "        oob_score=False,\n",
    "        n_jobs=-1,\n",
    "        random_state=4937\n",
    "        )\n",
    "\n",
    "    forest = classifier.fit(X_train, y_train)\n",
    "\n",
    "    accuracy = forest.score(X_test, y_test)*100\n",
    "    \n",
    "    return (forest, round(accuracy, 2))"
   ]
  },
  {
   "cell_type": "markdown",
   "metadata": {},
   "source": [
    "#### Accuracy comparison between models for the random forest classifier."
   ]
  },
  {
   "cell_type": "code",
   "execution_count": 85,
   "metadata": {},
   "outputs": [
    {
     "name": "stdout",
     "output_type": "stream",
     "text": [
      "Model 1 (\"classes_1\"): 53.18%\n",
      "Model 2 (\"classes_2\"): 45.95%\n",
      "Model 3 (\"classes_3\"): 43.64%\n"
     ]
    }
   ],
   "source": [
    "print(f'Model 1 (\"classes_1\"): {get_accuracy_forest(X, y_1)[1]}%')\n",
    "print(f'Model 2 (\"classes_2\"): {get_accuracy_forest(X, y_2)[1]}%')\n",
    "print(f'Model 3 (\"classes_3\"): {get_accuracy_forest(X, y_3)[1]}%')"
   ]
  },
  {
   "cell_type": "markdown",
   "metadata": {},
   "source": [
    "## Conclusion\n",
    "---\n",
    "We were able to predict the productivity class of a garments factory worker, presumably in Bangladesh, with an accuracy around 70% when we use a simpler classification spectrum (`classes_1`) - 'below', 'on par' and 'above' expected productivity. Expectably, the accuracy level decreased substantially (down to 56%) when we increased the complexity of that classification (`classes_2`). In order to to improve both the readability/interpretability and the accuracy of the classifier, we can try to limit the number of variables fitted into the model, namely those related with the season of the year, or to restrict the depth and portion of observations by leave."
   ]
  }
 ],
 "metadata": {
  "hide_input": false,
  "kernelspec": {
   "display_name": "Python 3",
   "language": "python",
   "name": "python3"
  },
  "language_info": {
   "codemirror_mode": {
    "name": "ipython",
    "version": 3
   },
   "file_extension": ".py",
   "mimetype": "text/x-python",
   "name": "python",
   "nbconvert_exporter": "python",
   "pygments_lexer": "ipython3",
   "version": "3.9.2"
  },
  "varInspector": {
   "cols": {
    "lenName": 16,
    "lenType": 16,
    "lenVar": 40
   },
   "kernels_config": {
    "python": {
     "delete_cmd_postfix": "",
     "delete_cmd_prefix": "del ",
     "library": "var_list.py",
     "varRefreshCmd": "print(var_dic_list())"
    },
    "r": {
     "delete_cmd_postfix": ") ",
     "delete_cmd_prefix": "rm(",
     "library": "var_list.r",
     "varRefreshCmd": "cat(var_dic_list()) "
    }
   },
   "position": {
    "height": "544.85px",
    "left": "728.667px",
    "right": "20px",
    "top": "-1px",
    "width": "800px"
   },
   "types_to_exclude": [
    "module",
    "function",
    "builtin_function_or_method",
    "instance",
    "_Feature"
   ],
   "window_display": false
  }
 },
 "nbformat": 4,
 "nbformat_minor": 4
}
